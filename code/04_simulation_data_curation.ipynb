{
 "cells": [
  {
   "cell_type": "markdown",
   "id": "49e8bae9",
   "metadata": {},
   "source": [
    "# Libraries"
   ]
  },
  {
   "cell_type": "code",
   "execution_count": 1,
   "id": "f8bc7e1f",
   "metadata": {},
   "outputs": [],
   "source": [
    "import matplotlib.pyplot as plt\n",
    "import os\n",
    "import pandas as pd\n",
    "import seaborn as sns\n",
    "import warnings\n",
    "\n",
    "from pandas.errors import SettingWithCopyWarning\n",
    "from scipy.signal import find_peaks\n",
    "from utils import *\n",
    "\n",
    "warnings.simplefilter(action=\"ignore\", category=SettingWithCopyWarning)\n",
    "\n",
    "%matplotlib inline"
   ]
  },
  {
   "cell_type": "markdown",
   "id": "11e5b50c",
   "metadata": {},
   "source": [
    "# Data import"
   ]
  },
  {
   "cell_type": "markdown",
   "id": "b1aa71e8",
   "metadata": {},
   "source": [
    "## Antibody pair sequence dataframes"
   ]
  },
  {
   "cell_type": "code",
   "execution_count": 2,
   "id": "6ff60b6a",
   "metadata": {},
   "outputs": [
    {
     "data": {
      "text/html": [
       "<div>\n",
       "<style scoped>\n",
       "    .dataframe tbody tr th:only-of-type {\n",
       "        vertical-align: middle;\n",
       "    }\n",
       "\n",
       "    .dataframe tbody tr th {\n",
       "        vertical-align: top;\n",
       "    }\n",
       "\n",
       "    .dataframe thead th {\n",
       "        text-align: right;\n",
       "    }\n",
       "</style>\n",
       "<table border=\"1\" class=\"dataframe\">\n",
       "  <thead>\n",
       "    <tr style=\"text-align: right;\">\n",
       "      <th></th>\n",
       "      <th>Epitope_ID</th>\n",
       "      <th>Antibody_seq_V_heavy</th>\n",
       "      <th>Gene_name_V_heavy</th>\n",
       "      <th>Gene_seq_V_heavy</th>\n",
       "      <th>Fraction_match_V_heavy</th>\n",
       "      <th>Mutation_num_V_heavy</th>\n",
       "      <th>Mismatch_list_V_heavy</th>\n",
       "      <th>Antibody_nucleotide_seq_V_heavy</th>\n",
       "      <th>Likelihood_V_heavy</th>\n",
       "      <th>Mutation_num_nucleotide_V_heavy</th>\n",
       "      <th>...</th>\n",
       "      <th>Gene_seq_J_light</th>\n",
       "      <th>Fraction_match_J_light</th>\n",
       "      <th>Mutation_num_J_light</th>\n",
       "      <th>Mismatch_list_J_light</th>\n",
       "      <th>Antibody_nucleotide_seq_J_light</th>\n",
       "      <th>Likelihood_J_light</th>\n",
       "      <th>Mutation_num_nucleotide_J_light</th>\n",
       "      <th>CDRL3_nucleotide_seq</th>\n",
       "      <th>CDRL3</th>\n",
       "      <th>Full_nucleotide_seq_light</th>\n",
       "    </tr>\n",
       "  </thead>\n",
       "  <tbody>\n",
       "    <tr>\n",
       "      <th>0</th>\n",
       "      <td>2218457</td>\n",
       "      <td>VQLVESGGGLIQPGGSLRLSCAASGITVSSNYMTWVRQPPGKGLEW...</td>\n",
       "      <td>IGHV3-53*01</td>\n",
       "      <td>EVQLVESGGGLIQPGGSLRLSCAASGFTVSSNYMSWVRQAPGKGLE...</td>\n",
       "      <td>92.631579</td>\n",
       "      <td>7.0</td>\n",
       "      <td>{0: ('E', '-'), 26: ('F', 'I'), 34: ('S', 'T')...</td>\n",
       "      <td>GTGCAGCTGGTGGAGTCTGGAGGAGGCTTGATCCAGCCTGGGGGGT...</td>\n",
       "      <td>0.318278</td>\n",
       "      <td>6</td>\n",
       "      <td>...</td>\n",
       "      <td>FGGGTKVEIK</td>\n",
       "      <td>90.0</td>\n",
       "      <td>1.0</td>\n",
       "      <td>{5: ('K', 'R')}</td>\n",
       "      <td>TTCGGCGGAGGGACCAGGGTGGAGATCAAA</td>\n",
       "      <td>0.450100</td>\n",
       "      <td>1</td>\n",
       "      <td>TGTCAGCACCTGAACGACTACCCCCTG</td>\n",
       "      <td>QHLNDYPL</td>\n",
       "      <td>ATCCAGTTGACCCAGTCTCCATCCTTCCTGTCTGCATCTGTAGGAG...</td>\n",
       "    </tr>\n",
       "    <tr>\n",
       "      <th>1</th>\n",
       "      <td>2218456</td>\n",
       "      <td>EVQLVESGGGLIQPGGSLRLSCVVSGFTVSSNYMSWIRQAPGKGLE...</td>\n",
       "      <td>IGHV3-53*01</td>\n",
       "      <td>EVQLVESGGGLIQPGGSLRLSCAASGFTVSSNYMSWVRQAPGKGLE...</td>\n",
       "      <td>93.684211</td>\n",
       "      <td>6.0</td>\n",
       "      <td>{22: ('A', 'V'), 23: ('A', 'V'), 36: ('V', 'I'...</td>\n",
       "      <td>GAGGTGCAGCTGGTGGAGTCTGGAGGAGGCTTGATCCAGCCTGGGG...</td>\n",
       "      <td>0.378301</td>\n",
       "      <td>6</td>\n",
       "      <td>...</td>\n",
       "      <td>FGGGTKVEIK</td>\n",
       "      <td>100.0</td>\n",
       "      <td>0.0</td>\n",
       "      <td>{}</td>\n",
       "      <td>TTCGGCGGAGGGACCAAGGTGGAGATCAAA</td>\n",
       "      <td>1.000000</td>\n",
       "      <td>0</td>\n",
       "      <td>TGTCAGCAGTACGACAACCTGCCCCTGACC</td>\n",
       "      <td>QQYDNLPLT</td>\n",
       "      <td>GACATCCAGATGACCCAGTCTCCATCCCCCCTGTCTGCATCTGTAG...</td>\n",
       "    </tr>\n",
       "    <tr>\n",
       "      <th>2</th>\n",
       "      <td>2217933</td>\n",
       "      <td>EVQLVESGGGLVQPGGSLRLSCAASGITVSSNYMTWVRQAPGKGLE...</td>\n",
       "      <td>IGHV3-66*01</td>\n",
       "      <td>EVQLVESGGGLVQPGGSLRLSCAASGFTVSSNYMSWVRQAPGKGLE...</td>\n",
       "      <td>95.789474</td>\n",
       "      <td>4.0</td>\n",
       "      <td>{26: ('F', 'I'), 34: ('S', 'T'), 57: ('Y', 'F'...</td>\n",
       "      <td>GAGGTGCAGCTGGTGGAGTCTGGGGGAGGCTTGGTCCAGCCTGGGG...</td>\n",
       "      <td>0.270716</td>\n",
       "      <td>4</td>\n",
       "      <td>...</td>\n",
       "      <td>FGQGTKLEIK</td>\n",
       "      <td>100.0</td>\n",
       "      <td>0.0</td>\n",
       "      <td>{}</td>\n",
       "      <td>TTTGGCCAGGGGACCAAGCTGGAGATCAAA</td>\n",
       "      <td>1.000000</td>\n",
       "      <td>0</td>\n",
       "      <td>TGTCAGCAGTACGGCAGCAGCTACACC</td>\n",
       "      <td>QQYGSSYT</td>\n",
       "      <td>GAAATTGTGTTGACGCAGTCTCCAGGCACCCTGTCTTTGTCTCCAG...</td>\n",
       "    </tr>\n",
       "    <tr>\n",
       "      <th>3</th>\n",
       "      <td>2186582</td>\n",
       "      <td>EVQLVQSGGDLVQPGGSLRLSCAVSGFTVSRNYMTWVRQAPGRGLE...</td>\n",
       "      <td>IGHV3-66*01</td>\n",
       "      <td>EVQLVESGGGLVQPGGSLRLSCAASGFTVSSNYMSWVRQAPGKGLE...</td>\n",
       "      <td>88.421053</td>\n",
       "      <td>11.0</td>\n",
       "      <td>{5: ('E', 'Q'), 9: ('G', 'D'), 23: ('A', 'V'),...</td>\n",
       "      <td>GAGGTGCAGCTGGTGCAGTCTGGGGGAGACTTGGTCCAGCCTGGGG...</td>\n",
       "      <td>0.428361</td>\n",
       "      <td>12</td>\n",
       "      <td>...</td>\n",
       "      <td>FGQGTKVEIK</td>\n",
       "      <td>90.0</td>\n",
       "      <td>1.0</td>\n",
       "      <td>{8: ('I', 'L')}</td>\n",
       "      <td>TTCGGCCAAGGGACCAAGGTGGAACTCAAA</td>\n",
       "      <td>0.270936</td>\n",
       "      <td>1</td>\n",
       "      <td>TGTCACCAGTACGACAACCTGCCCAGGACC</td>\n",
       "      <td>HQYDNLPRT</td>\n",
       "      <td>GACATCCAGATGACCCAGTCTCCATCCGCCCTGTCTGCATCTGTAG...</td>\n",
       "    </tr>\n",
       "    <tr>\n",
       "      <th>4</th>\n",
       "      <td>2144729</td>\n",
       "      <td>EVQLVESGGGLVQPGGSLRLSCAASGFTVRSNYMSWVRQAPGKGLE...</td>\n",
       "      <td>IGHV3-66*01</td>\n",
       "      <td>EVQLVESGGGLVQPGGSLRLSCAASGFTVSSNYMSWVRQAPGKGLE...</td>\n",
       "      <td>96.842105</td>\n",
       "      <td>3.0</td>\n",
       "      <td>{29: ('S', 'R'), 49: ('V', 'L'), 67: ('T', 'I')}</td>\n",
       "      <td>GAGGTGCAGCTGGTGGAGTCTGGGGGAGGCTTGGTCCAGCCTGGGG...</td>\n",
       "      <td>0.380967</td>\n",
       "      <td>3</td>\n",
       "      <td>...</td>\n",
       "      <td>FGQGTRLEIK</td>\n",
       "      <td>100.0</td>\n",
       "      <td>0.0</td>\n",
       "      <td>{}</td>\n",
       "      <td>TTCGGCCAAGGGACACGACTGGAGATTAAA</td>\n",
       "      <td>1.000000</td>\n",
       "      <td>0</td>\n",
       "      <td>TGTCAGCAGCTGAACAACTACCCCCCCGTGACC</td>\n",
       "      <td>QQLNNYPPVT</td>\n",
       "      <td>GACATCCAGTTGACCCAGTCTCCATCCTTCCTGTCTGCATCTGTAG...</td>\n",
       "    </tr>\n",
       "  </tbody>\n",
       "</table>\n",
       "<p>5 rows × 43 columns</p>\n",
       "</div>"
      ],
      "text/plain": [
       "   Epitope_ID                               Antibody_seq_V_heavy  \\\n",
       "0     2218457  VQLVESGGGLIQPGGSLRLSCAASGITVSSNYMTWVRQPPGKGLEW...   \n",
       "1     2218456  EVQLVESGGGLIQPGGSLRLSCVVSGFTVSSNYMSWIRQAPGKGLE...   \n",
       "2     2217933  EVQLVESGGGLVQPGGSLRLSCAASGITVSSNYMTWVRQAPGKGLE...   \n",
       "3     2186582  EVQLVQSGGDLVQPGGSLRLSCAVSGFTVSRNYMTWVRQAPGRGLE...   \n",
       "4     2144729  EVQLVESGGGLVQPGGSLRLSCAASGFTVRSNYMSWVRQAPGKGLE...   \n",
       "\n",
       "  Gene_name_V_heavy                                   Gene_seq_V_heavy  \\\n",
       "0       IGHV3-53*01  EVQLVESGGGLIQPGGSLRLSCAASGFTVSSNYMSWVRQAPGKGLE...   \n",
       "1       IGHV3-53*01  EVQLVESGGGLIQPGGSLRLSCAASGFTVSSNYMSWVRQAPGKGLE...   \n",
       "2       IGHV3-66*01  EVQLVESGGGLVQPGGSLRLSCAASGFTVSSNYMSWVRQAPGKGLE...   \n",
       "3       IGHV3-66*01  EVQLVESGGGLVQPGGSLRLSCAASGFTVSSNYMSWVRQAPGKGLE...   \n",
       "4       IGHV3-66*01  EVQLVESGGGLVQPGGSLRLSCAASGFTVSSNYMSWVRQAPGKGLE...   \n",
       "\n",
       "   Fraction_match_V_heavy  Mutation_num_V_heavy  \\\n",
       "0               92.631579                   7.0   \n",
       "1               93.684211                   6.0   \n",
       "2               95.789474                   4.0   \n",
       "3               88.421053                  11.0   \n",
       "4               96.842105                   3.0   \n",
       "\n",
       "                               Mismatch_list_V_heavy  \\\n",
       "0  {0: ('E', '-'), 26: ('F', 'I'), 34: ('S', 'T')...   \n",
       "1  {22: ('A', 'V'), 23: ('A', 'V'), 36: ('V', 'I'...   \n",
       "2  {26: ('F', 'I'), 34: ('S', 'T'), 57: ('Y', 'F'...   \n",
       "3  {5: ('E', 'Q'), 9: ('G', 'D'), 23: ('A', 'V'),...   \n",
       "4   {29: ('S', 'R'), 49: ('V', 'L'), 67: ('T', 'I')}   \n",
       "\n",
       "                     Antibody_nucleotide_seq_V_heavy  Likelihood_V_heavy  \\\n",
       "0  GTGCAGCTGGTGGAGTCTGGAGGAGGCTTGATCCAGCCTGGGGGGT...            0.318278   \n",
       "1  GAGGTGCAGCTGGTGGAGTCTGGAGGAGGCTTGATCCAGCCTGGGG...            0.378301   \n",
       "2  GAGGTGCAGCTGGTGGAGTCTGGGGGAGGCTTGGTCCAGCCTGGGG...            0.270716   \n",
       "3  GAGGTGCAGCTGGTGCAGTCTGGGGGAGACTTGGTCCAGCCTGGGG...            0.428361   \n",
       "4  GAGGTGCAGCTGGTGGAGTCTGGGGGAGGCTTGGTCCAGCCTGGGG...            0.380967   \n",
       "\n",
       "   Mutation_num_nucleotide_V_heavy  ... Gene_seq_J_light  \\\n",
       "0                                6  ...       FGGGTKVEIK   \n",
       "1                                6  ...       FGGGTKVEIK   \n",
       "2                                4  ...       FGQGTKLEIK   \n",
       "3                               12  ...       FGQGTKVEIK   \n",
       "4                                3  ...       FGQGTRLEIK   \n",
       "\n",
       "  Fraction_match_J_light Mutation_num_J_light  Mismatch_list_J_light  \\\n",
       "0                   90.0                  1.0        {5: ('K', 'R')}   \n",
       "1                  100.0                  0.0                     {}   \n",
       "2                  100.0                  0.0                     {}   \n",
       "3                   90.0                  1.0        {8: ('I', 'L')}   \n",
       "4                  100.0                  0.0                     {}   \n",
       "\n",
       "   Antibody_nucleotide_seq_J_light Likelihood_J_light  \\\n",
       "0   TTCGGCGGAGGGACCAGGGTGGAGATCAAA           0.450100   \n",
       "1   TTCGGCGGAGGGACCAAGGTGGAGATCAAA           1.000000   \n",
       "2   TTTGGCCAGGGGACCAAGCTGGAGATCAAA           1.000000   \n",
       "3   TTCGGCCAAGGGACCAAGGTGGAACTCAAA           0.270936   \n",
       "4   TTCGGCCAAGGGACACGACTGGAGATTAAA           1.000000   \n",
       "\n",
       "  Mutation_num_nucleotide_J_light               CDRL3_nucleotide_seq  \\\n",
       "0                               1        TGTCAGCACCTGAACGACTACCCCCTG   \n",
       "1                               0     TGTCAGCAGTACGACAACCTGCCCCTGACC   \n",
       "2                               0        TGTCAGCAGTACGGCAGCAGCTACACC   \n",
       "3                               1     TGTCACCAGTACGACAACCTGCCCAGGACC   \n",
       "4                               0  TGTCAGCAGCTGAACAACTACCCCCCCGTGACC   \n",
       "\n",
       "        CDRL3                          Full_nucleotide_seq_light  \n",
       "0    QHLNDYPL  ATCCAGTTGACCCAGTCTCCATCCTTCCTGTCTGCATCTGTAGGAG...  \n",
       "1   QQYDNLPLT  GACATCCAGATGACCCAGTCTCCATCCCCCCTGTCTGCATCTGTAG...  \n",
       "2    QQYGSSYT  GAAATTGTGTTGACGCAGTCTCCAGGCACCCTGTCTTTGTCTCCAG...  \n",
       "3   HQYDNLPRT  GACATCCAGATGACCCAGTCTCCATCCGCCCTGTCTGCATCTGTAG...  \n",
       "4  QQLNNYPPVT  GACATCCAGTTGACCCAGTCTCCATCCTTCCTGTCTGCATCTGTAG...  \n",
       "\n",
       "[5 rows x 43 columns]"
      ]
     },
     "execution_count": 2,
     "metadata": {},
     "output_type": "execute_result"
    }
   ],
   "source": [
    "heavy_chain = pd.read_csv(os.path.dirname(os.getcwd()) + \n",
    "    \"/data/antibody_pairs/Antibody_pairs_backtranslated_heavy.csv\")\n",
    "light_chain = pd.read_csv(os.path.dirname(os.getcwd()) + \n",
    "    \"/data/antibody_pairs/Antibody_pairs_backtranslated_light.csv\")\n",
    "\n",
    "# merge heavy and light chain file into one dataframe\n",
    "both_chains = heavy_chain.merge(light_chain, on=\"Epitope_ID\", how=\"inner\", suffixes=(\"_heavy\", \"_light\"))\n",
    "both_chains[:5]"
   ]
  },
  {
   "cell_type": "markdown",
   "id": "d69835b8",
   "metadata": {},
   "source": [
    "## Example dataframe for simulation"
   ]
  },
  {
   "cell_type": "code",
   "execution_count": 3,
   "id": "eedc541c",
   "metadata": {},
   "outputs": [],
   "source": [
    "# template for simulation input dataframe\n",
    "simulation_input = pd.read_csv(os.path.dirname(os.getcwd()) + \"/data/simulation/Simulation_input_structure.tsv\", sep=\"\\t\")"
   ]
  },
  {
   "cell_type": "markdown",
   "id": "bb13a62b",
   "metadata": {},
   "source": [
    "## IGX-Cluster (antibody pairs only)"
   ]
  },
  {
   "cell_type": "code",
   "execution_count": 4,
   "id": "bc884e77",
   "metadata": {},
   "outputs": [],
   "source": [
    "cluster_full_antibody_pairs = pd.read_csv(os.path.dirname(os.getcwd()) + \"/data/clustering/IGX_Cluster_clustering_antibody_pairs.tsv\", \n",
    "    sep=\"\\t\")"
   ]
  },
  {
   "cell_type": "markdown",
   "id": "9e6df1f0",
   "metadata": {},
   "source": [
    "# Preprocessing"
   ]
  },
  {
   "cell_type": "code",
   "execution_count": 5,
   "id": "b52d8dbf",
   "metadata": {},
   "outputs": [
    {
     "name": "stdout",
     "output_type": "stream",
     "text": [
      "Germline sequences: 37\n",
      "Unique clones: 54\n",
      "54 heavy chains\n",
      "54 light chains\n"
     ]
    }
   ],
   "source": [
    "germline, cluster = separate_germline_seq(cluster_full_antibody_pairs) \n",
    "\n",
    "# remove non-productive clones\n",
    "cluster = cluster[cluster[\"Productive\"] == True]\n",
    "\n",
    "# filter for heavy and light chains\n",
    "cluster_heavy = cluster[cluster[\"Chain\"] == \"Heavy\"]\n",
    "cluster_light = cluster[cluster[\"Chain\"].isin([\"Lambda\", \"Kappa\"])]\n",
    "\n",
    "print(\"%i heavy chains\" %len(cluster_heavy))\n",
    "print(\"%i light chains\" %len(cluster_light))"
   ]
  },
  {
   "cell_type": "markdown",
   "id": "d4a98e1c",
   "metadata": {},
   "source": [
    "# Calculate somatic hypermutation rate"
   ]
  },
  {
   "cell_type": "markdown",
   "id": "94c130fa",
   "metadata": {},
   "source": [
    "### IGX-Cluster\n",
    "\n",
    "Mutation rates according to IGX Cluster are higher than manually calculated SHM rates"
   ]
  },
  {
   "cell_type": "code",
   "execution_count": 6,
   "id": "75ec0f0f",
   "metadata": {},
   "outputs": [],
   "source": [
    "mutation_numbers = []\n",
    "mutation_rates = []\n",
    "\n",
    "for clone in cluster[\"Unique Clone Id\"].unique():\n",
    "    mutation_numbers.append(cluster[cluster[\"Unique Clone Id\"] == clone][\"V & J Gene Mutations\"].sum())\n",
    "    mutation_rates.append(cluster[cluster[\"Unique Clone Id\"] == clone][\"V & J Gene SHM\"].mean()*100)"
   ]
  },
  {
   "cell_type": "markdown",
   "id": "1af113a1",
   "metadata": {},
   "source": [
    "### Correct for AbSim CDR3 mutation bias\n",
    "\n",
    "AbSim introduces SHM only in CDR regions (when using mode \"data\"). Mutation rate is underestimated by IGX as CDRH3 region is not aligned with a gene reference and not SHM count can be obtained."
   ]
  },
  {
   "cell_type": "code",
   "execution_count": 7,
   "id": "8254efa6",
   "metadata": {},
   "outputs": [
    {
     "data": {
      "text/html": [
       "<div>\n",
       "<style scoped>\n",
       "    .dataframe tbody tr th:only-of-type {\n",
       "        vertical-align: middle;\n",
       "    }\n",
       "\n",
       "    .dataframe tbody tr th {\n",
       "        vertical-align: top;\n",
       "    }\n",
       "\n",
       "    .dataframe thead th {\n",
       "        text-align: right;\n",
       "    }\n",
       "</style>\n",
       "<table border=\"1\" class=\"dataframe\">\n",
       "  <thead>\n",
       "    <tr style=\"text-align: right;\">\n",
       "      <th></th>\n",
       "      <th>V &amp; J Gene SHM</th>\n",
       "      <th>SHM corrected (lower estimate)</th>\n",
       "      <th>SHM corrected (upper estimate)</th>\n",
       "    </tr>\n",
       "  </thead>\n",
       "  <tbody>\n",
       "    <tr>\n",
       "      <th>37</th>\n",
       "      <td>0.046875</td>\n",
       "      <td>0.054844</td>\n",
       "      <td>0.100000</td>\n",
       "    </tr>\n",
       "    <tr>\n",
       "      <th>38</th>\n",
       "      <td>0.037618</td>\n",
       "      <td>0.041928</td>\n",
       "      <td>0.083595</td>\n",
       "    </tr>\n",
       "    <tr>\n",
       "      <th>39</th>\n",
       "      <td>0.021538</td>\n",
       "      <td>0.024769</td>\n",
       "      <td>0.043077</td>\n",
       "    </tr>\n",
       "    <tr>\n",
       "      <th>40</th>\n",
       "      <td>0.024691</td>\n",
       "      <td>0.028035</td>\n",
       "      <td>0.060357</td>\n",
       "    </tr>\n",
       "    <tr>\n",
       "      <th>41</th>\n",
       "      <td>0.030395</td>\n",
       "      <td>0.034347</td>\n",
       "      <td>0.056738</td>\n",
       "    </tr>\n",
       "  </tbody>\n",
       "</table>\n",
       "</div>"
      ],
      "text/plain": [
       "    V & J Gene SHM  SHM corrected (lower estimate)  \\\n",
       "37        0.046875                        0.054844   \n",
       "38        0.037618                        0.041928   \n",
       "39        0.021538                        0.024769   \n",
       "40        0.024691                        0.028035   \n",
       "41        0.030395                        0.034347   \n",
       "\n",
       "    SHM corrected (upper estimate)  \n",
       "37                        0.100000  \n",
       "38                        0.083595  \n",
       "39                        0.043077  \n",
       "40                        0.060357  \n",
       "41                        0.056738  "
      ]
     },
     "execution_count": 7,
     "metadata": {},
     "output_type": "execute_result"
    }
   ],
   "source": [
    "cluster = cluster.apply(calculate_lower_bound_estimate_of_corrected_SHM, axis=1)\n",
    "cluster = cluster.apply(calculate_upper_bound_estimate_of_corrected_SHM, axis=1)\n",
    "\n",
    "cluster[[\"V & J Gene SHM\", \"SHM corrected (lower estimate)\", \"SHM corrected (upper estimate)\"]][:5]"
   ]
  },
  {
   "cell_type": "code",
   "execution_count": 8,
   "id": "aabccb8b",
   "metadata": {},
   "outputs": [
    {
     "data": {
      "image/png": "[encoded data removed]",
      "text/plain": [
       "<Figure size 1080x360 with 3 Axes>"
      ]
     },
     "metadata": {},
     "output_type": "display_data"
    }
   ],
   "source": [
    "sns.set(style=(\"ticks\"), font_scale=1)\n",
    "fig, ax = plt.subplots(1, 3, figsize=(15,5))\n",
    "\n",
    "sns.histplot(data=cluster, x=\"V & J Gene SHM\", color=\"cornflowerblue\", ax=ax[0])\n",
    "sns.histplot(data=cluster, x=\"SHM corrected (lower estimate)\", color=\"cornflowerblue\", ax=ax[1])\n",
    "sns.histplot(data=cluster, x=\"SHM corrected (upper estimate)\", color=\"cornflowerblue\", ax=ax[2]);"
   ]
  },
  {
   "cell_type": "code",
   "execution_count": 9,
   "id": "b0a8e3ed",
   "metadata": {},
   "outputs": [],
   "source": [
    "mutation_rates = []\n",
    "\n",
    "for clone in cluster[\"Unique Clone Id\"].unique():\n",
    "    mutation_rates.append(cluster[cluster[\"Unique Clone Id\"] == clone][\"SHM corrected (upper estimate)\"].mean())"
   ]
  },
  {
   "cell_type": "code",
   "execution_count": 10,
   "id": "0e395a2e",
   "metadata": {},
   "outputs": [
    {
     "data": {
      "image/png": "[encoded data removed]",
      "text/plain": [
       "<Figure size 720x360 with 2 Axes>"
      ]
     },
     "metadata": {},
     "output_type": "display_data"
    }
   ],
   "source": [
    "sns.set(style=(\"ticks\"), font_scale=1)\n",
    "fig, ax = plt.subplots(1, 2, figsize=(10,5))\n",
    "\n",
    "sns.histplot(mutation_rates, color=\"cornflowerblue\", ax=ax[0]);\n",
    "kde_values = sns.kdeplot(mutation_rates, color=\"cornflowerblue\", ax=ax[1]).get_lines()[0].get_data()\n",
    "\n",
    "x_values, y_values = kde_values[0], kde_values[1]\n",
    "peaks, _ = find_peaks(y_values, prominence=None)\n",
    "\n",
    "ax[1].vlines(x_values[peaks[0]], ymin=0, ymax=y_values[peaks[0]], color=\"crimson\", linestyle=\"--\")\n",
    "ax[1].vlines(x_values[peaks[1]], ymin=0, ymax=y_values[peaks[1]], color=\"crimson\", linestyle=\"--\");"
   ]
  },
  {
   "cell_type": "code",
   "execution_count": 11,
   "id": "71207433",
   "metadata": {},
   "outputs": [
    {
     "name": "stdout",
     "output_type": "stream",
     "text": [
      "Peak 1 at x = 0.051, y = 12.842\n",
      "Peak 2 at x = 0.119, y = 5.083\n",
      "Ratio = 12.842 / 5.083 = 2.526\n",
      "Percentage of peak 1 SHM rate: 35.821%\n",
      "Percentage of peak 2 SHM rate: 14.179%\n"
     ]
    }
   ],
   "source": [
    "print(\"Peak 1 at x = %.3f, y = %.3f\" %(x_values[peaks[0]], y_values[peaks[0]]))\n",
    "print(\"Peak 2 at x = %.3f, y = %.3f\" %(x_values[peaks[1]], y_values[peaks[1]]))\n",
    "\n",
    "ratio = y_values[peaks[0]] / y_values[peaks[1]]\n",
    "print(\"Ratio = %.3f / %.3f = %.3f\" %(y_values[peaks[0]], y_values[peaks[1]], ratio))\n",
    "print(\"Percentage of peak 1 SHM rate: %.3f%%\" %(ratio / (ratio+1) * 50)) \n",
    "print(\"Percentage of peak 2 SHM rate: %.3f%%\" %(1 / (ratio+1) * 50)) \n",
    "# multiply by 50 because we want 50% of clones to be mutated"
   ]
  },
  {
   "cell_type": "markdown",
   "id": "76a5f287",
   "metadata": {},
   "source": [
    "# Simulation dataframe creation"
   ]
  },
  {
   "cell_type": "code",
   "execution_count": 12,
   "id": "10e8ce43",
   "metadata": {},
   "outputs": [],
   "source": [
    "simulation_df = pd.DataFrame(columns=simulation_input.columns)\n",
    "\n",
    "for i, row in both_chains.iterrows():\n",
    "\n",
    "    new_row = {\"sequence\":row[\"Full_nucleotide_seq_heavy\"], \n",
    "               \"sequence_aa\":translate_to_amino_acid(row[\"Full_nucleotide_seq_heavy\"]), \n",
    "               \"junction\":row[\"CDRH3_nucleotide_seq\"], \n",
    "               \"junction_aa\":translate_to_amino_acid(row[\"CDRH3_nucleotide_seq\"]), # only nucleotide sequence contains the C\n",
    "               \"v_call\":row[\"Gene_name_V_heavy\"],\n",
    "               \"j_call\":row[\"Gene_name_J_heavy\"],\n",
    "               \"name_repertoire\": \"Antibody_pairs\",\n",
    "               \"sequence_L\":row[\"Full_nucleotide_seq_light\"], \n",
    "               \"sequence_aa_L\":translate_to_amino_acid(row[\"Full_nucleotide_seq_light\"]), \n",
    "               \"junction_L\":row[\"CDRL3_nucleotide_seq\"], \n",
    "               \"junction_aa_L\":translate_to_amino_acid(row[\"CDRL3_nucleotide_seq\"]), # only nucleotide sequence contains the C\n",
    "               \"v_call_L\":row[\"Gene_name_V_light\"],\n",
    "               \"j_call_L\":row[\"Gene_name_J_light\"],\n",
    "               \"cloneId\":row[\"Epitope_ID\"]}\n",
    "    \n",
    "    simulation_df = simulation_df._append(new_row, ignore_index=True)\n",
    "\n",
    "# check if all clone IDs are unique \n",
    "assert simulation_df[\"cloneId\"].is_unique\n",
    "# check if all clone IDs are not overlapping with simulated data clone IDs (1 - 10000)    \n",
    "assert (simulation_df[\"cloneId\"].values > 10000).all()"
   ]
  },
  {
   "cell_type": "code",
   "execution_count": 13,
   "id": "a7def479",
   "metadata": {},
   "outputs": [],
   "source": [
    "# adapt dataframe columns\n",
    "\n",
    "# lower strings in these columns\n",
    "lower_columns = [\"sequence\", \"junction\", \"sequence_L\", \"junction_L\"]\n",
    "for col in lower_columns:\n",
    "    simulation_df[col] = simulation_df[col].str.lower()\n",
    "\n",
    "# set these columns to None\n",
    "none_columns = [\"d_call\", \"np1\", \"np2\", \"del_v\", \"del_d_5\", \"del_d_3\", \"del_j\", \"v_sequence_alignment\", \n",
    "                \"d_sequence_alignment\", \"j_sequence_alignment\", \"shm_events\", \"np1_L\", \"np2_L\", \n",
    "                \"del_v_L\", \"del_j_L\", \"v_sequence_alignment_L\", \"j_sequence_alignment_L\"]\n",
    "for col in none_columns:\n",
    "    simulation_df[col] = None\n",
    "\n",
    "# set these columns to 0\n",
    "zero_columns = [\"freqs\", \"amount\", \"L1Begin\", \"L2Begin\", \"FR1Begin\", \"CDR1Begin\", \"FR2Begin\", \"CDR2Begin\", \n",
    "                \"FR3Begin\", \"FR3End\", \"CDR3Begin\", \"CDR3End\", \"FR4Begin\", \"v_call_end\", \"L1Begin_L\", \"L2Begin_L\", \n",
    "                \"FR1Begin_L\", \"CDR1Begin_L\", \"FR2Begin_L\", \"CDR2Begin_L\", \"FR3Begin_L\", \"FR3End_L\", \"CDR3Begin_L\",\n",
    "                \"CDR3End_L\", \"FR4Begin_L\", \"v_call_end_L\", \"j_call_start_L\", \"j_call_end_L\"]\n",
    "for col in zero_columns:\n",
    "    simulation_df[col] = 0"
   ]
  },
  {
   "cell_type": "markdown",
   "id": "3277514b",
   "metadata": {},
   "source": [
    "## Save dataframe"
   ]
  },
  {
   "cell_type": "code",
   "execution_count": 14,
   "id": "029ff3ed",
   "metadata": {},
   "outputs": [
    {
     "name": "stdout",
     "output_type": "stream",
     "text": [
      "Number of antibodies wih both chains: 54\n"
     ]
    }
   ],
   "source": [
    "print(\"Number of antibodies wih both chains:\", len(both_chains))\n",
    "both_chains.to_csv(os.path.dirname(os.getcwd()) + \"/data/antibody_pairs/Antibody_pairs_backtranslated_both_chains.csv\", \n",
    "    index=False)"
   ]
  },
  {
   "cell_type": "code",
   "execution_count": 15,
   "id": "db20e3c1",
   "metadata": {},
   "outputs": [
    {
     "name": "stdout",
     "output_type": "stream",
     "text": [
      "Number of antibodies for simulation dataset: 54\n"
     ]
    }
   ],
   "source": [
    "print(\"Number of antibodies for simulation dataset:\", len(both_chains))\n",
    "simulation_df.to_csv(os.path.dirname(os.getcwd()) + \"/data/simulation/Repertoire_simulation_input.csv\", index=False)"
   ]
  }
 ],
 "metadata": {
  "kernelspec": {
   "display_name": "Python 3",
   "language": "python",
   "name": "python3"
  },
  "language_info": {
   "codemirror_mode": {
    "name": "ipython",
    "version": 3
   },
   "file_extension": ".py",
   "mimetype": "text/x-python",
   "name": "python",
   "nbconvert_exporter": "python",
   "pygments_lexer": "ipython3",
   "version": "3.8.5"
  }
 },
 "nbformat": 4,
 "nbformat_minor": 5
}
