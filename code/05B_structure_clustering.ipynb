{
 "cells": [
  {
   "cell_type": "markdown",
   "id": "49e8bae9",
   "metadata": {},
   "source": [
    "# Libraries"
   ]
  },
  {
   "cell_type": "code",
   "execution_count": 1,
   "id": "f8bc7e1f",
   "metadata": {},
   "outputs": [],
   "source": [
    "import matplotlib.pyplot as plt\n",
    "import numpy as np\n",
    "import os\n",
    "import pandas as pd\n",
    "import seaborn as sns\n",
    "import warnings\n",
    "\n",
    "from pandas.errors import SettingWithCopyWarning\n",
    "from Bio.Seq import Seq\n",
    "from Bio import pairwise2\n",
    "from Bio.pairwise2 import format_alignment\n",
    "from utils import *\n",
    "\n",
    "warnings.simplefilter(action=\"ignore\", category=SettingWithCopyWarning)\n",
    "\n",
    "%matplotlib inline"
   ]
  },
  {
   "cell_type": "markdown",
   "id": "414f8f23",
   "metadata": {},
   "source": [
    "# Data import"
   ]
  },
  {
   "cell_type": "markdown",
   "id": "044f2d8f",
   "metadata": {},
   "source": [
    "## Antibody pairs"
   ]
  },
  {
   "cell_type": "code",
   "execution_count": 2,
   "id": "a031a846",
   "metadata": {},
   "outputs": [],
   "source": [
    "antibody_pairs = pd.read_csv(os.path.dirname(os.getcwd()) + \"/data/antibody_pairs/Antibody_pairs.csv\")"
   ]
  },
  {
   "cell_type": "markdown",
   "id": "3f22f3b0",
   "metadata": {},
   "source": [
    "## Epitope clone ID mapping"
   ]
  },
  {
   "cell_type": "code",
   "execution_count": 3,
   "id": "e080419d",
   "metadata": {},
   "outputs": [
    {
     "name": "stdout",
     "output_type": "stream",
     "text": [
      "Number of antibodies clustered by IGX-Cluster: 54\n"
     ]
    }
   ],
   "source": [
    "epitope_clone_mapping = pd.read_csv(os.path.dirname(os.getcwd()) + \n",
    "    \"/data/antibody_pairs/Epitope_PDB_clone_ID.csv\")\n",
    "print(\"Number of antibodies clustered by IGX-Cluster:\", len(epitope_clone_mapping))"
   ]
  },
  {
   "cell_type": "markdown",
   "id": "4a3b75f6",
   "metadata": {},
   "source": [
    "## Antibody pair sequence dataframes"
   ]
  },
  {
   "cell_type": "code",
   "execution_count": 4,
   "id": "0637b89c",
   "metadata": {},
   "outputs": [],
   "source": [
    "both_chains = pd.read_csv(os.path.dirname(os.getcwd()) + \n",
    "    \"/data/antibody_pairs/Antibody_pairs_backtranslated_both_chains.csv\")"
   ]
  },
  {
   "cell_type": "markdown",
   "id": "5e1f65c2",
   "metadata": {},
   "source": [
    "## IGX-Cluster clusters"
   ]
  },
  {
   "cell_type": "code",
   "execution_count": 5,
   "id": "a8ac2eba",
   "metadata": {},
   "outputs": [],
   "source": [
    "cluster_full = pd.read_csv(os.path.dirname(os.getcwd()) + \"/data/clustering/IGX_Cluster_clustering.tsv\", sep=\"\\t\",\n",
    "    low_memory=False)"
   ]
  },
  {
   "cell_type": "code",
   "execution_count": 6,
   "id": "60ff5dc0",
   "metadata": {},
   "outputs": [
    {
     "name": "stdout",
     "output_type": "stream",
     "text": [
      "Germline sequences: 10197\n",
      "Unique clones: 10490\n"
     ]
    }
   ],
   "source": [
    "# separate germline and study sequences for all dataframes\n",
    "germline, cluster = separate_germline_seq(cluster_full) \n",
    "\n",
    "# filter for heavy and light chains\n",
    "cluster_heavy = cluster[cluster[\"Chain\"] == \"Heavy\"]\n",
    "cluster_light = cluster[cluster[\"Chain\"].isin([\"Lambda\", \"Kappa\"])]"
   ]
  },
  {
   "cell_type": "markdown",
   "id": "4a2b89ac",
   "metadata": {},
   "source": [
    "## SAAB+ clusters\n",
    "\n",
    "```\n",
    "SAAB_PLUS -f ~/clustering-comparison/data/FASTA/Simulated_sequences_heavy_antibody_pairs.fasta -o ~/clustering-comparison/data/SAABplus/SAABplus_clustering_heavy_chains_antibody_pairs.tsv -c H -s human\n",
    "```"
   ]
  },
  {
   "cell_type": "code",
   "execution_count": 7,
   "id": "3f6c0119",
   "metadata": {},
   "outputs": [
    {
     "data": {
      "text/html": [
       "<div>\n",
       "<style scoped>\n",
       "    .dataframe tbody tr th:only-of-type {\n",
       "        vertical-align: middle;\n",
       "    }\n",
       "\n",
       "    .dataframe tbody tr th {\n",
       "        vertical-align: top;\n",
       "    }\n",
       "\n",
       "    .dataframe thead th {\n",
       "        text-align: right;\n",
       "    }\n",
       "</style>\n",
       "<table border=\"1\" class=\"dataframe\">\n",
       "  <thead>\n",
       "    <tr style=\"text-align: right;\">\n",
       "      <th></th>\n",
       "      <th>Protein_Seq</th>\n",
       "      <th>CDR-H3_template</th>\n",
       "      <th>Redundancy</th>\n",
       "      <th>Framework_template</th>\n",
       "      <th>CDR-H3_sequence</th>\n",
       "      <th>ESS</th>\n",
       "      <th>Annotation</th>\n",
       "      <th>H1_Canonical_Class</th>\n",
       "      <th>H2_Canonical_Class</th>\n",
       "      <th>Clusters</th>\n",
       "    </tr>\n",
       "  </thead>\n",
       "  <tbody>\n",
       "    <tr>\n",
       "      <th>0</th>\n",
       "      <td>VESGGGLVQPRGSLRLSCAASGFTVSSNEMSWIRQAPGKGLEWVSS...</td>\n",
       "      <td>4edwH</td>\n",
       "      <td>1</td>\n",
       "      <td>5i1aH</td>\n",
       "      <td>ARYGHIVATSWYFDL</td>\n",
       "      <td>66</td>\n",
       "      <td>True</td>\n",
       "      <td>H1-8-A</td>\n",
       "      <td>NaN</td>\n",
       "      <td>4edwH</td>\n",
       "    </tr>\n",
       "    <tr>\n",
       "      <th>1</th>\n",
       "      <td>VQSGAEVKKPGASVKVSCKTSGYTFTDYYIHWVRQAPGQGLEWMGW...</td>\n",
       "      <td>6b08C</td>\n",
       "      <td>1</td>\n",
       "      <td>6azzF</td>\n",
       "      <td>ARDRITTAAPFDY</td>\n",
       "      <td>102</td>\n",
       "      <td>True</td>\n",
       "      <td>H1-8-A</td>\n",
       "      <td>H2-8-A</td>\n",
       "      <td>6b08C</td>\n",
       "    </tr>\n",
       "    <tr>\n",
       "      <th>2</th>\n",
       "      <td>QESGPGLVKPSQTLSLTCTVSGGSISSGDYYWSWIRQPPGKGLEWI...</td>\n",
       "      <td>4hdiH</td>\n",
       "      <td>1</td>\n",
       "      <td>5utzH</td>\n",
       "      <td>AREPCGGDCYFQH</td>\n",
       "      <td>37</td>\n",
       "      <td>False</td>\n",
       "      <td>H1-10-A</td>\n",
       "      <td>H2-7-A</td>\n",
       "      <td>4hdiH</td>\n",
       "    </tr>\n",
       "    <tr>\n",
       "      <th>3</th>\n",
       "      <td>VQSGAEVKKPGSSVKVSCKASGGTFSSYAISWVRQAPGQGLEWMGG...</td>\n",
       "      <td>NaN</td>\n",
       "      <td>1</td>\n",
       "      <td>4m62H</td>\n",
       "      <td>ARDWPRIMITFGGVIVIPGDYFDY</td>\n",
       "      <td>0</td>\n",
       "      <td>False</td>\n",
       "      <td>H1-8-A</td>\n",
       "      <td>H2-8-A</td>\n",
       "      <td>NaN</td>\n",
       "    </tr>\n",
       "    <tr>\n",
       "      <th>4</th>\n",
       "      <td>QQWGAGLLKPSETLSLTCAVYGGSFSGYYWSWIRQPPGKGLEWIGE...</td>\n",
       "      <td>NaN</td>\n",
       "      <td>1</td>\n",
       "      <td>6mlkH</td>\n",
       "      <td>ARGGITMIVVVITTEYFQH</td>\n",
       "      <td>0</td>\n",
       "      <td>False</td>\n",
       "      <td>H1-8-A</td>\n",
       "      <td>H2-7-A</td>\n",
       "      <td>NaN</td>\n",
       "    </tr>\n",
       "  </tbody>\n",
       "</table>\n",
       "</div>"
      ],
      "text/plain": [
       "                                         Protein_Seq CDR-H3_template  \\\n",
       "0  VESGGGLVQPRGSLRLSCAASGFTVSSNEMSWIRQAPGKGLEWVSS...           4edwH   \n",
       "1  VQSGAEVKKPGASVKVSCKTSGYTFTDYYIHWVRQAPGQGLEWMGW...           6b08C   \n",
       "2  QESGPGLVKPSQTLSLTCTVSGGSISSGDYYWSWIRQPPGKGLEWI...           4hdiH   \n",
       "3  VQSGAEVKKPGSSVKVSCKASGGTFSSYAISWVRQAPGQGLEWMGG...             NaN   \n",
       "4  QQWGAGLLKPSETLSLTCAVYGGSFSGYYWSWIRQPPGKGLEWIGE...             NaN   \n",
       "\n",
       "   Redundancy Framework_template           CDR-H3_sequence  ESS  Annotation  \\\n",
       "0           1              5i1aH           ARYGHIVATSWYFDL   66        True   \n",
       "1           1              6azzF             ARDRITTAAPFDY  102        True   \n",
       "2           1              5utzH             AREPCGGDCYFQH   37       False   \n",
       "3           1              4m62H  ARDWPRIMITFGGVIVIPGDYFDY    0       False   \n",
       "4           1              6mlkH       ARGGITMIVVVITTEYFQH    0       False   \n",
       "\n",
       "  H1_Canonical_Class H2_Canonical_Class Clusters  \n",
       "0             H1-8-A                NaN    4edwH  \n",
       "1             H1-8-A             H2-8-A    6b08C  \n",
       "2            H1-10-A             H2-7-A    4hdiH  \n",
       "3             H1-8-A             H2-8-A      NaN  \n",
       "4             H1-8-A             H2-7-A      NaN  "
      ]
     },
     "execution_count": 7,
     "metadata": {},
     "output_type": "execute_result"
    }
   ],
   "source": [
    "saabplus = pd.read_csv(os.path.dirname(os.getcwd()) + \"/data/clustering/SAABplus_clustering_heavy_chains.tsv\", \n",
    "    sep=\"\\t\", index_col=0)\n",
    "saabplus[:5]"
   ]
  },
  {
   "cell_type": "markdown",
   "id": "5ecb78f0",
   "metadata": {},
   "source": [
    "## SPACE2 clusters"
   ]
  },
  {
   "cell_type": "code",
   "execution_count": 8,
   "id": "a6381705",
   "metadata": {},
   "outputs": [
    {
     "data": {
      "text/html": [
       "<div>\n",
       "<style scoped>\n",
       "    .dataframe tbody tr th:only-of-type {\n",
       "        vertical-align: middle;\n",
       "    }\n",
       "\n",
       "    .dataframe tbody tr th {\n",
       "        vertical-align: top;\n",
       "    }\n",
       "\n",
       "    .dataframe thead th {\n",
       "        text-align: right;\n",
       "    }\n",
       "</style>\n",
       "<table border=\"1\" class=\"dataframe\">\n",
       "  <thead>\n",
       "    <tr style=\"text-align: right;\">\n",
       "      <th></th>\n",
       "      <th>Clone_ID</th>\n",
       "      <th>cluster_by_length</th>\n",
       "      <th>cluster_by_rmsd</th>\n",
       "    </tr>\n",
       "  </thead>\n",
       "  <tbody>\n",
       "    <tr>\n",
       "      <th>0</th>\n",
       "      <td>/scistor/informatica/kwy700/clustering-compari...</td>\n",
       "      <td>13_10_17_11_8_11</td>\n",
       "      <td>/scistor/informatica/kwy700/clustering-compari...</td>\n",
       "    </tr>\n",
       "    <tr>\n",
       "      <th>1</th>\n",
       "      <td>/scistor/informatica/kwy700/clustering-compari...</td>\n",
       "      <td>13_10_17_11_8_11</td>\n",
       "      <td>/scistor/informatica/kwy700/clustering-compari...</td>\n",
       "    </tr>\n",
       "    <tr>\n",
       "      <th>2</th>\n",
       "      <td>/scistor/informatica/kwy700/clustering-compari...</td>\n",
       "      <td>13_10_17_11_8_11</td>\n",
       "      <td>/scistor/informatica/kwy700/clustering-compari...</td>\n",
       "    </tr>\n",
       "    <tr>\n",
       "      <th>3</th>\n",
       "      <td>/scistor/informatica/kwy700/clustering-compari...</td>\n",
       "      <td>13_10_17_11_8_11</td>\n",
       "      <td>/scistor/informatica/kwy700/clustering-compari...</td>\n",
       "    </tr>\n",
       "    <tr>\n",
       "      <th>4</th>\n",
       "      <td>/scistor/informatica/kwy700/clustering-compari...</td>\n",
       "      <td>13_10_17_11_8_11</td>\n",
       "      <td>/scistor/informatica/kwy700/clustering-compari...</td>\n",
       "    </tr>\n",
       "  </tbody>\n",
       "</table>\n",
       "</div>"
      ],
      "text/plain": [
       "                                            Clone_ID cluster_by_length  \\\n",
       "0  /scistor/informatica/kwy700/clustering-compari...  13_10_17_11_8_11   \n",
       "1  /scistor/informatica/kwy700/clustering-compari...  13_10_17_11_8_11   \n",
       "2  /scistor/informatica/kwy700/clustering-compari...  13_10_17_11_8_11   \n",
       "3  /scistor/informatica/kwy700/clustering-compari...  13_10_17_11_8_11   \n",
       "4  /scistor/informatica/kwy700/clustering-compari...  13_10_17_11_8_11   \n",
       "\n",
       "                                     cluster_by_rmsd  \n",
       "0  /scistor/informatica/kwy700/clustering-compari...  \n",
       "1  /scistor/informatica/kwy700/clustering-compari...  \n",
       "2  /scistor/informatica/kwy700/clustering-compari...  \n",
       "3  /scistor/informatica/kwy700/clustering-compari...  \n",
       "4  /scistor/informatica/kwy700/clustering-compari...  "
      ]
     },
     "execution_count": 8,
     "metadata": {},
     "output_type": "execute_result"
    }
   ],
   "source": [
    "space2 = pd.read_csv(os.path.dirname(os.getcwd()) + \"/data/clustering/SPACE2_clustering.csv\")\n",
    "space2.rename(columns={\"ID\":\"Clone_ID\"}, inplace=True)\n",
    "space2[:5]"
   ]
  },
  {
   "cell_type": "markdown",
   "id": "f03b09bd",
   "metadata": {},
   "source": [
    "# Preprocessing"
   ]
  },
  {
   "cell_type": "markdown",
   "id": "cc9d4cc5",
   "metadata": {},
   "source": [
    "## SAAB+"
   ]
  },
  {
   "cell_type": "code",
   "execution_count": 9,
   "id": "1e74cfc3",
   "metadata": {},
   "outputs": [
    {
     "data": {
      "text/plain": [
       "Clusters\n",
       "NaN      1302\n",
       "5gguA     143\n",
       "5utzJ     120\n",
       "5vagC     111\n",
       "4kteH     110\n",
       "Name: count, dtype: int64"
      ]
     },
     "execution_count": 9,
     "metadata": {},
     "output_type": "execute_result"
    }
   ],
   "source": [
    "saabplus[\"Clusters\"].value_counts(dropna=False)[:5]"
   ]
  },
  {
   "cell_type": "code",
   "execution_count": 10,
   "id": "af332c3a",
   "metadata": {},
   "outputs": [],
   "source": [
    "saabplus_clustered = saabplus[~saabplus[\"Clusters\"].isna()]\n",
    "saabplus_unclustered = saabplus[saabplus[\"Clusters\"].isna()]"
   ]
  },
  {
   "cell_type": "code",
   "execution_count": 11,
   "id": "71c4e0ac",
   "metadata": {},
   "outputs": [
    {
     "name": "stdout",
     "output_type": "stream",
     "text": [
      "Number of antibodies clustered by SAAB+: 54\n"
     ]
    },
    {
     "data": {
      "text/html": [
       "<div>\n",
       "<style scoped>\n",
       "    .dataframe tbody tr th:only-of-type {\n",
       "        vertical-align: middle;\n",
       "    }\n",
       "\n",
       "    .dataframe tbody tr th {\n",
       "        vertical-align: top;\n",
       "    }\n",
       "\n",
       "    .dataframe thead th {\n",
       "        text-align: right;\n",
       "    }\n",
       "</style>\n",
       "<table border=\"1\" class=\"dataframe\">\n",
       "  <thead>\n",
       "    <tr style=\"text-align: right;\">\n",
       "      <th></th>\n",
       "      <th>Clone_ID</th>\n",
       "      <th>Protein_Seq</th>\n",
       "      <th>CDR-H3_template</th>\n",
       "      <th>Redundancy</th>\n",
       "      <th>Framework_template</th>\n",
       "      <th>CDR-H3_sequence</th>\n",
       "      <th>ESS</th>\n",
       "      <th>Annotation</th>\n",
       "      <th>H1_Canonical_Class</th>\n",
       "      <th>H2_Canonical_Class</th>\n",
       "      <th>Clusters</th>\n",
       "      <th>Epitope_ID</th>\n",
       "      <th>PDB</th>\n",
       "    </tr>\n",
       "  </thead>\n",
       "  <tbody>\n",
       "    <tr>\n",
       "      <th>0</th>\n",
       "      <td>1d878900ca46e5b9792388b74a762b066f4e5ac8ceb5f8...</td>\n",
       "      <td>VESGGGLVQPGGSLRLSCAASGFNVSYSSIHWVRQAPGKGLEWVAY...</td>\n",
       "      <td>6az2A</td>\n",
       "      <td>1</td>\n",
       "      <td>6az2A</td>\n",
       "      <td>ARSYSTKLAMDY</td>\n",
       "      <td>93</td>\n",
       "      <td>True</td>\n",
       "      <td>H1-8-A</td>\n",
       "      <td>H2-8-A</td>\n",
       "      <td>6az2A</td>\n",
       "      <td>745537</td>\n",
       "      <td>6AZ2</td>\n",
       "    </tr>\n",
       "    <tr>\n",
       "      <th>1</th>\n",
       "      <td>51ed897d79dee863356c553cc1ae15f23a8ac434bb3b47...</td>\n",
       "      <td>VESGGGLVQPGGSLRLSCAASGFNVSYSSIHWVRQAPGKGLEWVAY...</td>\n",
       "      <td>5ueaA</td>\n",
       "      <td>1</td>\n",
       "      <td>5ueaA</td>\n",
       "      <td>ARSYSTKLAMDY</td>\n",
       "      <td>93</td>\n",
       "      <td>True</td>\n",
       "      <td>H1-8-A</td>\n",
       "      <td>H2-8-A</td>\n",
       "      <td>6az2A</td>\n",
       "      <td>745536</td>\n",
       "      <td>5UEA</td>\n",
       "    </tr>\n",
       "    <tr>\n",
       "      <th>2</th>\n",
       "      <td>e8692523aae84ec72e70a9cc6c04a3479af37976e6f858...</td>\n",
       "      <td>VESGGGLVQPGGSLRLSCAASGFNVSYYSIHWVRQAPGKGLEWVAS...</td>\n",
       "      <td>5ucbH</td>\n",
       "      <td>1</td>\n",
       "      <td>5ucbH</td>\n",
       "      <td>ARGYGWALDY</td>\n",
       "      <td>86</td>\n",
       "      <td>True</td>\n",
       "      <td>H1-8-A</td>\n",
       "      <td>H2-8-A</td>\n",
       "      <td>6ayzB</td>\n",
       "      <td>745539</td>\n",
       "      <td>5UCB</td>\n",
       "    </tr>\n",
       "    <tr>\n",
       "      <th>3</th>\n",
       "      <td>440fe070c6f266f845a8440ca877b6a114cdbedbce7b10...</td>\n",
       "      <td>VESGGGLVQPGGSLRLSCAASGFNVSYYSIHWVRQAPGKGLEWVAS...</td>\n",
       "      <td>6ayzB</td>\n",
       "      <td>1</td>\n",
       "      <td>6ayzB</td>\n",
       "      <td>ARGYGWALDY</td>\n",
       "      <td>86</td>\n",
       "      <td>True</td>\n",
       "      <td>H1-8-A</td>\n",
       "      <td>H2-8-A</td>\n",
       "      <td>6ayzB</td>\n",
       "      <td>745538</td>\n",
       "      <td>6AYZ</td>\n",
       "    </tr>\n",
       "    <tr>\n",
       "      <th>4</th>\n",
       "      <td>0a353f3dd246e85ba62ea11a5e939fd8849bfbc3a67e73...</td>\n",
       "      <td>VESGGGLVQPGGSLRLSCAASGFIVSSNYMSWVRQAPGKGLEWVSV...</td>\n",
       "      <td>5ifhH</td>\n",
       "      <td>1</td>\n",
       "      <td>4tsaH</td>\n",
       "      <td>AREAYGMDV</td>\n",
       "      <td>38</td>\n",
       "      <td>True</td>\n",
       "      <td>H1-8-A</td>\n",
       "      <td>H2-7-A</td>\n",
       "      <td>5ifhH</td>\n",
       "      <td>1075136</td>\n",
       "      <td>7BZ5</td>\n",
       "    </tr>\n",
       "  </tbody>\n",
       "</table>\n",
       "</div>"
      ],
      "text/plain": [
       "                                            Clone_ID  \\\n",
       "0  1d878900ca46e5b9792388b74a762b066f4e5ac8ceb5f8...   \n",
       "1  51ed897d79dee863356c553cc1ae15f23a8ac434bb3b47...   \n",
       "2  e8692523aae84ec72e70a9cc6c04a3479af37976e6f858...   \n",
       "3  440fe070c6f266f845a8440ca877b6a114cdbedbce7b10...   \n",
       "4  0a353f3dd246e85ba62ea11a5e939fd8849bfbc3a67e73...   \n",
       "\n",
       "                                         Protein_Seq CDR-H3_template  \\\n",
       "0  VESGGGLVQPGGSLRLSCAASGFNVSYSSIHWVRQAPGKGLEWVAY...           6az2A   \n",
       "1  VESGGGLVQPGGSLRLSCAASGFNVSYSSIHWVRQAPGKGLEWVAY...           5ueaA   \n",
       "2  VESGGGLVQPGGSLRLSCAASGFNVSYYSIHWVRQAPGKGLEWVAS...           5ucbH   \n",
       "3  VESGGGLVQPGGSLRLSCAASGFNVSYYSIHWVRQAPGKGLEWVAS...           6ayzB   \n",
       "4  VESGGGLVQPGGSLRLSCAASGFIVSSNYMSWVRQAPGKGLEWVSV...           5ifhH   \n",
       "\n",
       "   Redundancy Framework_template CDR-H3_sequence  ESS  Annotation  \\\n",
       "0           1              6az2A    ARSYSTKLAMDY   93        True   \n",
       "1           1              5ueaA    ARSYSTKLAMDY   93        True   \n",
       "2           1              5ucbH      ARGYGWALDY   86        True   \n",
       "3           1              6ayzB      ARGYGWALDY   86        True   \n",
       "4           1              4tsaH       AREAYGMDV   38        True   \n",
       "\n",
       "  H1_Canonical_Class H2_Canonical_Class Clusters  Epitope_ID   PDB  \n",
       "0             H1-8-A             H2-8-A    6az2A      745537  6AZ2  \n",
       "1             H1-8-A             H2-8-A    6az2A      745536  5UEA  \n",
       "2             H1-8-A             H2-8-A    6ayzB      745539  5UCB  \n",
       "3             H1-8-A             H2-8-A    6ayzB      745538  6AYZ  \n",
       "4             H1-8-A             H2-7-A    5ifhH     1075136  7BZ5  "
      ]
     },
     "execution_count": 11,
     "metadata": {},
     "output_type": "execute_result"
    }
   ],
   "source": [
    "clones_seq = cluster_heavy[[\"Unique Clone Id\", \"Receptor Amino Acids\"]]\n",
    "clones_seq.columns = [\"Clone_ID\", \"Protein_Seq\"]\n",
    "\n",
    "# add clone ID to dataset by merging on protein sequence\n",
    "saabplus_clustered_clones = clones_seq.merge(saabplus_clustered, on=\"Protein_Seq\")\n",
    "saabplus_antibody_pairs = saabplus_clustered_clones.merge(epitope_clone_mapping, on=\"Clone_ID\", how=\"inner\")\n",
    "print(\"Number of antibodies clustered by SAAB+:\", len(saabplus_antibody_pairs))\n",
    "saabplus_antibody_pairs[:5]"
   ]
  },
  {
   "cell_type": "markdown",
   "id": "d1d95499",
   "metadata": {},
   "source": [
    "## SPACE2"
   ]
  },
  {
   "cell_type": "code",
   "execution_count": 12,
   "id": "368590ff",
   "metadata": {
    "scrolled": true
   },
   "outputs": [
    {
     "data": {
      "text/html": [
       "<div>\n",
       "<style scoped>\n",
       "    .dataframe tbody tr th:only-of-type {\n",
       "        vertical-align: middle;\n",
       "    }\n",
       "\n",
       "    .dataframe tbody tr th {\n",
       "        vertical-align: top;\n",
       "    }\n",
       "\n",
       "    .dataframe thead th {\n",
       "        text-align: right;\n",
       "    }\n",
       "</style>\n",
       "<table border=\"1\" class=\"dataframe\">\n",
       "  <thead>\n",
       "    <tr style=\"text-align: right;\">\n",
       "      <th></th>\n",
       "      <th>Clone_ID</th>\n",
       "      <th>cluster_by_length</th>\n",
       "      <th>cluster_by_rmsd</th>\n",
       "    </tr>\n",
       "  </thead>\n",
       "  <tbody>\n",
       "    <tr>\n",
       "      <th>0</th>\n",
       "      <td>77aa8fa1f6202f9eda4c106c5692fd6d4969c7999e9f48...</td>\n",
       "      <td>13_10_17_11_8_11</td>\n",
       "      <td>0</td>\n",
       "    </tr>\n",
       "    <tr>\n",
       "      <th>1</th>\n",
       "      <td>b53df1fb98ab8045d2ed05445eecbb36f551f64d4eda74...</td>\n",
       "      <td>13_10_17_11_8_11</td>\n",
       "      <td>1</td>\n",
       "    </tr>\n",
       "    <tr>\n",
       "      <th>2</th>\n",
       "      <td>c46db1aef71b52fafc76df55c9a0d2e8e288854864ac6e...</td>\n",
       "      <td>13_10_17_11_8_11</td>\n",
       "      <td>2</td>\n",
       "    </tr>\n",
       "    <tr>\n",
       "      <th>3</th>\n",
       "      <td>f59ccf512f3cda19d92733080dee1f8d6ce7df8072e342...</td>\n",
       "      <td>13_10_17_11_8_11</td>\n",
       "      <td>3</td>\n",
       "    </tr>\n",
       "    <tr>\n",
       "      <th>4</th>\n",
       "      <td>f98730c169666dce8f080ec88eb79257ac7edfd8715cd5...</td>\n",
       "      <td>13_10_17_11_8_11</td>\n",
       "      <td>4</td>\n",
       "    </tr>\n",
       "  </tbody>\n",
       "</table>\n",
       "</div>"
      ],
      "text/plain": [
       "                                            Clone_ID cluster_by_length  \\\n",
       "0  77aa8fa1f6202f9eda4c106c5692fd6d4969c7999e9f48...  13_10_17_11_8_11   \n",
       "1  b53df1fb98ab8045d2ed05445eecbb36f551f64d4eda74...  13_10_17_11_8_11   \n",
       "2  c46db1aef71b52fafc76df55c9a0d2e8e288854864ac6e...  13_10_17_11_8_11   \n",
       "3  f59ccf512f3cda19d92733080dee1f8d6ce7df8072e342...  13_10_17_11_8_11   \n",
       "4  f98730c169666dce8f080ec88eb79257ac7edfd8715cd5...  13_10_17_11_8_11   \n",
       "\n",
       "   cluster_by_rmsd  \n",
       "0                0  \n",
       "1                1  \n",
       "2                2  \n",
       "3                3  \n",
       "4                4  "
      ]
     },
     "execution_count": 12,
     "metadata": {},
     "output_type": "execute_result"
    }
   ],
   "source": [
    "# create integer mapping for unique strings\n",
    "integer_mapping = {string: i for i, string in enumerate(space2[\"cluster_by_rmsd\"].unique())}\n",
    "# replace strings with integers \n",
    "space2[\"cluster_by_rmsd\"] = space2[\"cluster_by_rmsd\"].map(integer_mapping)\n",
    "\n",
    "# extract ID from path string\n",
    "space2[\"Clone_ID\"] = space2[\"Clone_ID\"].apply(rename_ID)\n",
    "space2[:5]"
   ]
  },
  {
   "cell_type": "code",
   "execution_count": 13,
   "id": "229eb25a",
   "metadata": {},
   "outputs": [
    {
     "name": "stdout",
     "output_type": "stream",
     "text": [
      "Number of antibodies clustered by SPACE2: 54\n"
     ]
    }
   ],
   "source": [
    "space2_antibody_pairs = space2.merge(epitope_clone_mapping, on=\"Clone_ID\", how=\"inner\")\n",
    "print(\"Number of antibodies clustered by SPACE2:\", len(space2_antibody_pairs))"
   ]
  },
  {
   "cell_type": "markdown",
   "id": "f4edd697",
   "metadata": {},
   "source": [
    "# Cluster analysis"
   ]
  },
  {
   "cell_type": "markdown",
   "id": "74ece613",
   "metadata": {},
   "source": [
    "## SAAB+"
   ]
  },
  {
   "cell_type": "markdown",
   "id": "7ba34620",
   "metadata": {},
   "source": [
    "### Number of clones and clusters"
   ]
  },
  {
   "cell_type": "code",
   "execution_count": 14,
   "id": "2bc8985a",
   "metadata": {},
   "outputs": [
    {
     "name": "stdout",
     "output_type": "stream",
     "text": [
      "Number of clones without cluster assignment: 1302 (12.52%)\n",
      "Number of clones with cluster assignment: 9100 (87.48%)\n"
     ]
    }
   ],
   "source": [
    "print(\"Number of clones without cluster assignment: %i (%.2f%%)\" \n",
    "      %(len(saabplus_unclustered), len(saabplus_unclustered)/len(saabplus)*100))\n",
    "print(\"Number of clones with cluster assignment: %i (%.2f%%)\" \n",
    "      %(len(saabplus_clustered), len(saabplus_clustered)/len(saabplus)*100))"
   ]
  },
  {
   "cell_type": "code",
   "execution_count": 15,
   "id": "623e3b30",
   "metadata": {},
   "outputs": [
    {
     "name": "stdout",
     "output_type": "stream",
     "text": [
      "Number of clones: 9100\n",
      "Number of clusters: 973\n",
      "Average cluster size: 9.353\n"
     ]
    }
   ],
   "source": [
    "print(\"Number of clones:\", len(saabplus_clustered[\"Protein_Seq\"].unique()))\n",
    "print(\"Number of clusters:\", len(saabplus_clustered[\"Clusters\"].unique()))\n",
    "print(\"Average cluster size: %.3f\" %(np.mean(saabplus_clustered[\"Clusters\"].value_counts())))"
   ]
  },
  {
   "cell_type": "markdown",
   "id": "d988fbb8",
   "metadata": {},
   "source": [
    "### Multi-occupancy clusters"
   ]
  },
  {
   "cell_type": "code",
   "execution_count": 16,
   "id": "02063e5a",
   "metadata": {},
   "outputs": [],
   "source": [
    "clone_count = saabplus_clustered[\"Clusters\"].value_counts()\n",
    "single_clone_clusters = clone_count[clone_count == 1].index\n",
    "multi_clone_clusters = clone_count[clone_count > 1].index"
   ]
  },
  {
   "cell_type": "code",
   "execution_count": 17,
   "id": "334a0593",
   "metadata": {},
   "outputs": [
    {
     "name": "stdout",
     "output_type": "stream",
     "text": [
      "Number of single-clone clusters: 210\n",
      "Number of multi-clone clusters: 763\n",
      "Average multi-clone cluster size: 11.651\n"
     ]
    }
   ],
   "source": [
    "print(\"Number of single-clone clusters:\", sum(clone_count == 1))\n",
    "print(\"Number of multi-clone clusters:\", sum(clone_count > 1))\n",
    "print(\"Average multi-clone cluster size: %.3f\" \\\n",
    "    %(np.mean(saabplus_clustered[saabplus_clustered[\"Clusters\"].isin(multi_clone_clusters)][\"Clusters\"].value_counts())))"
   ]
  },
  {
   "cell_type": "markdown",
   "id": "36e00088",
   "metadata": {},
   "source": [
    "### Save dataframe"
   ]
  },
  {
   "cell_type": "code",
   "execution_count": 18,
   "id": "cb0b3e28",
   "metadata": {},
   "outputs": [],
   "source": [
    "saabplus_antibody_pairs.to_csv(os.path.dirname(os.getcwd()) + \"/data/antibody_pairs/Antibody_pairs_clustered_SAAB+.csv\",\n",
    "    index=False)"
   ]
  },
  {
   "cell_type": "markdown",
   "id": "d80acc86",
   "metadata": {},
   "source": [
    "## SPACE2"
   ]
  },
  {
   "cell_type": "markdown",
   "id": "38388b80",
   "metadata": {},
   "source": [
    "### Number of clones and clusters"
   ]
  },
  {
   "cell_type": "code",
   "execution_count": 19,
   "id": "2d56d12c",
   "metadata": {},
   "outputs": [
    {
     "name": "stdout",
     "output_type": "stream",
     "text": [
      "Number of clones: 10489\n",
      "Number of clusters: 8031\n",
      "Average cluster size: 1.306\n"
     ]
    }
   ],
   "source": [
    "print(\"Number of clones:\", len(space2[\"Clone_ID\"].unique()))\n",
    "print(\"Number of clusters:\", len(space2[\"cluster_by_rmsd\"].unique()))\n",
    "print(\"Average cluster size: %.3f\" %(np.mean(space2[\"cluster_by_rmsd\"].value_counts())))"
   ]
  },
  {
   "cell_type": "markdown",
   "id": "afa3847b",
   "metadata": {},
   "source": [
    "### Multi-occupancy clusters"
   ]
  },
  {
   "cell_type": "code",
   "execution_count": 20,
   "id": "244643b7",
   "metadata": {},
   "outputs": [],
   "source": [
    "clone_count = space2[\"cluster_by_rmsd\"].value_counts()\n",
    "single_clone_clusters = clone_count[clone_count == 1].index\n",
    "multi_clone_clusters = clone_count[clone_count > 1].index"
   ]
  },
  {
   "cell_type": "code",
   "execution_count": 21,
   "id": "c3be2ff7",
   "metadata": {},
   "outputs": [
    {
     "name": "stdout",
     "output_type": "stream",
     "text": [
      "Number of single-clone clusters: 6579\n",
      "Number of multi-clone clusters: 1452\n",
      "Average multi-clone cluster size: 2.693\n"
     ]
    }
   ],
   "source": [
    "print(\"Number of single-clone clusters:\", sum(clone_count == 1))\n",
    "print(\"Number of multi-clone clusters:\", sum(clone_count > 1))\n",
    "print(\"Average multi-clone cluster size: %.3f\" \\\n",
    "    %(np.mean(space2[space2[\"cluster_by_rmsd\"].isin(multi_clone_clusters)][\"cluster_by_rmsd\"].value_counts())))"
   ]
  },
  {
   "cell_type": "markdown",
   "id": "0fb1f6ba",
   "metadata": {},
   "source": [
    "### Length-based clusters"
   ]
  },
  {
   "cell_type": "code",
   "execution_count": 22,
   "id": "f3e4b673",
   "metadata": {},
   "outputs": [
    {
     "name": "stdout",
     "output_type": "stream",
     "text": [
      "Number of length-based clusters: 1891\n",
      "Average length-based cluster size: 5.547\n"
     ]
    }
   ],
   "source": [
    "print(\"Number of length-based clusters:\", len(space2[\"cluster_by_length\"].unique()))\n",
    "print(\"Average length-based cluster size: %.3f\" %(np.mean(space2[\"cluster_by_length\"].value_counts())))"
   ]
  },
  {
   "cell_type": "code",
   "execution_count": 23,
   "id": "1413ee41",
   "metadata": {},
   "outputs": [
    {
     "name": "stdout",
     "output_type": "stream",
     "text": [
      "Number of length-based single-clone clusters: 808 (42.73%)\n",
      "Number of length-based multi-clone clusters: 1083 (57.27%)\n"
     ]
    }
   ],
   "source": [
    "clone_count = space2[\"cluster_by_length\"].value_counts()\n",
    "single_clone_clusters = clone_count[clone_count == 1].index\n",
    "multi_clone_clusters = clone_count[clone_count > 1].index\n",
    "print(\"Number of length-based single-clone clusters: %i (%.2f%%)\" \n",
    "      %((sum(clone_count == 1)), (sum(clone_count == 1))/len(space2[\"cluster_by_length\"].unique())*100))\n",
    "print(\"Number of length-based multi-clone clusters: %i (%.2f%%)\" \n",
    "      %((sum(clone_count > 1)), (sum(clone_count > 1))/len(space2[\"cluster_by_length\"].unique())*100))"
   ]
  },
  {
   "cell_type": "markdown",
   "id": "e6ec546c",
   "metadata": {},
   "source": [
    "### Save dataframe"
   ]
  },
  {
   "cell_type": "code",
   "execution_count": 24,
   "id": "fe74c95c",
   "metadata": {},
   "outputs": [],
   "source": [
    "space2_antibody_pairs.to_csv(os.path.dirname(os.getcwd()) + \"/data/antibody_pairs/Antibody_pairs_clustered_SPACE2.csv\",\n",
    "    index=False)"
   ]
  },
  {
   "cell_type": "markdown",
   "id": "ede398b7",
   "metadata": {},
   "source": [
    "# Cluster comparison"
   ]
  },
  {
   "cell_type": "code",
   "execution_count": 25,
   "id": "125d2ab4",
   "metadata": {},
   "outputs": [],
   "source": [
    "cluster_comparison = antibody_pairs[[\"Epitope_ID_A\", \"Epitope_ID_B\"]]"
   ]
  },
  {
   "cell_type": "code",
   "execution_count": 26,
   "id": "42db6fee",
   "metadata": {},
   "outputs": [
    {
     "name": "stdout",
     "output_type": "stream",
     "text": [
      "Number of antibody pairs with assigned clone IDs: 213\n"
     ]
    },
    {
     "data": {
      "text/html": [
       "<div>\n",
       "<style scoped>\n",
       "    .dataframe tbody tr th:only-of-type {\n",
       "        vertical-align: middle;\n",
       "    }\n",
       "\n",
       "    .dataframe tbody tr th {\n",
       "        vertical-align: top;\n",
       "    }\n",
       "\n",
       "    .dataframe thead th {\n",
       "        text-align: right;\n",
       "    }\n",
       "</style>\n",
       "<table border=\"1\" class=\"dataframe\">\n",
       "  <thead>\n",
       "    <tr style=\"text-align: right;\">\n",
       "      <th></th>\n",
       "      <th>Epitope_ID_A</th>\n",
       "      <th>Epitope_ID_B</th>\n",
       "      <th>Clone_ID_A</th>\n",
       "      <th>Clone_ID_B</th>\n",
       "    </tr>\n",
       "  </thead>\n",
       "  <tbody>\n",
       "    <tr>\n",
       "      <th>0</th>\n",
       "      <td>164067</td>\n",
       "      <td>164069</td>\n",
       "      <td>bf226286707d82bda728cbef30375ccd358dc00fd3d175...</td>\n",
       "      <td>3302c6ccef79e396bf79043b81511f50c70bd7c476e560...</td>\n",
       "    </tr>\n",
       "    <tr>\n",
       "      <th>1</th>\n",
       "      <td>164078</td>\n",
       "      <td>164079</td>\n",
       "      <td>ad5b550aabf130663ecc53fb708035fdb1ac5c34e1096b...</td>\n",
       "      <td>6503ec1e63c6319e7adc1227f4302ed2d618a15dbc81c1...</td>\n",
       "    </tr>\n",
       "    <tr>\n",
       "      <th>2</th>\n",
       "      <td>969166</td>\n",
       "      <td>969167</td>\n",
       "      <td>2c6b76f8abeb2ae2cdba29efdd2096543d816cb5409b99...</td>\n",
       "      <td>9501c71df16e2728f9d63f1c999700760b7f43d20db86c...</td>\n",
       "    </tr>\n",
       "    <tr>\n",
       "      <th>3</th>\n",
       "      <td>969166</td>\n",
       "      <td>969168</td>\n",
       "      <td>2c6b76f8abeb2ae2cdba29efdd2096543d816cb5409b99...</td>\n",
       "      <td>24b1f7f80b240d6eb281a80900f0f2637f1aa8164a4060...</td>\n",
       "    </tr>\n",
       "    <tr>\n",
       "      <th>4</th>\n",
       "      <td>969167</td>\n",
       "      <td>969168</td>\n",
       "      <td>9501c71df16e2728f9d63f1c999700760b7f43d20db86c...</td>\n",
       "      <td>24b1f7f80b240d6eb281a80900f0f2637f1aa8164a4060...</td>\n",
       "    </tr>\n",
       "  </tbody>\n",
       "</table>\n",
       "</div>"
      ],
      "text/plain": [
       "   Epitope_ID_A  Epitope_ID_B  \\\n",
       "0        164067        164069   \n",
       "1        164078        164079   \n",
       "2        969166        969167   \n",
       "3        969166        969168   \n",
       "4        969167        969168   \n",
       "\n",
       "                                          Clone_ID_A  \\\n",
       "0  bf226286707d82bda728cbef30375ccd358dc00fd3d175...   \n",
       "1  ad5b550aabf130663ecc53fb708035fdb1ac5c34e1096b...   \n",
       "2  2c6b76f8abeb2ae2cdba29efdd2096543d816cb5409b99...   \n",
       "3  2c6b76f8abeb2ae2cdba29efdd2096543d816cb5409b99...   \n",
       "4  9501c71df16e2728f9d63f1c999700760b7f43d20db86c...   \n",
       "\n",
       "                                          Clone_ID_B  \n",
       "0  3302c6ccef79e396bf79043b81511f50c70bd7c476e560...  \n",
       "1  6503ec1e63c6319e7adc1227f4302ed2d618a15dbc81c1...  \n",
       "2  9501c71df16e2728f9d63f1c999700760b7f43d20db86c...  \n",
       "3  24b1f7f80b240d6eb281a80900f0f2637f1aa8164a4060...  \n",
       "4  24b1f7f80b240d6eb281a80900f0f2637f1aa8164a4060...  "
      ]
     },
     "execution_count": 26,
     "metadata": {},
     "output_type": "execute_result"
    }
   ],
   "source": [
    "cluster_comparison[\"Clone_ID_A\"] = cluster_comparison[\"Epitope_ID_A\"].apply(add_clone_id, args=[epitope_clone_mapping])\n",
    "cluster_comparison[\"Clone_ID_B\"] = cluster_comparison[\"Epitope_ID_B\"].apply(add_clone_id, args=[epitope_clone_mapping])\n",
    "cluster_comparison.dropna(subset=[\"Clone_ID_A\", \"Clone_ID_B\"], inplace=True)\n",
    "print(\"Number of antibody pairs with assigned clone IDs:\", len(cluster_comparison))\n",
    "cluster_comparison[:5]"
   ]
  },
  {
   "cell_type": "markdown",
   "id": "e9f06b7d",
   "metadata": {},
   "source": [
    "## IGX-Cluster"
   ]
  },
  {
   "cell_type": "code",
   "execution_count": 27,
   "id": "47ff3c58",
   "metadata": {},
   "outputs": [],
   "source": [
    "cluster_comparison[\"IGX_A\"] = cluster_comparison[\"Clone_ID_A\"].apply(add_cluster, args=[cluster, \"Unique Clone Id\", \n",
    "    \"Unique Cluster Id\"])\n",
    "cluster_comparison[\"IGX_B\"] = cluster_comparison[\"Clone_ID_B\"].apply(add_cluster, args=[cluster, \"Unique Clone Id\", \n",
    "    \"Unique Cluster Id\"])\n",
    "cluster_comparison[\"IGX_clustered\"] = np.where(cluster_comparison[\"IGX_A\"] == cluster_comparison[\"IGX_B\"], True, False)"
   ]
  },
  {
   "cell_type": "code",
   "execution_count": 28,
   "id": "14a482e4",
   "metadata": {},
   "outputs": [
    {
     "data": {
      "text/plain": [
       "IGX_clustered\n",
       "False    189\n",
       "True      24\n",
       "Name: count, dtype: int64"
      ]
     },
     "execution_count": 28,
     "metadata": {},
     "output_type": "execute_result"
    }
   ],
   "source": [
    "cluster_comparison[\"IGX_clustered\"].value_counts()"
   ]
  },
  {
   "cell_type": "markdown",
   "id": "093ce2a7",
   "metadata": {},
   "source": [
    "## SAAB+"
   ]
  },
  {
   "cell_type": "code",
   "execution_count": 29,
   "id": "60fe1e35",
   "metadata": {},
   "outputs": [],
   "source": [
    "cluster_comparison[\"SAABplus_A\"] = cluster_comparison[\"Clone_ID_A\"].apply(add_cluster, \n",
    "    args=[saabplus_clustered_clones, \"Clone_ID\", \"Clusters\"])\n",
    "cluster_comparison[\"SAABplus_B\"] = cluster_comparison[\"Clone_ID_B\"].apply(add_cluster, \n",
    "    args=[saabplus_clustered_clones, \"Clone_ID\", \"Clusters\"])\n",
    "cluster_comparison[\"SAABplus_clustered\"] = np.where(cluster_comparison[\"SAABplus_A\"] == cluster_comparison[\"SAABplus_B\"], \n",
    "    True, False)"
   ]
  },
  {
   "cell_type": "code",
   "execution_count": 30,
   "id": "7aa226a8",
   "metadata": {},
   "outputs": [
    {
     "data": {
      "text/plain": [
       "SAABplus_clustered\n",
       "False    197\n",
       "True      16\n",
       "Name: count, dtype: int64"
      ]
     },
     "execution_count": 30,
     "metadata": {},
     "output_type": "execute_result"
    }
   ],
   "source": [
    "cluster_comparison[\"SAABplus_clustered\"].value_counts()"
   ]
  },
  {
   "cell_type": "markdown",
   "id": "0146f0d7",
   "metadata": {},
   "source": [
    "## SPACE2"
   ]
  },
  {
   "cell_type": "code",
   "execution_count": 31,
   "id": "6313c570",
   "metadata": {},
   "outputs": [],
   "source": [
    "# add assigned cluster\n",
    "cluster_comparison[\"SPACE2_A\"] = cluster_comparison[\"Clone_ID_A\"].apply(add_cluster, \n",
    "    args=[space2, \"Clone_ID\", \"cluster_by_rmsd\"])\n",
    "cluster_comparison[\"SPACE2_B\"] = cluster_comparison[\"Clone_ID_B\"].apply(add_cluster, \n",
    "    args=[space2, \"Clone_ID\", \"cluster_by_rmsd\"])\n",
    "# add length cluster\n",
    "cluster_comparison[\"SPACE2_length_A\"] = cluster_comparison[\"Clone_ID_A\"].apply(add_cluster, \n",
    "    args=[space2, \"Clone_ID\", \"cluster_by_length\"])\n",
    "cluster_comparison[\"SPACE2_length_B\"] = cluster_comparison[\"Clone_ID_B\"].apply(add_cluster, \n",
    "    args=[space2, \"Clone_ID\", \"cluster_by_length\"])\n",
    "\n",
    "cluster_comparison[\"SPACE2_clustered\"] = np.where(cluster_comparison[\"SPACE2_A\"] == cluster_comparison[\"SPACE2_B\"], \n",
    "    True, False)\n",
    "cluster_comparison[\"SPACE2_clustered_length\"] = np.where(cluster_comparison[\"SPACE2_length_A\"] == \\\n",
    "    cluster_comparison[\"SPACE2_length_B\"], True, False)"
   ]
  },
  {
   "cell_type": "code",
   "execution_count": 32,
   "id": "b44d300c",
   "metadata": {},
   "outputs": [
    {
     "data": {
      "text/plain": [
       "SPACE2_clustered\n",
       "False    199\n",
       "True      14\n",
       "Name: count, dtype: int64"
      ]
     },
     "execution_count": 32,
     "metadata": {},
     "output_type": "execute_result"
    }
   ],
   "source": [
    "cluster_comparison[\"SPACE2_clustered\"].value_counts()"
   ]
  },
  {
   "cell_type": "code",
   "execution_count": 33,
   "id": "6799cb4d",
   "metadata": {},
   "outputs": [
    {
     "data": {
      "text/plain": [
       "SPACE2_clustered_length\n",
       "False    193\n",
       "True      20\n",
       "Name: count, dtype: int64"
      ]
     },
     "execution_count": 33,
     "metadata": {},
     "output_type": "execute_result"
    }
   ],
   "source": [
    "cluster_comparison[\"SPACE2_clustered_length\"].value_counts()"
   ]
  },
  {
   "cell_type": "code",
   "execution_count": 34,
   "id": "8c0e54be",
   "metadata": {},
   "outputs": [
    {
     "data": {
      "text/html": [
       "<div>\n",
       "<style scoped>\n",
       "    .dataframe tbody tr th:only-of-type {\n",
       "        vertical-align: middle;\n",
       "    }\n",
       "\n",
       "    .dataframe tbody tr th {\n",
       "        vertical-align: top;\n",
       "    }\n",
       "\n",
       "    .dataframe thead th {\n",
       "        text-align: right;\n",
       "    }\n",
       "</style>\n",
       "<table border=\"1\" class=\"dataframe\">\n",
       "  <thead>\n",
       "    <tr style=\"text-align: right;\">\n",
       "      <th></th>\n",
       "      <th>Epitope_ID_A</th>\n",
       "      <th>Epitope_ID_B</th>\n",
       "      <th>Clone_ID_A</th>\n",
       "      <th>Clone_ID_B</th>\n",
       "      <th>IGX_A</th>\n",
       "      <th>IGX_B</th>\n",
       "      <th>IGX_clustered</th>\n",
       "      <th>SAABplus_A</th>\n",
       "      <th>SAABplus_B</th>\n",
       "      <th>SAABplus_clustered</th>\n",
       "      <th>SPACE2_A</th>\n",
       "      <th>SPACE2_B</th>\n",
       "      <th>SPACE2_length_A</th>\n",
       "      <th>SPACE2_length_B</th>\n",
       "      <th>SPACE2_clustered</th>\n",
       "      <th>SPACE2_clustered_length</th>\n",
       "    </tr>\n",
       "  </thead>\n",
       "  <tbody>\n",
       "    <tr>\n",
       "      <th>39</th>\n",
       "      <td>1087266</td>\n",
       "      <td>2134977</td>\n",
       "      <td>11c8da005bc94af6e9f2d235d8c9626f830452fcd1dabd...</td>\n",
       "      <td>71a244ac0d18725ec622c3c6d0f3075c16a9d36e44442b...</td>\n",
       "      <td>950</td>\n",
       "      <td>950</td>\n",
       "      <td>True</td>\n",
       "      <td>3cleH</td>\n",
       "      <td>2dd8H</td>\n",
       "      <td>False</td>\n",
       "      <td>3346</td>\n",
       "      <td>3348</td>\n",
       "      <td>13_9_11_11_8_11</td>\n",
       "      <td>13_9_11_11_8_11</td>\n",
       "      <td>False</td>\n",
       "      <td>True</td>\n",
       "    </tr>\n",
       "    <tr>\n",
       "      <th>70</th>\n",
       "      <td>1310038</td>\n",
       "      <td>2217933</td>\n",
       "      <td>70c736799f0d567331d7539a710ddb27afc1e0d77ead98...</td>\n",
       "      <td>00d47bc9bca525bc3808c5ad45a2045c262dd44178f031...</td>\n",
       "      <td>2785</td>\n",
       "      <td>1610</td>\n",
       "      <td>False</td>\n",
       "      <td>3duuD</td>\n",
       "      <td>5mesH</td>\n",
       "      <td>False</td>\n",
       "      <td>7114</td>\n",
       "      <td>7115</td>\n",
       "      <td>13_9_12_12_8_8</td>\n",
       "      <td>13_9_12_12_8_8</td>\n",
       "      <td>False</td>\n",
       "      <td>True</td>\n",
       "    </tr>\n",
       "    <tr>\n",
       "      <th>86</th>\n",
       "      <td>1311247</td>\n",
       "      <td>1392553</td>\n",
       "      <td>e3061e76a9983257bed28e9f7d730e4a9d3e41fb6910a0...</td>\n",
       "      <td>8616e0b4db9848d3b17b1e078a2f1e8840ebc13c35c10a...</td>\n",
       "      <td>969</td>\n",
       "      <td>4539</td>\n",
       "      <td>False</td>\n",
       "      <td>5gs1K</td>\n",
       "      <td>5gzoH</td>\n",
       "      <td>False</td>\n",
       "      <td>4866</td>\n",
       "      <td>4869</td>\n",
       "      <td>13_9_12_11_8_9</td>\n",
       "      <td>13_9_12_11_8_9</td>\n",
       "      <td>False</td>\n",
       "      <td>True</td>\n",
       "    </tr>\n",
       "    <tr>\n",
       "      <th>165</th>\n",
       "      <td>1346822</td>\n",
       "      <td>2134977</td>\n",
       "      <td>c2f3ed6d6f691c2ec604dc041f5c242fb0c37511481e4d...</td>\n",
       "      <td>71a244ac0d18725ec622c3c6d0f3075c16a9d36e44442b...</td>\n",
       "      <td>950</td>\n",
       "      <td>950</td>\n",
       "      <td>True</td>\n",
       "      <td>2dd8H</td>\n",
       "      <td>2dd8H</td>\n",
       "      <td>True</td>\n",
       "      <td>3346</td>\n",
       "      <td>3348</td>\n",
       "      <td>13_9_11_11_8_11</td>\n",
       "      <td>13_9_11_11_8_11</td>\n",
       "      <td>False</td>\n",
       "      <td>True</td>\n",
       "    </tr>\n",
       "    <tr>\n",
       "      <th>175</th>\n",
       "      <td>1346823</td>\n",
       "      <td>2144729</td>\n",
       "      <td>1ae2fb81015e7a30715df39f8cd0ee89be1727651d7c4e...</td>\n",
       "      <td>2da9afba0e2ab0e36f3bf984161568eec7065781699ae7...</td>\n",
       "      <td>2773</td>\n",
       "      <td>6061</td>\n",
       "      <td>False</td>\n",
       "      <td>5bvjF</td>\n",
       "      <td>3vi3H</td>\n",
       "      <td>False</td>\n",
       "      <td>3918</td>\n",
       "      <td>3922</td>\n",
       "      <td>13_9_11_11_8_10</td>\n",
       "      <td>13_9_11_11_8_10</td>\n",
       "      <td>False</td>\n",
       "      <td>True</td>\n",
       "    </tr>\n",
       "    <tr>\n",
       "      <th>197</th>\n",
       "      <td>2060661</td>\n",
       "      <td>2060664</td>\n",
       "      <td>44e1f015023558e07807a2e3989fbda82d06f48c5ca468...</td>\n",
       "      <td>82191f407191e1dace0a2367e9fd1462f963b32952699f...</td>\n",
       "      <td>8951</td>\n",
       "      <td>8951</td>\n",
       "      <td>True</td>\n",
       "      <td>3ijyB</td>\n",
       "      <td>3ijyB</td>\n",
       "      <td>True</td>\n",
       "      <td>7080</td>\n",
       "      <td>7081</td>\n",
       "      <td>13_10_17_14_8_12</td>\n",
       "      <td>13_10_17_14_8_12</td>\n",
       "      <td>False</td>\n",
       "      <td>True</td>\n",
       "    </tr>\n",
       "  </tbody>\n",
       "</table>\n",
       "</div>"
      ],
      "text/plain": [
       "     Epitope_ID_A  Epitope_ID_B  \\\n",
       "39        1087266       2134977   \n",
       "70        1310038       2217933   \n",
       "86        1311247       1392553   \n",
       "165       1346822       2134977   \n",
       "175       1346823       2144729   \n",
       "197       2060661       2060664   \n",
       "\n",
       "                                            Clone_ID_A  \\\n",
       "39   11c8da005bc94af6e9f2d235d8c9626f830452fcd1dabd...   \n",
       "70   70c736799f0d567331d7539a710ddb27afc1e0d77ead98...   \n",
       "86   e3061e76a9983257bed28e9f7d730e4a9d3e41fb6910a0...   \n",
       "165  c2f3ed6d6f691c2ec604dc041f5c242fb0c37511481e4d...   \n",
       "175  1ae2fb81015e7a30715df39f8cd0ee89be1727651d7c4e...   \n",
       "197  44e1f015023558e07807a2e3989fbda82d06f48c5ca468...   \n",
       "\n",
       "                                            Clone_ID_B  IGX_A  IGX_B  \\\n",
       "39   71a244ac0d18725ec622c3c6d0f3075c16a9d36e44442b...    950    950   \n",
       "70   00d47bc9bca525bc3808c5ad45a2045c262dd44178f031...   2785   1610   \n",
       "86   8616e0b4db9848d3b17b1e078a2f1e8840ebc13c35c10a...    969   4539   \n",
       "165  71a244ac0d18725ec622c3c6d0f3075c16a9d36e44442b...    950    950   \n",
       "175  2da9afba0e2ab0e36f3bf984161568eec7065781699ae7...   2773   6061   \n",
       "197  82191f407191e1dace0a2367e9fd1462f963b32952699f...   8951   8951   \n",
       "\n",
       "     IGX_clustered SAABplus_A SAABplus_B  SAABplus_clustered  SPACE2_A  \\\n",
       "39            True      3cleH      2dd8H               False      3346   \n",
       "70           False      3duuD      5mesH               False      7114   \n",
       "86           False      5gs1K      5gzoH               False      4866   \n",
       "165           True      2dd8H      2dd8H                True      3346   \n",
       "175          False      5bvjF      3vi3H               False      3918   \n",
       "197           True      3ijyB      3ijyB                True      7080   \n",
       "\n",
       "     SPACE2_B   SPACE2_length_A   SPACE2_length_B  SPACE2_clustered  \\\n",
       "39       3348   13_9_11_11_8_11   13_9_11_11_8_11             False   \n",
       "70       7115    13_9_12_12_8_8    13_9_12_12_8_8             False   \n",
       "86       4869    13_9_12_11_8_9    13_9_12_11_8_9             False   \n",
       "165      3348   13_9_11_11_8_11   13_9_11_11_8_11             False   \n",
       "175      3922   13_9_11_11_8_10   13_9_11_11_8_10             False   \n",
       "197      7081  13_10_17_14_8_12  13_10_17_14_8_12             False   \n",
       "\n",
       "     SPACE2_clustered_length  \n",
       "39                      True  \n",
       "70                      True  \n",
       "86                      True  \n",
       "165                     True  \n",
       "175                     True  \n",
       "197                     True  "
      ]
     },
     "execution_count": 34,
     "metadata": {},
     "output_type": "execute_result"
    }
   ],
   "source": [
    "missed_pairs_space2 = cluster_comparison[(cluster_comparison[\"SPACE2_clustered_length\"] == True) & \\\n",
    "    (cluster_comparison[\"SPACE2_clustered\"] == False)]\n",
    "missed_pairs_space2"
   ]
  },
  {
   "cell_type": "code",
   "execution_count": 35,
   "id": "04e69d4c",
   "metadata": {},
   "outputs": [
    {
     "data": {
      "text/html": [
       "<div>\n",
       "<style scoped>\n",
       "    .dataframe tbody tr th:only-of-type {\n",
       "        vertical-align: middle;\n",
       "    }\n",
       "\n",
       "    .dataframe tbody tr th {\n",
       "        vertical-align: top;\n",
       "    }\n",
       "\n",
       "    .dataframe thead th {\n",
       "        text-align: right;\n",
       "    }\n",
       "</style>\n",
       "<table border=\"1\" class=\"dataframe\">\n",
       "  <thead>\n",
       "    <tr style=\"text-align: right;\">\n",
       "      <th></th>\n",
       "      <th>Epitope_ID</th>\n",
       "      <th>PDB</th>\n",
       "      <th>Clone_ID</th>\n",
       "    </tr>\n",
       "  </thead>\n",
       "  <tbody>\n",
       "    <tr>\n",
       "      <th>18</th>\n",
       "      <td>1087266</td>\n",
       "      <td>6XC2</td>\n",
       "      <td>11c8da005bc94af6e9f2d235d8c9626f830452fcd1dabd...</td>\n",
       "    </tr>\n",
       "    <tr>\n",
       "      <th>20</th>\n",
       "      <td>1310038</td>\n",
       "      <td>7JMO</td>\n",
       "      <td>70c736799f0d567331d7539a710ddb27afc1e0d77ead98...</td>\n",
       "    </tr>\n",
       "    <tr>\n",
       "      <th>21</th>\n",
       "      <td>1311247</td>\n",
       "      <td>7CHB</td>\n",
       "      <td>e3061e76a9983257bed28e9f7d730e4a9d3e41fb6910a0...</td>\n",
       "    </tr>\n",
       "    <tr>\n",
       "      <th>32</th>\n",
       "      <td>1346822</td>\n",
       "      <td>7BEI</td>\n",
       "      <td>c2f3ed6d6f691c2ec604dc041f5c242fb0c37511481e4d...</td>\n",
       "    </tr>\n",
       "    <tr>\n",
       "      <th>34</th>\n",
       "      <td>1346823</td>\n",
       "      <td>7BEM</td>\n",
       "      <td>1ae2fb81015e7a30715df39f8cd0ee89be1727651d7c4e...</td>\n",
       "    </tr>\n",
       "    <tr>\n",
       "      <th>36</th>\n",
       "      <td>1392553</td>\n",
       "      <td>7CJF</td>\n",
       "      <td>8616e0b4db9848d3b17b1e078a2f1e8840ebc13c35c10a...</td>\n",
       "    </tr>\n",
       "    <tr>\n",
       "      <th>41</th>\n",
       "      <td>2134977</td>\n",
       "      <td>7CHP</td>\n",
       "      <td>71a244ac0d18725ec622c3c6d0f3075c16a9d36e44442b...</td>\n",
       "    </tr>\n",
       "    <tr>\n",
       "      <th>45</th>\n",
       "      <td>2060661</td>\n",
       "      <td>7U2E</td>\n",
       "      <td>44e1f015023558e07807a2e3989fbda82d06f48c5ca468...</td>\n",
       "    </tr>\n",
       "    <tr>\n",
       "      <th>46</th>\n",
       "      <td>2060664</td>\n",
       "      <td>7U2D</td>\n",
       "      <td>82191f407191e1dace0a2367e9fd1462f963b32952699f...</td>\n",
       "    </tr>\n",
       "    <tr>\n",
       "      <th>49</th>\n",
       "      <td>2144729</td>\n",
       "      <td>7WBZ</td>\n",
       "      <td>2da9afba0e2ab0e36f3bf984161568eec7065781699ae7...</td>\n",
       "    </tr>\n",
       "    <tr>\n",
       "      <th>51</th>\n",
       "      <td>2217933</td>\n",
       "      <td>7UL1</td>\n",
       "      <td>00d47bc9bca525bc3808c5ad45a2045c262dd44178f031...</td>\n",
       "    </tr>\n",
       "  </tbody>\n",
       "</table>\n",
       "</div>"
      ],
      "text/plain": [
       "    Epitope_ID   PDB                                           Clone_ID\n",
       "18     1087266  6XC2  11c8da005bc94af6e9f2d235d8c9626f830452fcd1dabd...\n",
       "20     1310038  7JMO  70c736799f0d567331d7539a710ddb27afc1e0d77ead98...\n",
       "21     1311247  7CHB  e3061e76a9983257bed28e9f7d730e4a9d3e41fb6910a0...\n",
       "32     1346822  7BEI  c2f3ed6d6f691c2ec604dc041f5c242fb0c37511481e4d...\n",
       "34     1346823  7BEM  1ae2fb81015e7a30715df39f8cd0ee89be1727651d7c4e...\n",
       "36     1392553  7CJF  8616e0b4db9848d3b17b1e078a2f1e8840ebc13c35c10a...\n",
       "41     2134977  7CHP  71a244ac0d18725ec622c3c6d0f3075c16a9d36e44442b...\n",
       "45     2060661  7U2E  44e1f015023558e07807a2e3989fbda82d06f48c5ca468...\n",
       "46     2060664  7U2D  82191f407191e1dace0a2367e9fd1462f963b32952699f...\n",
       "49     2144729  7WBZ  2da9afba0e2ab0e36f3bf984161568eec7065781699ae7...\n",
       "51     2217933  7UL1  00d47bc9bca525bc3808c5ad45a2045c262dd44178f031..."
      ]
     },
     "execution_count": 35,
     "metadata": {},
     "output_type": "execute_result"
    }
   ],
   "source": [
    "epitope_ids_missed_pairs_space2 = set(missed_pairs_space2[\"Epitope_ID_A\"]).union(set(missed_pairs_space2[\"Epitope_ID_B\"]))\n",
    "epitope_clone_mapping[epitope_clone_mapping[\"Epitope_ID\"].isin(epitope_ids_missed_pairs_space2)]"
   ]
  },
  {
   "cell_type": "markdown",
   "id": "d0d5ca9c",
   "metadata": {},
   "source": [
    "## Cluster summary"
   ]
  },
  {
   "cell_type": "code",
   "execution_count": 36,
   "id": "66be3a06",
   "metadata": {},
   "outputs": [
    {
     "data": {
      "text/plain": [
       "Clustered\n",
       "0    184\n",
       "1     13\n",
       "2      7\n",
       "3      9\n",
       "Name: count, dtype: int64"
      ]
     },
     "execution_count": 36,
     "metadata": {},
     "output_type": "execute_result"
    }
   ],
   "source": [
    "cluster_summary = cluster_comparison[[\"Epitope_ID_A\", \"Epitope_ID_B\", \"Clone_ID_A\", \"Clone_ID_B\", \"IGX_clustered\", \n",
    "    \"SPACE2_clustered\", \"SAABplus_clustered\"]]\n",
    "cluster_summary[\"Clustered\"] = cluster_summary[[\"IGX_clustered\", \"SPACE2_clustered\", \"SAABplus_clustered\"]].sum(axis=1)\n",
    "cluster_summary[\"Clustered\"].value_counts().sort_index()"
   ]
  },
  {
   "cell_type": "markdown",
   "id": "e11ce6ad",
   "metadata": {},
   "source": [
    "# Save data"
   ]
  },
  {
   "cell_type": "code",
   "execution_count": 37,
   "id": "218a6922",
   "metadata": {},
   "outputs": [],
   "source": [
    "cluster_comparison.to_csv(os.path.dirname(os.getcwd()) + \"/data/antibody_pairs/Antibody_pairs_cluster_comparison.csv\",\n",
    "    index=False)"
   ]
  }
 ],
 "metadata": {
  "kernelspec": {
   "display_name": "Python 3",
   "language": "python",
   "name": "python3"
  },
  "language_info": {
   "codemirror_mode": {
    "name": "ipython",
    "version": 3
   },
   "file_extension": ".py",
   "mimetype": "text/x-python",
   "name": "python",
   "nbconvert_exporter": "python",
   "pygments_lexer": "ipython3",
   "version": "3.8.5"
  }
 },
 "nbformat": 4,
 "nbformat_minor": 5
}
