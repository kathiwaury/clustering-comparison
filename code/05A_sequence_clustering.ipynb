{
 "cells": [
  {
   "cell_type": "markdown",
   "id": "49e8bae9",
   "metadata": {},
   "source": [
    "# Libraries"
   ]
  },
  {
   "cell_type": "code",
   "execution_count": 1,
   "id": "f8bc7e1f",
   "metadata": {},
   "outputs": [],
   "source": [
    "import matplotlib.pyplot as plt\n",
    "import os\n",
    "import pandas as pd\n",
    "import seaborn as sns\n",
    "import warnings\n",
    "\n",
    "from pandas.errors import SettingWithCopyWarning\n",
    "from sklearn.decomposition import PCA\n",
    "from sklearn.manifold import TSNE\n",
    "from sklearn.preprocessing import StandardScaler\n",
    "from utils import *\n",
    "\n",
    "warnings.simplefilter(action=\"ignore\", category=SettingWithCopyWarning)\n",
    "warnings.simplefilter(action=\"ignore\", category=FutureWarning)\n",
    "\n",
    "%matplotlib inline"
   ]
  },
  {
   "cell_type": "markdown",
   "id": "414f8f23",
   "metadata": {},
   "source": [
    "# Data import"
   ]
  },
  {
   "cell_type": "markdown",
   "id": "6bd7e9d2",
   "metadata": {},
   "source": [
    "## Antibdy pair sequence dataframes"
   ]
  },
  {
   "cell_type": "code",
   "execution_count": 2,
   "id": "11851f2f",
   "metadata": {},
   "outputs": [],
   "source": [
    "both_chains = pd.read_csv(os.path.dirname(os.getcwd()) + \n",
    "    \"/data/antibody_pairs/Antibody_pairs_backtranslated_both_chains.csv\")"
   ]
  },
  {
   "cell_type": "markdown",
   "id": "9171567b",
   "metadata": {},
   "source": [
    "## Epitope ID to PDB mapping"
   ]
  },
  {
   "cell_type": "code",
   "execution_count": 3,
   "id": "b8ceb630",
   "metadata": {},
   "outputs": [],
   "source": [
    "epitope_id_pdb_human = pd.read_csv(os.path.dirname(os.getcwd()) + \"/data/antibody_pairs/Epitope_PDB_ID.csv\")"
   ]
  },
  {
   "cell_type": "markdown",
   "id": "85b22a31",
   "metadata": {},
   "source": [
    "## IGX-Cluster\n",
    "CDRH3 similarity > 80%, same V and J gene"
   ]
  },
  {
   "cell_type": "code",
   "execution_count": 4,
   "id": "a3b886ac",
   "metadata": {},
   "outputs": [
    {
     "name": "stdout",
     "output_type": "stream",
     "text": [
      "Number of antibodies in simulated dataset: 10490\n"
     ]
    }
   ],
   "source": [
    "cluster_full = pd.read_csv(os.path.dirname(os.getcwd()) + \"/data/clustering/IGX_Cluster_clustering.tsv\", sep=\"\\t\", \n",
    "     low_memory=False)\n",
    "\n",
    "# drop NaN before counting clone IDs\n",
    "print(\"Number of antibodies in simulated dataset:\", len(cluster_full[\"Unique Clone Id\"].dropna().unique())) "
   ]
  },
  {
   "cell_type": "markdown",
   "id": "deaaf882",
   "metadata": {},
   "source": [
    "# Preprocessing"
   ]
  },
  {
   "cell_type": "markdown",
   "id": "b1cd02d8",
   "metadata": {},
   "source": [
    "## Separate germline sequences "
   ]
  },
  {
   "cell_type": "code",
   "execution_count": 5,
   "id": "5f49d9e0",
   "metadata": {
    "scrolled": true
   },
   "outputs": [
    {
     "name": "stdout",
     "output_type": "stream",
     "text": [
      "Germline sequences: 10197\n",
      "Unique antibodies: 10490\n"
     ]
    }
   ],
   "source": [
    "# separate germline and study sequences for all dataframes\n",
    "germline, cluster = separate_germline_seq(cluster_full) \n",
    "\n",
    "# filter for heavy and light chains\n",
    "cluster_heavy = cluster[cluster[\"Chain\"] == \"Heavy\"]\n",
    "cluster_light = cluster[cluster[\"Chain\"].isin([\"Lambda\", \"Kappa\"])]"
   ]
  },
  {
   "cell_type": "markdown",
   "id": "67a0cb43",
   "metadata": {},
   "source": [
    "## Number of antibodies and clusters"
   ]
  },
  {
   "cell_type": "code",
   "execution_count": 6,
   "id": "22a60464",
   "metadata": {},
   "outputs": [
    {
     "name": "stdout",
     "output_type": "stream",
     "text": [
      "Number of antibodies: 10490\n",
      "Number of clusters: 10197\n",
      "Average cluster size: 1.029\n"
     ]
    }
   ],
   "source": [
    "print(\"Number of antibodies:\", len(cluster_heavy[\"Unique Clone Id\"].unique()))\n",
    "print(\"Number of clusters:\", len(cluster_heavy[\"Unique Cluster Id\"].unique()))\n",
    "print(\"Average cluster size: %.3f\" %(np.mean(cluster_heavy[\"Unique Cluster Id\"].value_counts())))"
   ]
  },
  {
   "cell_type": "markdown",
   "id": "ee771586",
   "metadata": {},
   "source": [
    "## Multi-occupancy clusters"
   ]
  },
  {
   "cell_type": "code",
   "execution_count": 7,
   "id": "0a4465f7",
   "metadata": {},
   "outputs": [],
   "source": [
    "cluster_count = cluster_heavy[\"Unique Cluster Id\"].value_counts()\n",
    "single_clusters = cluster_count[cluster_count == 1].index\n",
    "multi_occupancy_clusters = cluster_count[cluster_count > 1].index"
   ]
  },
  {
   "cell_type": "code",
   "execution_count": 8,
   "id": "2e707b3c",
   "metadata": {},
   "outputs": [
    {
     "name": "stdout",
     "output_type": "stream",
     "text": [
      "Number of single-occupancy clusters: 9970\n",
      "Number of multi-occupancy clusters: 227\n",
      "Average multi-occupancy cluster size: 2.291\n",
      "Number of antibodies in multi-occupancy clusters: 520\n"
     ]
    }
   ],
   "source": [
    "print(\"Number of single-occupancy clusters:\", sum(cluster_count == 1))\n",
    "print(\"Number of multi-occupancy clusters:\", sum(cluster_count > 1))\n",
    "print(\"Average multi-occupancy cluster size: %.3f\" \\\n",
    "    %(np.mean(cluster_heavy[cluster_heavy[\"Unique Cluster Id\"].isin(multi_occupancy_clusters)] \\\n",
    "    [\"Unique Cluster Id\"].value_counts())))\n",
    "print(\"Number of antibodies in multi-occupancy clusters:\",\n",
    "      len(cluster_heavy[cluster_heavy[\"Unique Cluster Id\"].isin(multi_occupancy_clusters)]))"
   ]
  },
  {
   "cell_type": "markdown",
   "id": "97a5720f",
   "metadata": {},
   "source": [
    "# Match antibodies to clone IDs"
   ]
  },
  {
   "cell_type": "markdown",
   "id": "70fd0ed6",
   "metadata": {},
   "source": [
    "## Search for full receptor sequence"
   ]
  },
  {
   "cell_type": "code",
   "execution_count": 9,
   "id": "54dd0de8",
   "metadata": {},
   "outputs": [],
   "source": [
    "clone_id_dict = {}  \n",
    "clone_id_list = []        \n",
    "missing_antibody_list = []\n",
    "\n",
    "# check if antibody pairs are present in IGX file\n",
    "for i, row in both_chains.iterrows():\n",
    "    heavy_chain = translate_to_amino_acid(row[\"Full_nucleotide_seq_heavy\"])\n",
    "    light_chain = translate_to_amino_acid(row[\"Full_nucleotide_seq_light\"])\n",
    "    \n",
    "    if not is_any_substring_in_list(heavy_chain, cluster_heavy[\"Receptor Amino Acids\"]):\n",
    "        print(row[\"Epitope_ID\"], \"Heavy chain not found\")\n",
    "        missing_antibody_list.append(row[\"Epitope_ID\"])\n",
    "    if not is_any_substring_in_list(light_chain, cluster_light[\"Receptor Amino Acids\"]):\n",
    "        print(row[\"Epitope_ID\"], \"Light chain not found\")\n",
    "    \n",
    "    if is_any_substring_in_list(heavy_chain, cluster_heavy[\"Receptor Amino Acids\"]):\n",
    "        clone_id = find_clone_ID_of_substring(heavy_chain, cluster_heavy)\n",
    "        clone_id_list.append(clone_id)\n",
    "        clone_id_dict[row[\"Epitope_ID\"]] = clone_id"
   ]
  },
  {
   "cell_type": "code",
   "execution_count": 10,
   "id": "e1a44d2f",
   "metadata": {},
   "outputs": [
    {
     "name": "stdout",
     "output_type": "stream",
     "text": [
      "Number of matched unique antibodies: 54\n"
     ]
    }
   ],
   "source": [
    "# identify clone ID for each antibody\n",
    "antibodies_clustered = cluster_heavy[cluster_heavy[\"Unique Clone Id\"].isin(clone_id_list)]\n",
    "print(\"Number of matched unique antibodies:\", len(antibodies_clustered[\"Unique Clone Id\"].unique()))"
   ]
  },
  {
   "cell_type": "code",
   "execution_count": 11,
   "id": "d146cb71",
   "metadata": {},
   "outputs": [
    {
     "data": {
      "text/html": [
       "<div>\n",
       "<style scoped>\n",
       "    .dataframe tbody tr th:only-of-type {\n",
       "        vertical-align: middle;\n",
       "    }\n",
       "\n",
       "    .dataframe tbody tr th {\n",
       "        vertical-align: top;\n",
       "    }\n",
       "\n",
       "    .dataframe thead th {\n",
       "        text-align: right;\n",
       "    }\n",
       "</style>\n",
       "<table border=\"1\" class=\"dataframe\">\n",
       "  <thead>\n",
       "    <tr style=\"text-align: right;\">\n",
       "      <th></th>\n",
       "      <th>Epitope_ID</th>\n",
       "      <th>PDB</th>\n",
       "      <th>Clone_ID</th>\n",
       "    </tr>\n",
       "  </thead>\n",
       "  <tbody>\n",
       "    <tr>\n",
       "      <th>0</th>\n",
       "      <td>164069</td>\n",
       "      <td>1G9N</td>\n",
       "      <td>3302c6ccef79e396bf79043b81511f50c70bd7c476e560...</td>\n",
       "    </tr>\n",
       "    <tr>\n",
       "      <th>1</th>\n",
       "      <td>164067</td>\n",
       "      <td>2I5Y</td>\n",
       "      <td>bf226286707d82bda728cbef30375ccd358dc00fd3d175...</td>\n",
       "    </tr>\n",
       "    <tr>\n",
       "      <th>2</th>\n",
       "      <td>164078</td>\n",
       "      <td>3MAC</td>\n",
       "      <td>ad5b550aabf130663ecc53fb708035fdb1ac5c34e1096b...</td>\n",
       "    </tr>\n",
       "    <tr>\n",
       "      <th>3</th>\n",
       "      <td>164079</td>\n",
       "      <td>3MA9</td>\n",
       "      <td>6503ec1e63c6319e7adc1227f4302ed2d618a15dbc81c1...</td>\n",
       "    </tr>\n",
       "    <tr>\n",
       "      <th>4</th>\n",
       "      <td>738088</td>\n",
       "      <td>6AZZ</td>\n",
       "      <td>808df714629d4dcf374a8429498e3407b49110b53130ee...</td>\n",
       "    </tr>\n",
       "  </tbody>\n",
       "</table>\n",
       "</div>"
      ],
      "text/plain": [
       "   Epitope_ID   PDB                                           Clone_ID\n",
       "0      164069  1G9N  3302c6ccef79e396bf79043b81511f50c70bd7c476e560...\n",
       "1      164067  2I5Y  bf226286707d82bda728cbef30375ccd358dc00fd3d175...\n",
       "2      164078  3MAC  ad5b550aabf130663ecc53fb708035fdb1ac5c34e1096b...\n",
       "3      164079  3MA9  6503ec1e63c6319e7adc1227f4302ed2d618a15dbc81c1...\n",
       "4      738088  6AZZ  808df714629d4dcf374a8429498e3407b49110b53130ee..."
      ]
     },
     "execution_count": 11,
     "metadata": {},
     "output_type": "execute_result"
    }
   ],
   "source": [
    "mapping = pd.DataFrame.from_dict(clone_id_dict, orient=\"index\").reset_index()\n",
    "mapping.columns = [\"Epitope_ID\", \"Clone_ID\"]\n",
    "mapping = epitope_id_pdb_human.merge(mapping, on=\"Epitope_ID\")\n",
    "mapping[:5]"
   ]
  },
  {
   "cell_type": "code",
   "execution_count": 12,
   "id": "32d0dc59",
   "metadata": {},
   "outputs": [
    {
     "name": "stdout",
     "output_type": "stream",
     "text": [
      "Number of missing antibodies: 0\n",
      "Fraction of missing antibodies: 0.00%\n"
     ]
    }
   ],
   "source": [
    "print(\"Number of missing antibodies:\", len(missing_antibody_list))\n",
    "print(\"Fraction of missing antibodies: %.2f%%\" %(len(missing_antibody_list) / len(both_chains)*100))"
   ]
  },
  {
   "cell_type": "markdown",
   "id": "2ba19414",
   "metadata": {},
   "source": [
    "## Dimensionality reduction"
   ]
  },
  {
   "cell_type": "code",
   "execution_count": 13,
   "id": "dd5223e9",
   "metadata": {},
   "outputs": [
    {
     "data": {
      "text/html": [
       "<svg  width=\"440\" height=\"55\"><rect x=\"0\" y=\"0\" width=\"55\" height=\"55\" style=\"fill:#66c2a5;stroke-width:2;stroke:rgb(255,255,255)\"/><rect x=\"55\" y=\"0\" width=\"55\" height=\"55\" style=\"fill:#fc8d62;stroke-width:2;stroke:rgb(255,255,255)\"/><rect x=\"110\" y=\"0\" width=\"55\" height=\"55\" style=\"fill:#8da0cb;stroke-width:2;stroke:rgb(255,255,255)\"/><rect x=\"165\" y=\"0\" width=\"55\" height=\"55\" style=\"fill:#e78ac3;stroke-width:2;stroke:rgb(255,255,255)\"/><rect x=\"220\" y=\"0\" width=\"55\" height=\"55\" style=\"fill:#a6d854;stroke-width:2;stroke:rgb(255,255,255)\"/><rect x=\"275\" y=\"0\" width=\"55\" height=\"55\" style=\"fill:#ffd92f;stroke-width:2;stroke:rgb(255,255,255)\"/><rect x=\"330\" y=\"0\" width=\"55\" height=\"55\" style=\"fill:#e5c494;stroke-width:2;stroke:rgb(255,255,255)\"/><rect x=\"385\" y=\"0\" width=\"55\" height=\"55\" style=\"fill:#b3b3b3;stroke-width:2;stroke:rgb(255,255,255)\"/></svg>"
      ],
      "text/plain": [
       "[(0.4, 0.7607843137254902, 0.6470588235294118),\n",
       " (0.9882352941176471, 0.5529411764705883, 0.3843137254901961),\n",
       " (0.5529411764705883, 0.6274509803921569, 0.796078431372549),\n",
       " (0.9058823529411765, 0.5411764705882353, 0.7647058823529411),\n",
       " (0.6509803921568628, 0.8470588235294118, 0.32941176470588235),\n",
       " (1.0, 0.8509803921568627, 0.1843137254901961),\n",
       " (0.8980392156862745, 0.7686274509803922, 0.5803921568627451),\n",
       " (0.7019607843137254, 0.7019607843137254, 0.7019607843137254)]"
      ]
     },
     "execution_count": 13,
     "metadata": {},
     "output_type": "execute_result"
    }
   ],
   "source": [
    "pal = sns.color_palette(palette=\"Set2\")\n",
    "pal"
   ]
  },
  {
   "cell_type": "markdown",
   "id": "57549dd0",
   "metadata": {},
   "source": [
    "### PCA"
   ]
  },
  {
   "cell_type": "code",
   "execution_count": 14,
   "id": "092ea921",
   "metadata": {},
   "outputs": [],
   "source": [
    "# include continuous descriptors\n",
    "cluster_heavy_pca = cluster_heavy[[\"Unique Clone Id\", \"CDR1 Amino Acids Length\", \"CDR2 Amino Acids Length\",\n",
    "    \"CDR3 Amino Acids Length\", \"FR1 Amino Acids Length\",  \"FR2 Amino Acids Length\", \"FR3 Amino Acids Length\",\n",
    "    \"Receptor Amino Acids Length\", \"V Gene Mutations\", \"J Gene Mutations\", \"V & J Gene Mutations\"]]\n",
    "\n",
    "cluster_light_pca = cluster_light[[\"Unique Clone Id\", \"CDR1 Amino Acids Length\", \"CDR2 Amino Acids Length\",\n",
    "    \"CDR3 Amino Acids Length\", \"FR1 Amino Acids Length\",  \"FR2 Amino Acids Length\", \"FR3 Amino Acids Length\",\n",
    "    \"Receptor Amino Acids Length\", \"V Gene Mutations\", \"J Gene Mutations\", \"V & J Gene Mutations\"]]\n",
    "\n",
    "# add label for antibody pair antibodies\n",
    "cluster_heavy_pca[\"Set\"] = np.where(cluster_heavy_pca[\"Unique Clone Id\"].isin(mapping[\"Clone_ID\"]), True, False)\n",
    "cluster_light_pca[\"Set\"] = np.where(cluster_light_pca[\"Unique Clone Id\"].isin(mapping[\"Clone_ID\"]), True, False)"
   ]
  },
  {
   "cell_type": "code",
   "execution_count": 15,
   "id": "f0e0c91a",
   "metadata": {},
   "outputs": [],
   "source": [
    "cluster_comb_pca = cluster_heavy_pca.merge(cluster_light_pca, on=\"Unique Clone Id\", suffixes=(\"_heavy\", \"_light\"))\n",
    "cluster_comb_pca[\"Set\"] = np.where(cluster_comb_pca[\"Unique Clone Id\"].isin(mapping[\"Clone_ID\"]), True, False)\n",
    "\n",
    "cluster_comb_pca[\"V & J Gene Mutations\"] = cluster_comb_pca[\"V & J Gene Mutations_heavy\"] + \\\n",
    "    cluster_comb_pca[\"V & J Gene Mutations_light\"]"
   ]
  },
  {
   "cell_type": "code",
   "execution_count": 16,
   "id": "5e67794a",
   "metadata": {},
   "outputs": [],
   "source": [
    "cluster_heavy_pca_features = cluster_heavy_pca.drop(labels=[\"Unique Clone Id\", \"Set\"], axis=1)\n",
    "\n",
    "# scale continuous features\n",
    "cluster_heavy_pca_features = pd.DataFrame(StandardScaler().fit_transform(cluster_heavy_pca_features))\n",
    "cluster_heavy_pca_features.columns = cluster_heavy_pca.columns[1:-1]"
   ]
  },
  {
   "cell_type": "code",
   "execution_count": 17,
   "id": "d3ec3758",
   "metadata": {},
   "outputs": [],
   "source": [
    "pca = PCA(n_components=2, random_state=0)\n",
    "components = pca.fit_transform(cluster_heavy_pca_features)"
   ]
  },
  {
   "cell_type": "code",
   "execution_count": 18,
   "id": "5538a088",
   "metadata": {},
   "outputs": [
    {
     "data": {
      "image/png": "[encoded data removed]",
      "text/plain": [
       "<Figure size 720x504 with 1 Axes>"
      ]
     },
     "metadata": {},
     "output_type": "display_data"
    }
   ],
   "source": [
    "sns.set(style=(\"ticks\"), font_scale=1, palette=\"Set2\")\n",
    "fig, ax = plt.subplots(1,1, figsize=(10,7))\n",
    "\n",
    "# add set column to PCA components for plotting\n",
    "components_set = pd.concat([pd.DataFrame(components), cluster_heavy_pca[\"Set\"].reset_index(drop=True)], axis=1)\n",
    "\n",
    "# plot sets separately to make sure antibody pair data points are at the front\n",
    "sns.scatterplot(data=components_set[components_set[\"Set\"] == False], x=0, y=1, label=\"Simulated\", \n",
    "    color=pal[6], ax=ax)\n",
    "sns.scatterplot(data=components_set[components_set[\"Set\"] == True], x=0, y=1, label=\"Antibody pair set\", \n",
    "    color=pal[3], ax=ax)\n",
    "ax.set(title=\"PCA on sequence-based descriptors\", xlabel=\"Principal component 1\", ylabel=\"Principal component 2\")\n",
    "\n",
    "plt.savefig(os.path.dirname(os.getcwd()) + \"/figs/PCA_simulated_data.png\", dpi=300, transparent=True,\n",
    "    bbox_inches=\"tight\")"
   ]
  },
  {
   "cell_type": "code",
   "execution_count": 19,
   "id": "f9aff2ee",
   "metadata": {},
   "outputs": [
    {
     "name": "stdout",
     "output_type": "stream",
     "text": [
      "PC1\n",
      "9 V & J Gene Mutations\n",
      "7 V Gene Mutations\n",
      "8 J Gene Mutations\n",
      "2 CDR3 Amino Acids Length\n",
      "6 Receptor Amino Acids Length\n",
      "\n",
      "PC2\n",
      "6 Receptor Amino Acids Length\n",
      "2 CDR3 Amino Acids Length\n",
      "7 V Gene Mutations\n",
      "9 V & J Gene Mutations\n",
      "0 CDR1 Amino Acids Length\n"
     ]
    }
   ],
   "source": [
    "pc_loadings = pca.components_[0]\n",
    "feature_ranking = sorted(range(len(pc_loadings)), key=lambda i: abs(pc_loadings[i]), reverse=True)\n",
    "print(\"PC1\")\n",
    "for i in feature_ranking[:5]:\n",
    "    print(i, cluster_heavy_pca_features.columns[i])\n",
    "    \n",
    "print(\"\")\n",
    "pc_loadings = pca.components_[1]\n",
    "feature_ranking = sorted(range(len(pc_loadings)), key=lambda i: abs(pc_loadings[i]), reverse=True)\n",
    "print(\"PC2\")\n",
    "for i in feature_ranking[:5]:\n",
    "    print(i, cluster_heavy_pca_features.columns[i])"
   ]
  },
  {
   "cell_type": "markdown",
   "id": "43287e7b",
   "metadata": {},
   "source": [
    "# Save data"
   ]
  },
  {
   "cell_type": "markdown",
   "id": "d0d7738a",
   "metadata": {},
   "source": [
    "## IGX-Cluster clustered antibodies"
   ]
  },
  {
   "cell_type": "code",
   "execution_count": 20,
   "id": "4d202f41",
   "metadata": {},
   "outputs": [],
   "source": [
    "antibodies_clustered.to_csv(os.path.dirname(os.getcwd()) + \"/data/antibody_pairs/Antibody_pairs_clustered_IGX.csv\", \n",
    "    index=False)"
   ]
  },
  {
   "cell_type": "markdown",
   "id": "4b1a820c",
   "metadata": {},
   "source": [
    "## Epitope PDB clone ID mapping"
   ]
  },
  {
   "cell_type": "code",
   "execution_count": 21,
   "id": "f330c573",
   "metadata": {},
   "outputs": [],
   "source": [
    "mapping.to_csv(os.path.dirname(os.getcwd()) + \"/data/antibody_pairs/Epitope_PDB_clone_ID.csv\", index=False)"
   ]
  },
  {
   "cell_type": "markdown",
   "id": "eaf6227f",
   "metadata": {},
   "source": [
    "## Clustering input"
   ]
  },
  {
   "cell_type": "markdown",
   "id": "34e3e2e9",
   "metadata": {},
   "source": [
    "### SAAB+ "
   ]
  },
  {
   "cell_type": "code",
   "execution_count": 22,
   "id": "5a517c38",
   "metadata": {},
   "outputs": [],
   "source": [
    "with open(os.path.dirname(os.getcwd()) + \"/data/FASTA/Repertoire_heavy_chains.fasta\", \"w\") as f:\n",
    "    for i, row in cluster_heavy.iterrows():\n",
    "        f.write(\">\" + str(row[\"Unique Clone Id\"]) + \"\\n\")\n",
    "        f.write(row[\"Receptor Amino Acids\"] + \"\\n\")"
   ]
  },
  {
   "cell_type": "markdown",
   "id": "a9c44a1a",
   "metadata": {},
   "source": [
    "### ImmuneBuilder"
   ]
  },
  {
   "cell_type": "code",
   "execution_count": 23,
   "id": "87f762ce",
   "metadata": {},
   "outputs": [
    {
     "name": "stdout",
     "output_type": "stream",
     "text": [
      "Number of antibodies in ImmuneBuilder input dataframe: 10490\n"
     ]
    }
   ],
   "source": [
    "immune_builder_df = create_immune_builder_dataframe(cluster)\n",
    "print(\"Number of antibodies in ImmuneBuilder input dataframe:\", len(immune_builder_df))"
   ]
  },
  {
   "cell_type": "code",
   "execution_count": 24,
   "id": "71b68384",
   "metadata": {},
   "outputs": [],
   "source": [
    "immune_builder_df.to_csv(os.path.dirname(os.getcwd()) + \"/data/clustering/ImmuneBuilder_input.csv\", index=False)"
   ]
  }
 ],
 "metadata": {
  "kernelspec": {
   "display_name": "Python 3",
   "language": "python",
   "name": "python3"
  },
  "language_info": {
   "codemirror_mode": {
    "name": "ipython",
    "version": 3
   },
   "file_extension": ".py",
   "mimetype": "text/x-python",
   "name": "python",
   "nbconvert_exporter": "python",
   "pygments_lexer": "ipython3",
   "version": "3.8.5"
  }
 },
 "nbformat": 4,
 "nbformat_minor": 5
}
