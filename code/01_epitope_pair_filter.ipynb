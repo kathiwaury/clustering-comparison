{
 "cells": [
  {
   "cell_type": "markdown",
   "id": "49e8bae9",
   "metadata": {},
   "source": [
    "# Libraries"
   ]
  },
  {
   "cell_type": "code",
   "execution_count": 1,
   "id": "f8bc7e1f",
   "metadata": {},
   "outputs": [],
   "source": [
    "import matplotlib.pyplot as plt\n",
    "import numpy as np\n",
    "import os\n",
    "import pandas as pd\n",
    "import re\n",
    "import seaborn as sns\n",
    "\n",
    "from utils import *\n",
    "\n",
    "%matplotlib inline"
   ]
  },
  {
   "cell_type": "markdown",
   "id": "414f8f23",
   "metadata": {},
   "source": [
    "# Data import"
   ]
  },
  {
   "cell_type": "markdown",
   "id": "f906b712",
   "metadata": {},
   "source": [
    "## Epitope pairwise comparisons"
   ]
  },
  {
   "cell_type": "code",
   "execution_count": 2,
   "id": "ab56262d",
   "metadata": {},
   "outputs": [],
   "source": [
    "epitope_pairs_dict = {}\n",
    "\n",
    "# loop through directory with all pairwise epitope comparisons for top antigens in IEDB\n",
    "for filename in os.listdir(os.path.dirname(os.getcwd()) + \"/data/IEDB/epitope_comparison/\"): \n",
    "    \n",
    "    filepath = os.path.join(os.path.dirname(os.getcwd()) + \"/data/IEDB/epitope_comparison/\", filename)\n",
    "    df = pd.read_csv(filepath)\n",
    "    \n",
    "    # extract epitope ID\n",
    "    df[\"Epitope_ID_A\"] = df[\"Epitope_ID_A\"].apply(get_IEDB_ID)\n",
    "    df[\"Epitope_ID_B\"] = df[\"Epitope_ID_B\"].apply(get_IEDB_ID)\n",
    "    \n",
    "    # retrieve antigen and species name from file name\n",
    "    _, _, antigen, species = filename.split(\"_\")\n",
    "    \n",
    "    # remove file extension from species string\n",
    "    species, _ = species.split(\".\", maxsplit=1)\n",
    "    \n",
    "    # add dataframe to dictionary\n",
    "    epitope_pairs_dict[(antigen, species)] = df"
   ]
  },
  {
   "cell_type": "markdown",
   "id": "fd6b7e67",
   "metadata": {},
   "source": [
    "## IEDB assays"
   ]
  },
  {
   "cell_type": "code",
   "execution_count": 3,
   "id": "eb789372",
   "metadata": {},
   "outputs": [],
   "source": [
    "assays = pd.read_csv(os.path.dirname(os.getcwd()) + \"/data/IEDB/IEDB_assays_discontinuous.csv\")"
   ]
  },
  {
   "cell_type": "markdown",
   "id": "816eabfc",
   "metadata": {},
   "source": [
    "## SAbDab summary "
   ]
  },
  {
   "cell_type": "code",
   "execution_count": 4,
   "id": "f4570890",
   "metadata": {},
   "outputs": [
    {
     "name": "stdout",
     "output_type": "stream",
     "text": [
      "Number of all PDB antibody structures on SAbDab: 16105\n"
     ]
    }
   ],
   "source": [
    "sabdab = pd.read_csv(os.path.dirname(os.getcwd()) + \"/data/SAbDab/Summary_all_structures_all_organisms.tsv\", sep=\"\\t\")\n",
    "print(\"Number of all PDB antibody structures on SAbDab:\", len(sabdab))"
   ]
  },
  {
   "cell_type": "markdown",
   "id": "9a7562f8",
   "metadata": {},
   "source": [
    "# Epitope pair filtering for high overlap"
   ]
  },
  {
   "cell_type": "code",
   "execution_count": 5,
   "id": "33423038",
   "metadata": {},
   "outputs": [
    {
     "name": "stdout",
     "output_type": "stream",
     "text": [
      "Antigen: ADP-ribosylcyclasecyclicADP-ribosehydrolase1\n",
      "Species: Homosapiens\n",
      "\tNumber of compared epitope pairs: 21\n",
      "\tNumber of epitope pairs with >0.75 overlap: 0\n",
      "-----------------\n",
      "Antigen: Beta-2adrenergicreceptor\n",
      "Species: Homosapiens\n",
      "\tNumber of compared epitope pairs: 21\n",
      "\tNumber of epitope pairs with >0.75 overlap: 2\n",
      "-----------------\n",
      "Antigen: Beta-secretase2\n",
      "Species: Homosapiens\n",
      "\tNumber of compared epitope pairs: 15\n",
      "\tNumber of epitope pairs with >0.75 overlap: 5\n",
      "-----------------\n",
      "Antigen: BotulinumneurotoxintypeA\n",
      "Species: Clostridiumbotulinum\n",
      "\tNumber of compared epitope pairs: 78\n",
      "\tNumber of epitope pairs with >0.75 overlap: 1\n",
      "-----------------\n",
      "Antigen: CapsidproteinVP1\n",
      "Species: Norwalkvirus\n",
      "\tNumber of compared epitope pairs: 78\n",
      "\tNumber of epitope pairs with >0.75 overlap: 2\n",
      "-----------------\n",
      "Antigen: CD81antigen\n",
      "Species: Homosapiens\n",
      "\tNumber of compared epitope pairs: 15\n",
      "\tNumber of epitope pairs with >0.75 overlap: 1\n",
      "-----------------\n",
      "Antigen: Circumsporozoiteprotein\n",
      "Species: Plasmodiumfalciparum\n",
      "\tNumber of compared epitope pairs: 21\n",
      "\tNumber of epitope pairs with >0.75 overlap: 2\n",
      "-----------------\n",
      "Antigen: CoagulationfactorVIII\n",
      "Species: Homosapiens\n",
      "\tNumber of compared epitope pairs: 15\n",
      "\tNumber of epitope pairs with >0.75 overlap: 0\n",
      "-----------------\n",
      "Antigen: Cysticfibrosistransmembraneconductanceregulator\n",
      "Species: Homosapiens\n",
      "\tNumber of compared epitope pairs: 15\n",
      "\tNumber of epitope pairs with >0.75 overlap: 0\n",
      "-----------------\n",
      "Antigen: Envelopeglycoproteingp160\n",
      "Species: Humanimmunodeficiencyvirus1\n",
      "\tNumber of compared epitope pairs: 21115\n",
      "\tNumber of epitope pairs with >0.75 overlap: 103\n",
      "-----------------\n",
      "Antigen: Envelopeglycoprotein\n",
      "Species: Zaireebolavirus\n",
      "\tNumber of compared epitope pairs: 91\n",
      "\tNumber of epitope pairs with >0.75 overlap: 0\n",
      "-----------------\n",
      "Antigen: Epidermalgrowthfactorreceptor\n",
      "Species: Homosapiens\n",
      "\tNumber of compared epitope pairs: 55\n",
      "\tNumber of epitope pairs with >0.75 overlap: 1\n",
      "-----------------\n",
      "Antigen: FusionglycoproteinF0\n",
      "Species: Humanmetapneumovirus\n",
      "\tNumber of compared epitope pairs: 36\n",
      "\tNumber of epitope pairs with >0.75 overlap: 0\n",
      "-----------------\n",
      "Antigen: FusionglycoproteinF0\n",
      "Species: Humanorthopneumovirus\n",
      "\tNumber of compared epitope pairs: 210\n",
      "\tNumber of epitope pairs with >0.75 overlap: 5\n",
      "-----------------\n",
      "Antigen: Gag-Polpolyprotein\n",
      "Species: Humanimmunodeficiencyvirus1\n",
      "\tNumber of compared epitope pairs: 21\n",
      "\tNumber of epitope pairs with >0.75 overlap: 12\n",
      "-----------------\n",
      "Antigen: Gald4\n",
      "Species: Gallusgallus\n",
      "\tNumber of compared epitope pairs: 903\n",
      "\tNumber of epitope pairs with >0.75 overlap: 123\n",
      "-----------------\n",
      "Antigen: Genomepolyprotein\n",
      "Species: Denguevirus\n",
      "\tNumber of compared epitope pairs: 378\n",
      "\tNumber of epitope pairs with >0.75 overlap: 1\n",
      "-----------------\n",
      "Antigen: Genomepolyprotein\n",
      "Species: EnterovirusC\n",
      "\tNumber of compared epitope pairs: 15\n",
      "\tNumber of epitope pairs with >0.75 overlap: 0\n",
      "-----------------\n",
      "Antigen: Genomepolyprotein\n",
      "Species: Foot-and-mouthdiseasevirus\n",
      "\tNumber of compared epitope pairs: 15\n",
      "\tNumber of epitope pairs with >0.75 overlap: 0\n",
      "-----------------\n",
      "Antigen: Genomepolyprotein\n",
      "Species: HepacivirusC\n",
      "\tNumber of compared epitope pairs: 276\n",
      "\tNumber of epitope pairs with >0.75 overlap: 5\n",
      "-----------------\n",
      "Antigen: Genomepolyprotein\n",
      "Species: Hepacivirushominis\n",
      "\tNumber of compared epitope pairs: 325\n",
      "\tNumber of epitope pairs with >0.75 overlap: 5\n",
      "-----------------\n",
      "Antigen: Genomepolyprotein\n",
      "Species: Zikavirus\n",
      "\tNumber of compared epitope pairs: 253\n",
      "\tNumber of epitope pairs with >0.75 overlap: 2\n",
      "-----------------\n",
      "Antigen: Gproteinsubunitbeta1\n",
      "Species: Rattusnorvegicus\n",
      "\tNumber of compared epitope pairs: 36\n",
      "\tNumber of epitope pairs with >0.75 overlap: 7\n",
      "-----------------\n",
      "Antigen: Granulocyte-macrophagecolony-stimulatingfactor\n",
      "Species: Homosapiens\n",
      "\tNumber of compared epitope pairs: 15\n",
      "\tNumber of epitope pairs with >0.75 overlap: 2\n",
      "-----------------\n",
      "Antigen: Guaninenucleotide-bindingproteinGIGSGTsubunitbeta-1\n",
      "Species: Rattusnorvegicus\n",
      "\tNumber of compared epitope pairs: 36\n",
      "\tNumber of epitope pairs with >0.75 overlap: 7\n",
      "-----------------\n",
      "Antigen: Hemagglutinin\n",
      "Species: InfluenzaAvirus\n",
      "\tNumber of compared epitope pairs: 4186\n",
      "\tNumber of epitope pairs with >0.75 overlap: 9\n",
      "-----------------\n",
      "Antigen: Hemagglutinin\n",
      "Species: InfluenzaBvirus\n",
      "\tNumber of compared epitope pairs: 15\n",
      "\tNumber of epitope pairs with >0.75 overlap: 0\n",
      "-----------------\n",
      "Antigen: HistonechaperoneASF1\n",
      "Species: Saccharomycescerevisiae\n",
      "\tNumber of compared epitope pairs: 15\n",
      "\tNumber of epitope pairs with >0.75 overlap: 4\n",
      "-----------------\n",
      "Antigen: Immunoglobulinheavyconstantepsilon\n",
      "Species: Homosapiens\n",
      "\tNumber of compared epitope pairs: 28\n",
      "\tNumber of epitope pairs with >0.75 overlap: 4\n",
      "-----------------\n",
      "Antigen: Insulinreceptor\n",
      "Species: Homosapiens\n",
      "\tNumber of compared epitope pairs: 36\n",
      "\tNumber of epitope pairs with >0.75 overlap: 15\n",
      "-----------------\n",
      "Antigen: Iron-regulatedsurfacedeterminantproteinB\n",
      "Species: Staphylococcusaureus\n",
      "\tNumber of compared epitope pairs: 15\n",
      "\tNumber of epitope pairs with >0.75 overlap: 0\n",
      "-----------------\n",
      "Antigen: Maltosemaltodextrin-bindingperiplasmicprotein\n",
      "Species: Escherichiacoli\n",
      "\tNumber of compared epitope pairs: 36\n",
      "\tNumber of epitope pairs with >0.75 overlap: 0\n",
      "-----------------\n",
      "Antigen: Neuraminidase\n",
      "Species: InfluenzaAvirus\n",
      "\tNumber of compared epitope pairs: 253\n",
      "\tNumber of epitope pairs with >0.75 overlap: 4\n",
      "-----------------\n",
      "Antigen: OokinetesurfaceproteinP25\n",
      "Species: Plasmodiumfalciparum\n",
      "\tNumber of compared epitope pairs: 78\n",
      "\tNumber of epitope pairs with >0.75 overlap: 3\n",
      "-----------------\n",
      "Antigen: Plasminogenactivatorinhibitor1\n",
      "Species: Homosapiens\n",
      "\tNumber of compared epitope pairs: 15\n",
      "\tNumber of epitope pairs with >0.75 overlap: 2\n",
      "-----------------\n",
      "Antigen: Pre-glycoproteinpolyproteinGPcomplex\n",
      "Species: Mammarenaviruslassaense\n",
      "\tNumber of compared epitope pairs: 15\n",
      "\tNumber of epitope pairs with >0.75 overlap: 2\n",
      "-----------------\n",
      "Antigen: Programmedcelldeath1ligand1\n",
      "Species: Homosapiens\n",
      "\tNumber of compared epitope pairs: 36\n",
      "\tNumber of epitope pairs with >0.75 overlap: 1\n",
      "-----------------\n",
      "Antigen: Programmedcelldeathprotein1\n",
      "Species: Homosapiens\n",
      "\tNumber of compared epitope pairs: 91\n",
      "\tNumber of epitope pairs with >0.75 overlap: 1\n",
      "-----------------\n",
      "Antigen: Proproteinconvertasesubtilisinkexintype9\n",
      "Species: Homosapiens\n",
      "\tNumber of compared epitope pairs: 15\n",
      "\tNumber of epitope pairs with >0.75 overlap: 1\n",
      "-----------------\n",
      "Antigen: Receptortyrosine-proteinkinaseerbB-2\n",
      "Species: Homosapiens\n",
      "\tNumber of compared epitope pairs: 120\n",
      "\tNumber of epitope pairs with >0.75 overlap: 0\n",
      "-----------------\n",
      "Antigen: Reticulocyte-bindingproteinhomolog5\n",
      "Species: Plasmodiumfalciparum\n",
      "\tNumber of compared epitope pairs: 15\n",
      "\tNumber of epitope pairs with >0.75 overlap: 0\n",
      "-----------------\n",
      "Antigen: Reticulocytebindingprotein2putative\n",
      "Species: Plasmodiumvivax\n",
      "\tNumber of compared epitope pairs: 45\n",
      "\tNumber of epitope pairs with >0.75 overlap: 2\n",
      "-----------------\n",
      "Antigen: RicinhomologtruncatedFragment\n",
      "Species: Ricinuscommunis\n",
      "\tNumber of compared epitope pairs: 300\n",
      "\tNumber of epitope pairs with >0.75 overlap: 6\n",
      "-----------------\n",
      "Antigen: Spikeglycoprotein\n",
      "Species: MiddleEastrespiratorysyndrome-relatedcoronavirus\n",
      "\tNumber of compared epitope pairs: 153\n",
      "\tNumber of epitope pairs with >0.75 overlap: 1\n",
      "-----------------\n",
      "Antigen: Spikeglycoprotein\n",
      "Species: SARS-CoV1\n",
      "\tNumber of compared epitope pairs: 105\n",
      "\tNumber of epitope pairs with >0.75 overlap: 0\n",
      "-----------------\n",
      "Antigen: Spikeglycoprotein\n",
      "Species: Severeacuterespiratorysyndromecoronavirus2\n",
      "\tNumber of compared epitope pairs: 218791\n",
      "\tNumber of epitope pairs with >0.75 overlap: 1044\n",
      "-----------------\n",
      "Antigen: Structuralpolyprotein\n",
      "Species: Easternequineencephalitisvirus\n",
      "\tNumber of compared epitope pairs: 21\n",
      "\tNumber of epitope pairs with >0.75 overlap: 0\n",
      "-----------------\n",
      "Antigen: ToxinA\n",
      "Species: Clostridioidesdifficile\n",
      "\tNumber of compared epitope pairs: 15\n",
      "\tNumber of epitope pairs with >0.75 overlap: 0\n",
      "-----------------\n",
      "Antigen: ToxinB\n",
      "Species: Clostridioidesdifficile\n",
      "\tNumber of compared epitope pairs: 36\n",
      "\tNumber of epitope pairs with >0.75 overlap: 0\n",
      "-----------------\n",
      "Antigen: Tumornecrosisfactorreceptorsuperfamilymember10B\n",
      "Species: Homosapiens\n",
      "\tNumber of compared epitope pairs: 21\n",
      "\tNumber of epitope pairs with >0.75 overlap: 0\n",
      "-----------------\n",
      "Antigen: Tumornecrosisfactor\n",
      "Species: Homosapiens\n",
      "\tNumber of compared epitope pairs: 15\n",
      "\tNumber of epitope pairs with >0.75 overlap: 0\n",
      "-----------------\n",
      "Antigen: Tyrosine-proteinphosphatasenon-receptortypesubstrate1\n",
      "Species: Homosapiens\n",
      "\tNumber of compared epitope pairs: 21\n",
      "\tNumber of epitope pairs with >0.75 overlap: 0\n",
      "-----------------\n",
      "Antigen: Voltage-gatedpotassiumchannel\n",
      "Species: Streptomyceslividans\n",
      "\tNumber of compared epitope pairs: 21\n",
      "\tNumber of epitope pairs with >0.75 overlap: 15\n",
      "-----------------\n",
      "Antigen: vonWillebrandfactor\n",
      "Species: Homosapiens\n",
      "\tNumber of compared epitope pairs: 10\n",
      "\tNumber of epitope pairs with >0.75 overlap: 1\n",
      "-----------------\n"
     ]
    }
   ],
   "source": [
    "epitope_cutoff = 0.75 # choose rather low cutoff, can always filter antibodies later\n",
    "epitope_pairs_similar_dict = {}\n",
    "epitope_ids = []\n",
    "    \n",
    "for key in epitope_pairs_dict.keys():\n",
    "    \n",
    "    print(\"Antigen:\", key[0])\n",
    "    print(\"Species:\", key[1])\n",
    "    \n",
    "    # filter current dataframe for overlapping epitopes above cutoff\n",
    "    current_epitope_pairs = epitope_pairs_dict[key]\n",
    "    print(\"\\tNumber of compared epitope pairs:\", len(current_epitope_pairs))\n",
    "    \n",
    "    epitope_pairs_similar = filter_epitopes_for_high_overlap(current_epitope_pairs, cutoff=epitope_cutoff)\n",
    "    epitope_pairs_similar_dict[key] = epitope_pairs_similar\n",
    "    print(\"\\tNumber of epitope pairs with >%.2f overlap: %i\" %(epitope_cutoff, len(epitope_pairs_similar)))\n",
    "    \n",
    "    epitope_ids = create_list_of_epitope_IDs(epitope_ids, epitope_pairs_similar)\n",
    "    \n",
    "    print(\"-----------------\")"
   ]
  },
  {
   "cell_type": "code",
   "execution_count": 6,
   "id": "38a84b91",
   "metadata": {},
   "outputs": [
    {
     "name": "stdout",
     "output_type": "stream",
     "text": [
      "Number of epitope pairs with overlap >0.75 overlap: 1401\n",
      "Number of unique epitope IDs: 527\n"
     ]
    }
   ],
   "source": [
    "epitope_pairs_similar_df = pd.DataFrame()\n",
    "\n",
    "for key in epitope_pairs_similar_dict.keys():        \n",
    "    epitope_pairs_similar_df = pd.concat([epitope_pairs_similar_df, epitope_pairs_similar_dict[key]])\n",
    "\n",
    "print(\"Number of epitope pairs with overlap >%.2f overlap: %i\" %(epitope_cutoff, len(epitope_pairs_similar_df)))\n",
    "print(\"Number of unique epitope IDs:\", len(epitope_ids))\n",
    "\n",
    "# save dataframe\n",
    "epitope_pairs_similar_df.to_csv(os.path.dirname(os.getcwd()) + \"/data/IEDB/Epitope_pairs_similar.csv\", index=False)"
   ]
  },
  {
   "cell_type": "markdown",
   "id": "0dd4f9df",
   "metadata": {},
   "source": [
    "# Annotation of antibody information"
   ]
  },
  {
   "cell_type": "markdown",
   "id": "2175e8ce",
   "metadata": {},
   "source": [
    "## Retrieve PDB IDs of IEDB entries"
   ]
  },
  {
   "cell_type": "code",
   "execution_count": 7,
   "id": "1dbb1920",
   "metadata": {},
   "outputs": [
    {
     "name": "stdout",
     "output_type": "stream",
     "text": [
      "Number of unique epitope-structure mappings: 675\n",
      "Number of unique PDB structures: 622\n"
     ]
    }
   ],
   "source": [
    "# get epitope-PDB ID mappings from IEDB assay dataframe\n",
    "assays[\"Epitope_ID\"] = assays[\"Epitope - IEDB IRI\"].apply(get_IEDB_ID)\n",
    "epitope_id_pdb = assays[assays[\"Epitope_ID\"].isin(epitope_ids)][[\"Epitope_ID\", \"Complex - PDB ID\"]]\n",
    "epitope_id_pdb.drop_duplicates(inplace=True)\n",
    "epitope_id_pdb.columns = [\"Epitope_ID\", \"PDB\"]\n",
    "print(\"Number of unique epitope-structure mappings:\", len(epitope_id_pdb[\"PDB\"]))\n",
    "print(\"Number of unique PDB structures:\", len(set(epitope_id_pdb[\"PDB\"])))"
   ]
  },
  {
   "cell_type": "markdown",
   "id": "0167aac9",
   "metadata": {},
   "source": [
    "## Filter SAbDab entries"
   ]
  },
  {
   "cell_type": "markdown",
   "id": "577a312d",
   "metadata": {},
   "source": [
    "### Separate human and non-human antibodies"
   ]
  },
  {
   "cell_type": "code",
   "execution_count": 8,
   "id": "715f9e33",
   "metadata": {},
   "outputs": [
    {
     "data": {
      "text/plain": [
       "heavy_species  light_species\n",
       "homo sapiens   homo sapiens     6871\n",
       "Name: count, dtype: int64"
      ]
     },
     "execution_count": 8,
     "metadata": {},
     "output_type": "execute_result"
    }
   ],
   "source": [
    "sabdab_human = sabdab[(sabdab[\"heavy_species\"] == \"homo sapiens\") & (sabdab[\"light_species\"] == \"homo sapiens\")]\n",
    "sabdab_human[[\"heavy_species\", \"light_species\"]].value_counts()"
   ]
  },
  {
   "cell_type": "code",
   "execution_count": 9,
   "id": "84ae2418",
   "metadata": {},
   "outputs": [
    {
     "name": "stdout",
     "output_type": "stream",
     "text": [
      "Number of all PDB antibody structures: 16105\n",
      "Number of human PDB antibody structures: 6871\n"
     ]
    }
   ],
   "source": [
    "print(\"Number of all PDB antibody structures:\", len(sabdab))\n",
    "print(\"Number of human PDB antibody structures:\", len(sabdab_human))"
   ]
  },
  {
   "cell_type": "markdown",
   "id": "32a024ff",
   "metadata": {},
   "source": [
    "### Filter on antibody information"
   ]
  },
  {
   "cell_type": "code",
   "execution_count": 10,
   "id": "943fc85b",
   "metadata": {},
   "outputs": [
    {
     "name": "stdout",
     "output_type": "stream",
     "text": [
      "Number of human PDB antibody structures: 2238\n"
     ]
    }
   ],
   "source": [
    "sabdab_human_filtered = filter_SAbDab_entries(sabdab_human)\n",
    "print(\"Number of human PDB antibody structures:\", len(sabdab_human_filtered))"
   ]
  },
  {
   "cell_type": "code",
   "execution_count": 11,
   "id": "d79cd47f",
   "metadata": {},
   "outputs": [
    {
     "name": "stdout",
     "output_type": "stream",
     "text": [
      "Number of human SAbDab entries left: 1433\n"
     ]
    }
   ],
   "source": [
    "sabdab_human_filtered_by_numbers = filter_SAbDab_entries_by_number(sabdab_human_filtered)\n",
    "print(\"Number of human SAbDab entries left:\", len(sabdab_human_filtered_by_numbers))"
   ]
  },
  {
   "cell_type": "code",
   "execution_count": 12,
   "id": "41cfb238",
   "metadata": {},
   "outputs": [
    {
     "name": "stdout",
     "output_type": "stream",
     "text": [
      "Number of IEDB epitopes with available human PDB antibody structures in SAbDab: 168\n"
     ]
    }
   ],
   "source": [
    "# lower case to match PDB IDs with SAbDab summary file\n",
    "pdb_list = epitope_id_pdb[\"PDB\"].str.lower()\n",
    "# filter for IEDB PDB IDs that are found in SAbDab\n",
    "sabdab_human_iedb = sabdab_human_filtered_by_numbers[sabdab_human_filtered_by_numbers[\"pdb\"].isin(set(pdb_list))]\n",
    "print(\"Number of IEDB epitopes with available human PDB antibody structures in SAbDab:\", len(set(sabdab_human_iedb[\"pdb\"])))"
   ]
  },
  {
   "cell_type": "markdown",
   "id": "10f66eac",
   "metadata": {},
   "source": [
    "## Check which SAbDab entries describe same antibody"
   ]
  },
  {
   "cell_type": "code",
   "execution_count": 13,
   "id": "cef55c64",
   "metadata": {},
   "outputs": [
    {
     "name": "stdout",
     "output_type": "stream",
     "text": [
      "Dropping: 7s5q 7s5r 8dxu 7nx7 7nxa 6de7 6xc7 7chf 7zfc 7m6d 7r8l 6mco 7che 7nx8 6uyg 6mdt 5t3z 7nx9 7pqz 7q0h 7k9z 7chc 7fcp 7or9 7r6w 5t3x 7s8h 5fyl 7lm8 7nx6 7q0g 6xc3 7zf3 7nxb \n",
      "\n",
      "Number of PDBs left: 36\n",
      "Checking: 1yyl 1yym 2i5y 2i60 5c7x 5d72 5g64 5if0 5uea 5umn 6ayz 6az2 6azz 6b0h 6mft 6xc2 6xc4 6yla 6z2m 7c01 7cho 7e5y 7e7x 7e7y 7klg 7klh 7kmg 7l2c 7m3i 7mmo 7msq 7pqy 7rxj 7s0x 7xsc 7zf9 \n",
      "\n",
      "Dropping: 5g64\n",
      "Number of PDBs with two entries: 35\n"
     ]
    }
   ],
   "source": [
    "# more than two entries indicates more than one antibody in PDB, not able to determine which antibody is relevant\n",
    "sabdab_human_iedb_two_entries = filter_for_antibodies_with_two_entries(sabdab_human_iedb)\n",
    "# if two entries for same PDB ID have identical antibody class, it is likely that it describes same antibody\n",
    "# difference in chain assignment between PDB and authors\n",
    "sabdab_human_iedb_same_class = filter_for_same_class_antibodies(sabdab_human_iedb_two_entries)\n",
    "\n",
    "print(\"\\n\\nNumber of PDBs left:\", len(sabdab_human_iedb_same_class[\"pdb\"].unique()))\n",
    "print(\"Checking: \", end=\"\")\n",
    "for pdb in sabdab_human_iedb_same_class[\"pdb\"].sort_values().unique():\n",
    "    print(pdb, end = \" \")\n",
    "\n",
    "# 36 entries with two rows but same antibody classes were checked manually on PDB\n",
    "# drop 5G64 as it contains two antibodies in stucture\n",
    "print(\"\\n\\nDropping: 5g64\")\n",
    "sabdab_human_iedb_same_class = sabdab_human_iedb_same_class[sabdab_human_iedb_same_class[\"pdb\"] != \"5g64\"]\n",
    "print(\"Number of PDBs with two entries:\", len(sabdab_human_iedb_same_class[\"pdb\"].unique()))"
   ]
  },
  {
   "cell_type": "code",
   "execution_count": 14,
   "id": "9e8a82a5",
   "metadata": {},
   "outputs": [
    {
     "name": "stdout",
     "output_type": "stream",
     "text": [
      "Number of final human SAbDab entries: 168\n",
      "Number of unique human PDB entries in SAbDab: 133\n"
     ]
    }
   ],
   "source": [
    "# final dataframe contains PDBs with only one entry or \n",
    "# with two entries that describe the same antibody with different chain names\n",
    "pdb_counts = sabdab_human_iedb[\"pdb\"].value_counts()\n",
    "sabdab_human_iedb_final = sabdab_human_iedb[(sabdab_human_iedb[\"pdb\"].isin(pdb_counts[pdb_counts == 1].index)) | \\\n",
    "    (sabdab_human_iedb[\"pdb\"].isin(sabdab_human_iedb_same_class[\"pdb\"]))]\n",
    "print(\"Number of final human SAbDab entries:\", len(sabdab_human_iedb_final))\n",
    "print(\"Number of unique human PDB entries in SAbDab:\", len(sabdab_human_iedb_final[\"pdb\"].unique()))"
   ]
  },
  {
   "cell_type": "markdown",
   "id": "fcc00ba4",
   "metadata": {},
   "source": [
    "## Create Epitope ID PDB mappings"
   ]
  },
  {
   "cell_type": "code",
   "execution_count": 15,
   "id": "619619fd",
   "metadata": {},
   "outputs": [
    {
     "name": "stdout",
     "output_type": "stream",
     "text": [
      "Number of human Epitope ID PDB mappings: 137\n",
      "Number of human Epitope IDs with multiple PDB mappings: 19\n",
      "Number of unique human Epitope ID PDB mappings: 118\n"
     ]
    }
   ],
   "source": [
    "epitope_id_pdb_filtered_human = epitope_id_pdb[epitope_id_pdb[\"PDB\"].isin(sabdab_human_iedb_final[\"pdb\"].str.upper())]\n",
    "print(\"Number of human Epitope ID PDB mappings:\", len(epitope_id_pdb_filtered_human))\n",
    "print(\"Number of human Epitope IDs with multiple PDB mappings:\", \n",
    "    len(epitope_id_pdb_filtered_human[epitope_id_pdb_filtered_human[\"Epitope_ID\"].duplicated()]))\n",
    "\n",
    "epitope_id_pdb_unique_human = epitope_id_pdb_filtered_human.drop_duplicates(subset=[\"Epitope_ID\"], keep=\"first\")\n",
    "print(\"Number of unique human Epitope ID PDB mappings:\", len(epitope_id_pdb_unique_human))"
   ]
  },
  {
   "cell_type": "markdown",
   "id": "74ff1c01",
   "metadata": {},
   "source": [
    "## Save data"
   ]
  },
  {
   "cell_type": "code",
   "execution_count": 16,
   "id": "84109b47",
   "metadata": {},
   "outputs": [],
   "source": [
    "epitope_id_pdb_unique_human.to_csv(os.path.dirname(os.getcwd()) + \n",
    "    \"/data/antibody_pairs/Epitope_PDB_ID.csv\", index=False)\n",
    "sabdab_human_iedb_final.to_csv(os.path.dirname(os.getcwd()) + \n",
    "    \"/data/SAbDab/Summary_antibody_pair_structures_human.csv\", index=False)"
   ]
  },
  {
   "cell_type": "markdown",
   "id": "970bb893",
   "metadata": {},
   "source": [
    "## Antibody sequence retrieval"
   ]
  },
  {
   "cell_type": "markdown",
   "id": "c7cfdecb",
   "metadata": {},
   "source": [
    "### Automatic\n",
    "\n",
    "```\n",
    "Input: Summary_antibody_pair_structures_human.csv \n",
    "Script: antibody_sequence_retrieval_from_pdb.py \n",
    "Output: Antibody_pairs_amino_acid_heavy_chain.FASTA, Antibody_pairs_amino_acid_light_chain.FASTA\n",
    "```"
   ]
  },
  {
   "cell_type": "markdown",
   "id": "8abfb371",
   "metadata": {},
   "source": [
    "### Manually\n",
    "\n",
    "https://www.rcsb.org/fasta/entry/[PDB]/display"
   ]
  },
  {
   "cell_type": "code",
   "execution_count": 17,
   "id": "e4b50385",
   "metadata": {},
   "outputs": [],
   "source": [
    "pdb_ids_list_heavy_human = extract_pdb_ids_from_fasta(os.path.dirname(os.getcwd()) + \n",
    "     \"/data/FASTA/Antibody_pairs_amino_acid_heavy_chain.fasta\")\n",
    "pdb_ids_list_light_human = extract_pdb_ids_from_fasta(os.path.dirname(os.getcwd()) + \n",
    "     \"/data/FASTA/Antibody_pairs_amino_acid_light_chain.fasta\")"
   ]
  },
  {
   "cell_type": "code",
   "execution_count": 18,
   "id": "0fa617f9",
   "metadata": {},
   "outputs": [
    {
     "name": "stdout",
     "output_type": "stream",
     "text": [
      "Number of heavy chains without retrieved FASTA sequence: 14\n",
      "7S5P\n",
      "7UL0\n",
      "7UL1\n",
      "7T72\n",
      "8BH5\n",
      "7WBZ\n",
      "8CWV\n",
      "7ZF8\n",
      "7U2E\n",
      "7U2D\n",
      "7RXI\n",
      "7SBU\n",
      "7SD5\n",
      "7FCQ\n"
     ]
    }
   ],
   "source": [
    "pdb_ids_list_heavy_human = pd.Series(pdb_ids_list_heavy_human).str.lower()\n",
    "sabdab_no_sequence_heavy = sabdab_human_iedb_final[~sabdab_human_iedb_final[\"pdb\"].isin(pdb_ids_list_heavy_human)][\"pdb\"]\n",
    "print(\"Number of heavy chains without retrieved FASTA sequence:\", len(sabdab_no_sequence_heavy))\n",
    "for i in sabdab_no_sequence_heavy.str.upper():\n",
    "    print(i)"
   ]
  },
  {
   "cell_type": "code",
   "execution_count": 19,
   "id": "fc2791ef",
   "metadata": {},
   "outputs": [
    {
     "name": "stdout",
     "output_type": "stream",
     "text": [
      "Number of light chains without retrieved FASTA sequence: 23\n",
      "7XSC\n",
      "7XS8\n",
      "7S5P\n",
      "7UL0\n",
      "7UL1\n",
      "7T72\n",
      "8BH5\n",
      "7WBZ\n",
      "8CWV\n",
      "7S0X\n",
      "7PQY\n",
      "7ZF8\n",
      "7MSQ\n",
      "7ZF9\n",
      "7RXJ\n",
      "7F7E\n",
      "7U2E\n",
      "7U2D\n",
      "7RXI\n",
      "7SBU\n",
      "7PS1\n",
      "7SD5\n",
      "7FCQ\n"
     ]
    }
   ],
   "source": [
    "pdb_ids_list_light_human = pd.Series(pdb_ids_list_light_human).str.lower()\n",
    "sabdab_no_sequence_light = sabdab_human_iedb_final[~sabdab_human_iedb_final[\"pdb\"].isin(pdb_ids_list_light_human)][\"pdb\"]\n",
    "print(\"Number of light chains without retrieved FASTA sequence:\", len(sabdab_no_sequence_light.unique()))\n",
    "for i in sabdab_no_sequence_light.str.upper().unique():\n",
    "    print(i)"
   ]
  }
 ],
 "metadata": {
  "kernelspec": {
   "display_name": "Python 3",
   "language": "python",
   "name": "python3"
  },
  "language_info": {
   "codemirror_mode": {
    "name": "ipython",
    "version": 3
   },
   "file_extension": ".py",
   "mimetype": "text/x-python",
   "name": "python",
   "nbconvert_exporter": "python",
   "pygments_lexer": "ipython3",
   "version": "3.8.5"
  }
 },
 "nbformat": 4,
 "nbformat_minor": 5
}
