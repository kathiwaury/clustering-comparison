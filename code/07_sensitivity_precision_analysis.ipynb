{
 "cells": [
  {
   "cell_type": "markdown",
   "id": "49e8bae9",
   "metadata": {},
   "source": [
    "# Libraries"
   ]
  },
  {
   "cell_type": "code",
   "execution_count": 1,
   "id": "f8bc7e1f",
   "metadata": {},
   "outputs": [],
   "source": [
    "import matplotlib.pyplot as plt\n",
    "import numpy as np\n",
    "import os\n",
    "import pandas as pd\n",
    "import random\n",
    "import seaborn as sns\n",
    "import sys\n",
    "import warnings\n",
    "\n",
    "sys.path.append(\"..\")\n",
    "from utils import *\n",
    "\n",
    "# warnings.simplefilter(action=\"ignore\", category=FutureWarning)\n",
    "# warnings.simplefilter(action=\"ignore\", category=SettingWithCopyWarning)\n",
    "\n",
    "%matplotlib inline"
   ]
  },
  {
   "cell_type": "markdown",
   "id": "414f8f23",
   "metadata": {},
   "source": [
    "# Data import"
   ]
  },
  {
   "cell_type": "markdown",
   "id": "044f2d8f",
   "metadata": {},
   "source": [
    "## Antibody pairs"
   ]
  },
  {
   "cell_type": "code",
   "execution_count": 2,
   "id": "77826b79",
   "metadata": {},
   "outputs": [],
   "source": [
    "antibody_pairs = pd.read_csv(os.path.dirname(os.getcwd()) + \"/data/antibody_pairs/Antibody_pairs.csv\")"
   ]
  },
  {
   "cell_type": "code",
   "execution_count": 3,
   "id": "e080419d",
   "metadata": {},
   "outputs": [
    {
     "data": {
      "text/html": [
       "<div>\n",
       "<style scoped>\n",
       "    .dataframe tbody tr th:only-of-type {\n",
       "        vertical-align: middle;\n",
       "    }\n",
       "\n",
       "    .dataframe tbody tr th {\n",
       "        vertical-align: top;\n",
       "    }\n",
       "\n",
       "    .dataframe thead th {\n",
       "        text-align: right;\n",
       "    }\n",
       "</style>\n",
       "<table border=\"1\" class=\"dataframe\">\n",
       "  <thead>\n",
       "    <tr style=\"text-align: right;\">\n",
       "      <th></th>\n",
       "      <th>Epitope_ID_A</th>\n",
       "      <th>Epitope_ID_B</th>\n",
       "      <th>Clone_ID_A</th>\n",
       "      <th>Clone_ID_B</th>\n",
       "      <th>IGX_A</th>\n",
       "      <th>IGX_B</th>\n",
       "      <th>IGX_clustered</th>\n",
       "      <th>SAABplus_A</th>\n",
       "      <th>SAABplus_B</th>\n",
       "      <th>SAABplus_clustered</th>\n",
       "      <th>SPACE2_A</th>\n",
       "      <th>SPACE2_B</th>\n",
       "      <th>SPACE2_length_A</th>\n",
       "      <th>SPACE2_length_B</th>\n",
       "      <th>SPACE2_clustered</th>\n",
       "      <th>SPACE2_clustered_length</th>\n",
       "    </tr>\n",
       "  </thead>\n",
       "  <tbody>\n",
       "    <tr>\n",
       "      <th>0</th>\n",
       "      <td>164067</td>\n",
       "      <td>164069</td>\n",
       "      <td>bf226286707d82bda728cbef30375ccd358dc00fd3d175...</td>\n",
       "      <td>3302c6ccef79e396bf79043b81511f50c70bd7c476e560...</td>\n",
       "      <td>1328</td>\n",
       "      <td>1328</td>\n",
       "      <td>True</td>\n",
       "      <td>1yymR</td>\n",
       "      <td>1yymR</td>\n",
       "      <td>True</td>\n",
       "      <td>1710</td>\n",
       "      <td>1710</td>\n",
       "      <td>13_10_21_11_8_11</td>\n",
       "      <td>13_10_21_11_8_11</td>\n",
       "      <td>True</td>\n",
       "      <td>True</td>\n",
       "    </tr>\n",
       "    <tr>\n",
       "      <th>1</th>\n",
       "      <td>164078</td>\n",
       "      <td>164079</td>\n",
       "      <td>ad5b550aabf130663ecc53fb708035fdb1ac5c34e1096b...</td>\n",
       "      <td>6503ec1e63c6319e7adc1227f4302ed2d618a15dbc81c1...</td>\n",
       "      <td>1354</td>\n",
       "      <td>1354</td>\n",
       "      <td>True</td>\n",
       "      <td>3macH</td>\n",
       "      <td>3macH</td>\n",
       "      <td>True</td>\n",
       "      <td>263</td>\n",
       "      <td>263</td>\n",
       "      <td>13_10_14_11_8_11</td>\n",
       "      <td>13_10_14_11_8_11</td>\n",
       "      <td>True</td>\n",
       "      <td>True</td>\n",
       "    </tr>\n",
       "    <tr>\n",
       "      <th>2</th>\n",
       "      <td>969166</td>\n",
       "      <td>969167</td>\n",
       "      <td>2c6b76f8abeb2ae2cdba29efdd2096543d816cb5409b99...</td>\n",
       "      <td>9501c71df16e2728f9d63f1c999700760b7f43d20db86c...</td>\n",
       "      <td>5853</td>\n",
       "      <td>5853</td>\n",
       "      <td>True</td>\n",
       "      <td>4nrxH</td>\n",
       "      <td>4nrxH</td>\n",
       "      <td>True</td>\n",
       "      <td>5701</td>\n",
       "      <td>5701</td>\n",
       "      <td>14_9_23_11_8_12</td>\n",
       "      <td>14_9_23_11_8_12</td>\n",
       "      <td>True</td>\n",
       "      <td>True</td>\n",
       "    </tr>\n",
       "    <tr>\n",
       "      <th>3</th>\n",
       "      <td>969166</td>\n",
       "      <td>969168</td>\n",
       "      <td>2c6b76f8abeb2ae2cdba29efdd2096543d816cb5409b99...</td>\n",
       "      <td>24b1f7f80b240d6eb281a80900f0f2637f1aa8164a4060...</td>\n",
       "      <td>5853</td>\n",
       "      <td>5853</td>\n",
       "      <td>True</td>\n",
       "      <td>4nrxH</td>\n",
       "      <td>4nrxH</td>\n",
       "      <td>True</td>\n",
       "      <td>5701</td>\n",
       "      <td>5701</td>\n",
       "      <td>14_9_23_11_8_12</td>\n",
       "      <td>14_9_23_11_8_12</td>\n",
       "      <td>True</td>\n",
       "      <td>True</td>\n",
       "    </tr>\n",
       "    <tr>\n",
       "      <th>4</th>\n",
       "      <td>969167</td>\n",
       "      <td>969168</td>\n",
       "      <td>9501c71df16e2728f9d63f1c999700760b7f43d20db86c...</td>\n",
       "      <td>24b1f7f80b240d6eb281a80900f0f2637f1aa8164a4060...</td>\n",
       "      <td>5853</td>\n",
       "      <td>5853</td>\n",
       "      <td>True</td>\n",
       "      <td>4nrxH</td>\n",
       "      <td>4nrxH</td>\n",
       "      <td>True</td>\n",
       "      <td>5701</td>\n",
       "      <td>5701</td>\n",
       "      <td>14_9_23_11_8_12</td>\n",
       "      <td>14_9_23_11_8_12</td>\n",
       "      <td>True</td>\n",
       "      <td>True</td>\n",
       "    </tr>\n",
       "  </tbody>\n",
       "</table>\n",
       "</div>"
      ],
      "text/plain": [
       "   Epitope_ID_A  Epitope_ID_B  \\\n",
       "0        164067        164069   \n",
       "1        164078        164079   \n",
       "2        969166        969167   \n",
       "3        969166        969168   \n",
       "4        969167        969168   \n",
       "\n",
       "                                          Clone_ID_A  \\\n",
       "0  bf226286707d82bda728cbef30375ccd358dc00fd3d175...   \n",
       "1  ad5b550aabf130663ecc53fb708035fdb1ac5c34e1096b...   \n",
       "2  2c6b76f8abeb2ae2cdba29efdd2096543d816cb5409b99...   \n",
       "3  2c6b76f8abeb2ae2cdba29efdd2096543d816cb5409b99...   \n",
       "4  9501c71df16e2728f9d63f1c999700760b7f43d20db86c...   \n",
       "\n",
       "                                          Clone_ID_B  IGX_A  IGX_B  \\\n",
       "0  3302c6ccef79e396bf79043b81511f50c70bd7c476e560...   1328   1328   \n",
       "1  6503ec1e63c6319e7adc1227f4302ed2d618a15dbc81c1...   1354   1354   \n",
       "2  9501c71df16e2728f9d63f1c999700760b7f43d20db86c...   5853   5853   \n",
       "3  24b1f7f80b240d6eb281a80900f0f2637f1aa8164a4060...   5853   5853   \n",
       "4  24b1f7f80b240d6eb281a80900f0f2637f1aa8164a4060...   5853   5853   \n",
       "\n",
       "   IGX_clustered SAABplus_A SAABplus_B  SAABplus_clustered  SPACE2_A  \\\n",
       "0           True      1yymR      1yymR                True      1710   \n",
       "1           True      3macH      3macH                True       263   \n",
       "2           True      4nrxH      4nrxH                True      5701   \n",
       "3           True      4nrxH      4nrxH                True      5701   \n",
       "4           True      4nrxH      4nrxH                True      5701   \n",
       "\n",
       "   SPACE2_B   SPACE2_length_A   SPACE2_length_B  SPACE2_clustered  \\\n",
       "0      1710  13_10_21_11_8_11  13_10_21_11_8_11              True   \n",
       "1       263  13_10_14_11_8_11  13_10_14_11_8_11              True   \n",
       "2      5701   14_9_23_11_8_12   14_9_23_11_8_12              True   \n",
       "3      5701   14_9_23_11_8_12   14_9_23_11_8_12              True   \n",
       "4      5701   14_9_23_11_8_12   14_9_23_11_8_12              True   \n",
       "\n",
       "   SPACE2_clustered_length  \n",
       "0                     True  \n",
       "1                     True  \n",
       "2                     True  \n",
       "3                     True  \n",
       "4                     True  "
      ]
     },
     "execution_count": 3,
     "metadata": {},
     "output_type": "execute_result"
    }
   ],
   "source": [
    "cluster_comparison_default = pd.read_csv(os.path.dirname(os.getcwd()) + \n",
    "    \"/data/antibody_pairs/Antibody_pairs_cluster_comparison.csv\")\n",
    "cluster_comparison_default[:5]"
   ]
  },
  {
   "cell_type": "markdown",
   "id": "b081d703",
   "metadata": {},
   "source": [
    "## ID mapping"
   ]
  },
  {
   "cell_type": "code",
   "execution_count": 4,
   "id": "222344c0",
   "metadata": {},
   "outputs": [],
   "source": [
    "epitope_clone_mapping = pd.read_csv(os.path.dirname(os.getcwd()) + \n",
    "    \"/data/antibody_pairs/Epitope_PDB_clone_ID.csv\")"
   ]
  },
  {
   "cell_type": "markdown",
   "id": "5e1f65c2",
   "metadata": {},
   "source": [
    "## IGX-Cluster"
   ]
  },
  {
   "cell_type": "code",
   "execution_count": 5,
   "id": "48be267e",
   "metadata": {},
   "outputs": [
    {
     "name": "stdout",
     "output_type": "stream",
     "text": [
      "Germline sequences: 10197\n",
      "Unique antibodies: 10490\n",
      "Germline sequences: 10166\n",
      "Unique antibodies: 10490\n",
      "Germline sequences: 8302\n",
      "Unique antibodies: 10490\n",
      "Germline sequences: 7897\n",
      "Unique antibodies: 10490\n"
     ]
    }
   ],
   "source": [
    "# load all IGX CLuster datasets and save in dictionary\n",
    "igx_dict = {}\n",
    "igx_dict[\"V_J_80\"] = pd.read_csv(os.path.dirname(os.getcwd()) + \"/data/clustering/IGX_Cluster_clustering.tsv\", sep=\"\\t\",\n",
    "     low_memory=False)\n",
    "igx_dict[\"V_80\"] = pd.read_csv(os.path.dirname(os.getcwd()) + \"/data/clustering/IGX_Cluster_clustering_V_80.tsv\", sep=\"\\t\",\n",
    "     low_memory=False)\n",
    "igx_dict[\"V_J_70\"] = pd.read_csv(os.path.dirname(os.getcwd()) + \"/data/clustering/IGX_Cluster_clustering_V_J_70.tsv\", sep=\"\\t\",\n",
    "     low_memory=False)\n",
    "igx_dict[\"V_70\"] = pd.read_csv(os.path.dirname(os.getcwd()) + \"/data/clustering/IGX_Cluster_clustering_V_70.tsv\", sep=\"\\t\",\n",
    "     low_memory=False)\n",
    "\n",
    "# preprocess datasets\n",
    "for i in igx_dict.keys():\n",
    "    igx_dict[i] = preprocess_IGX_data(igx_dict[i])"
   ]
  },
  {
   "cell_type": "markdown",
   "id": "9b9d5551",
   "metadata": {},
   "source": [
    "## SAAB+ clusters"
   ]
  },
  {
   "cell_type": "code",
   "execution_count": 6,
   "id": "4c186a5c",
   "metadata": {},
   "outputs": [
    {
     "name": "stdout",
     "output_type": "stream",
     "text": [
      "Number of SAAB+ clones: 10402\n"
     ]
    }
   ],
   "source": [
    "saabplus = pd.read_csv(os.path.dirname(os.getcwd()) + \"/data/clustering/SAABplus_clustering_heavy_chains.tsv\", \n",
    "    sep=\"\\t\", index_col=0)\n",
    "print(\"Number of SAAB+ clones:\", len(saabplus))"
   ]
  },
  {
   "cell_type": "markdown",
   "id": "5ecb78f0",
   "metadata": {},
   "source": [
    "## SPACE2 clusters"
   ]
  },
  {
   "cell_type": "code",
   "execution_count": 7,
   "id": "a6381705",
   "metadata": {},
   "outputs": [
    {
     "name": "stdout",
     "output_type": "stream",
     "text": [
      "Number of SPACE2 clones: 10489\n"
     ]
    }
   ],
   "source": [
    "space2 = pd.read_csv(os.path.dirname(os.getcwd()) + \"/data/clustering/SPACE2_clustering.csv\")\n",
    "space2.rename(columns={\"ID\":\"Clone_ID\"}, inplace=True)\n",
    "print(\"Number of SPACE2 clones:\", len(space2))"
   ]
  },
  {
   "cell_type": "code",
   "execution_count": 8,
   "id": "0c252172",
   "metadata": {},
   "outputs": [],
   "source": [
    "space2_dict = {}\n",
    "cutoffs = [\"1\", \"1_5\", \"2\", \"2_5\"]\n",
    "\n",
    "# load and preprocess all SPACE2 cluster datasets and save in dictionary\n",
    "for cutoff in cutoffs:\n",
    "    space2_dict[cutoff] = load_SPACE2_data(\"SPACE2_clustering_cutoff_\" + cutoff, \n",
    "        os.path.dirname(os.getcwd()) + \"/data/clustering/\")\n",
    "    space2_dict[cutoff] = preprocess_SPACE2_data(space2_dict[cutoff])"
   ]
  },
  {
   "cell_type": "markdown",
   "id": "f03b09bd",
   "metadata": {},
   "source": [
    "# Preprocessing"
   ]
  },
  {
   "cell_type": "markdown",
   "id": "21254136",
   "metadata": {},
   "source": [
    "## SAAB+"
   ]
  },
  {
   "cell_type": "code",
   "execution_count": 9,
   "id": "ab1d27a4",
   "metadata": {},
   "outputs": [],
   "source": [
    "saabplus_clustered = saabplus[saabplus[\"Clusters\"] != \"None\"]\n",
    "saabplus_unclustered = saabplus[saabplus[\"Clusters\"] == \"None\"]"
   ]
  },
  {
   "cell_type": "code",
   "execution_count": 10,
   "id": "f9c0f8f4",
   "metadata": {},
   "outputs": [
    {
     "data": {
      "text/html": [
       "<div>\n",
       "<style scoped>\n",
       "    .dataframe tbody tr th:only-of-type {\n",
       "        vertical-align: middle;\n",
       "    }\n",
       "\n",
       "    .dataframe tbody tr th {\n",
       "        vertical-align: top;\n",
       "    }\n",
       "\n",
       "    .dataframe thead th {\n",
       "        text-align: right;\n",
       "    }\n",
       "</style>\n",
       "<table border=\"1\" class=\"dataframe\">\n",
       "  <thead>\n",
       "    <tr style=\"text-align: right;\">\n",
       "      <th></th>\n",
       "      <th>Clone_ID</th>\n",
       "      <th>Protein_Seq</th>\n",
       "      <th>CDR-H3_template</th>\n",
       "      <th>Redundancy</th>\n",
       "      <th>Framework_template</th>\n",
       "      <th>CDR-H3_sequence</th>\n",
       "      <th>ESS</th>\n",
       "      <th>Annotation</th>\n",
       "      <th>H1_Canonical_Class</th>\n",
       "      <th>H2_Canonical_Class</th>\n",
       "      <th>Clusters</th>\n",
       "    </tr>\n",
       "  </thead>\n",
       "  <tbody>\n",
       "    <tr>\n",
       "      <th>0</th>\n",
       "      <td>0000eb36a7bfc7221b2eccb84e146f2373199391d1a442...</td>\n",
       "      <td>VESGGGLVQPGGSLRLSCAASGFAFSSYSMSWVRQAPGKGLEWVSY...</td>\n",
       "      <td>4jqiH</td>\n",
       "      <td>1</td>\n",
       "      <td>6apcH</td>\n",
       "      <td>ARERQQLWVDLNY</td>\n",
       "      <td>39</td>\n",
       "      <td>False</td>\n",
       "      <td>H1-8-A</td>\n",
       "      <td>H2-8-B</td>\n",
       "      <td>4jqiH</td>\n",
       "    </tr>\n",
       "    <tr>\n",
       "      <th>1</th>\n",
       "      <td>0e5c373c06e5cff7d726e9767d08f00f1affd537c4ed32...</td>\n",
       "      <td>VESGGGLVQPGGSLRLSCAASGFTFSSYSMNWVRQAPGKGLEWVSY...</td>\n",
       "      <td>6al4F</td>\n",
       "      <td>1</td>\n",
       "      <td>6apcH</td>\n",
       "      <td>ARDGITIFGVVIIPVDY</td>\n",
       "      <td>38</td>\n",
       "      <td>False</td>\n",
       "      <td>H1-8-A</td>\n",
       "      <td>H2-8-B</td>\n",
       "      <td>6al4F</td>\n",
       "    </tr>\n",
       "    <tr>\n",
       "      <th>2</th>\n",
       "      <td>10ff1b5baf4d3120e870cf25447433e265c08d884060e6...</td>\n",
       "      <td>VESGGGLVQPGGSLRLSCAASGFTFSSYEMNWVQQAPGKGLEWVSY...</td>\n",
       "      <td>2adfH</td>\n",
       "      <td>1</td>\n",
       "      <td>6apcH</td>\n",
       "      <td>ARHNPLYYFDY</td>\n",
       "      <td>60</td>\n",
       "      <td>True</td>\n",
       "      <td>H1-8-A</td>\n",
       "      <td>H2-8-B</td>\n",
       "      <td>3cleH</td>\n",
       "    </tr>\n",
       "    <tr>\n",
       "      <th>3</th>\n",
       "      <td>191738826b551307699108db34ae2cc2b3c7d8887f65f0...</td>\n",
       "      <td>VESGGGLVQPGGSLRLSCAASGFTFSSYEMNWVRQAPGKGLEWVSY...</td>\n",
       "      <td>5e94B</td>\n",
       "      <td>1</td>\n",
       "      <td>6apcH</td>\n",
       "      <td>AREGSDFWSGYYTPDY</td>\n",
       "      <td>48</td>\n",
       "      <td>False</td>\n",
       "      <td>H1-8-A</td>\n",
       "      <td>H2-8-B</td>\n",
       "      <td>5e94B</td>\n",
       "    </tr>\n",
       "    <tr>\n",
       "      <th>4</th>\n",
       "      <td>1e5a1d0d416aa3bf5d779d3a72f085051307211322558a...</td>\n",
       "      <td>VESGGGLVQPGGSLRLSCAASGFTFSSYSMNWVRQAPGKGLEWVSY...</td>\n",
       "      <td>3vg9C</td>\n",
       "      <td>1</td>\n",
       "      <td>5ocaH</td>\n",
       "      <td>ARDRDFWSGYYTPYFDY</td>\n",
       "      <td>58</td>\n",
       "      <td>False</td>\n",
       "      <td>H1-8-A</td>\n",
       "      <td>H2-8-B</td>\n",
       "      <td>3vg9C</td>\n",
       "    </tr>\n",
       "  </tbody>\n",
       "</table>\n",
       "</div>"
      ],
      "text/plain": [
       "                                            Clone_ID  \\\n",
       "0  0000eb36a7bfc7221b2eccb84e146f2373199391d1a442...   \n",
       "1  0e5c373c06e5cff7d726e9767d08f00f1affd537c4ed32...   \n",
       "2  10ff1b5baf4d3120e870cf25447433e265c08d884060e6...   \n",
       "3  191738826b551307699108db34ae2cc2b3c7d8887f65f0...   \n",
       "4  1e5a1d0d416aa3bf5d779d3a72f085051307211322558a...   \n",
       "\n",
       "                                         Protein_Seq CDR-H3_template  \\\n",
       "0  VESGGGLVQPGGSLRLSCAASGFAFSSYSMSWVRQAPGKGLEWVSY...           4jqiH   \n",
       "1  VESGGGLVQPGGSLRLSCAASGFTFSSYSMNWVRQAPGKGLEWVSY...           6al4F   \n",
       "2  VESGGGLVQPGGSLRLSCAASGFTFSSYEMNWVQQAPGKGLEWVSY...           2adfH   \n",
       "3  VESGGGLVQPGGSLRLSCAASGFTFSSYEMNWVRQAPGKGLEWVSY...           5e94B   \n",
       "4  VESGGGLVQPGGSLRLSCAASGFTFSSYSMNWVRQAPGKGLEWVSY...           3vg9C   \n",
       "\n",
       "   Redundancy Framework_template    CDR-H3_sequence  ESS  Annotation  \\\n",
       "0           1              6apcH      ARERQQLWVDLNY   39       False   \n",
       "1           1              6apcH  ARDGITIFGVVIIPVDY   38       False   \n",
       "2           1              6apcH        ARHNPLYYFDY   60        True   \n",
       "3           1              6apcH   AREGSDFWSGYYTPDY   48       False   \n",
       "4           1              5ocaH  ARDRDFWSGYYTPYFDY   58       False   \n",
       "\n",
       "  H1_Canonical_Class H2_Canonical_Class Clusters  \n",
       "0             H1-8-A             H2-8-B    4jqiH  \n",
       "1             H1-8-A             H2-8-B    6al4F  \n",
       "2             H1-8-A             H2-8-B    3cleH  \n",
       "3             H1-8-A             H2-8-B    5e94B  \n",
       "4             H1-8-A             H2-8-B    3vg9C  "
      ]
     },
     "execution_count": 10,
     "metadata": {},
     "output_type": "execute_result"
    }
   ],
   "source": [
    "clones_seq = igx_dict[\"V_J_80\"][[\"Unique Clone Id\", \"Receptor Amino Acids\"]]\n",
    "clones_seq.columns = [\"Clone_ID\", \"Protein_Seq\"]\n",
    "\n",
    "# add clone ID to dataset by merging on protein sequence\n",
    "saabplus_clustered_clones = clones_seq.merge(saabplus_clustered, on=\"Protein_Seq\")\n",
    "saabplus_clustered_clones[:5]"
   ]
  },
  {
   "cell_type": "markdown",
   "id": "a07967d3",
   "metadata": {},
   "source": [
    "## SPACE2"
   ]
  },
  {
   "cell_type": "code",
   "execution_count": 11,
   "id": "0f3c86d9",
   "metadata": {
    "scrolled": true
   },
   "outputs": [],
   "source": [
    "# create integer mapping for unique strings\n",
    "integer_mapping = {string: i for i, string in enumerate(space2[\"cluster_by_rmsd\"].unique())}\n",
    "# replace strings with integers \n",
    "space2[\"cluster_by_rmsd\"] = space2[\"cluster_by_rmsd\"].map(integer_mapping)\n",
    "\n",
    "# extract ID from path string\n",
    "space2[\"Clone_ID\"] = space2[\"Clone_ID\"].apply(rename_ID)"
   ]
  },
  {
   "cell_type": "markdown",
   "id": "0905dc6f",
   "metadata": {},
   "source": [
    "## CDR length"
   ]
  },
  {
   "cell_type": "code",
   "execution_count": 12,
   "id": "ac1cf13f",
   "metadata": {},
   "outputs": [],
   "source": [
    "igx_renamed = igx_dict[\"V_J_80\"].rename(columns={\"Unique Clone Id\":\"Clone_ID\"})\n",
    "    \n",
    "igx_space2 = igx_renamed.merge(space2, on=\"Clone_ID\")\n",
    "# create combined (CDRH3 sequence identity + CDR lengths) clustering column\n",
    "igx_space2[\"Cluster_ID_combined\"] = igx_space2[\"Unique Cluster Id\"].astype(str) + \"_\" + igx_space2[\"cluster_by_length\"]"
   ]
  },
  {
   "cell_type": "markdown",
   "id": "9acd318c",
   "metadata": {},
   "source": [
    "# Random clustering success rate"
   ]
  },
  {
   "cell_type": "markdown",
   "id": "7ef0d273",
   "metadata": {},
   "source": [
    "## Get cluster sizes for each clustering approach"
   ]
  },
  {
   "cell_type": "code",
   "execution_count": 13,
   "id": "fbc4097a",
   "metadata": {},
   "outputs": [
    {
     "name": "stdout",
     "output_type": "stream",
     "text": [
      "Number of IGX-Cluster clusters: 10197\n",
      "Sum of IGX-Cluster clusters: 10490\n",
      "Unique: True\n",
      "\n",
      "Number of SPACE2 clusters: 8031\n",
      "Sum of SPACE2 clusters: 10489\n",
      "Unique: True\n",
      "\n",
      "Number of SAAB+ clusters: 973\n",
      "Sum of  SAAB+ clusters: 9100\n",
      "Unique: True\n"
     ]
    }
   ],
   "source": [
    "igx_cluster_sizes = igx_dict[\"V_J_80\"][\"Unique Cluster Id\"].value_counts().to_list()\n",
    "print(\"Number of IGX-Cluster clusters:\", len(igx_cluster_sizes))\n",
    "print(\"Sum of IGX-Cluster clusters:\", sum(igx_cluster_sizes))\n",
    "print(\"Unique:\", igx_dict[\"V_J_80\"][\"Unique Clone Id\"].is_unique)\n",
    "print(\"\")\n",
    "\n",
    "space2_cluster_sizes = space2[\"cluster_by_rmsd\"].value_counts().to_list()\n",
    "print(\"Number of SPACE2 clusters:\", len(space2_cluster_sizes))\n",
    "print(\"Sum of SPACE2 clusters:\", sum(space2_cluster_sizes))\n",
    "print(\"Unique:\", space2[\"Clone_ID\"].is_unique)\n",
    "print(\"\")\n",
    "\n",
    "saabplus_cluster_sizes = saabplus_clustered_clones[\"Clusters\"].value_counts().to_list()\n",
    "print(\"Number of SAAB+ clusters:\", len(saabplus_cluster_sizes))\n",
    "print(\"Sum of  SAAB+ clusters:\", sum(saabplus_cluster_sizes))\n",
    "print(\"Unique:\", saabplus_clustered_clones[\"Clone_ID\"].is_unique)"
   ]
  },
  {
   "cell_type": "markdown",
   "id": "274abef3",
   "metadata": {},
   "source": [
    "## Clustered antibody pairs"
   ]
  },
  {
   "cell_type": "code",
   "execution_count": 14,
   "id": "eed38407",
   "metadata": {},
   "outputs": [
    {
     "name": "stderr",
     "output_type": "stream",
     "text": [
      "<ipython-input-14-0a25ddd030b2>:2: SettingWithCopyWarning: \n",
      "A value is trying to be set on a copy of a slice from a DataFrame.\n",
      "Try using .loc[row_indexer,col_indexer] = value instead\n",
      "\n",
      "See the caveats in the documentation: https://pandas.pydata.org/pandas-docs/stable/user_guide/indexing.html#returning-a-view-versus-a-copy\n",
      "  cluster_comparison[\"Clone_ID_A\"] = cluster_comparison[\"Epitope_ID_A\"].apply(add_clone_id, args=[epitope_clone_mapping])\n",
      "<ipython-input-14-0a25ddd030b2>:3: SettingWithCopyWarning: \n",
      "A value is trying to be set on a copy of a slice from a DataFrame.\n",
      "Try using .loc[row_indexer,col_indexer] = value instead\n",
      "\n",
      "See the caveats in the documentation: https://pandas.pydata.org/pandas-docs/stable/user_guide/indexing.html#returning-a-view-versus-a-copy\n",
      "  cluster_comparison[\"Clone_ID_B\"] = cluster_comparison[\"Epitope_ID_B\"].apply(add_clone_id, args=[epitope_clone_mapping])\n",
      "<ipython-input-14-0a25ddd030b2>:4: SettingWithCopyWarning: \n",
      "A value is trying to be set on a copy of a slice from a DataFrame\n",
      "\n",
      "See the caveats in the documentation: https://pandas.pydata.org/pandas-docs/stable/user_guide/indexing.html#returning-a-view-versus-a-copy\n",
      "  cluster_comparison.dropna(subset=[\"Clone_ID_A\", \"Clone_ID_B\"], inplace=True)\n"
     ]
    }
   ],
   "source": [
    "cluster_comparison = antibody_pairs[[\"Epitope_ID_A\", \"Epitope_ID_B\"]]\n",
    "cluster_comparison[\"Clone_ID_A\"] = cluster_comparison[\"Epitope_ID_A\"].apply(add_clone_id, args=[epitope_clone_mapping])\n",
    "cluster_comparison[\"Clone_ID_B\"] = cluster_comparison[\"Epitope_ID_B\"].apply(add_clone_id, args=[epitope_clone_mapping])\n",
    "cluster_comparison.dropna(subset=[\"Clone_ID_A\", \"Clone_ID_B\"], inplace=True)"
   ]
  },
  {
   "cell_type": "markdown",
   "id": "a24381f5",
   "metadata": {},
   "source": [
    "### IGX-Cluster"
   ]
  },
  {
   "cell_type": "code",
   "execution_count": 15,
   "id": "27be4208",
   "metadata": {},
   "outputs": [
    {
     "name": "stderr",
     "output_type": "stream",
     "text": [
      "<ipython-input-15-2478c16df10c>:7: SettingWithCopyWarning: \n",
      "A value is trying to be set on a copy of a slice from a DataFrame.\n",
      "Try using .loc[row_indexer,col_indexer] = value instead\n",
      "\n",
      "See the caveats in the documentation: https://pandas.pydata.org/pandas-docs/stable/user_guide/indexing.html#returning-a-view-versus-a-copy\n",
      "  cluster_comparison[column_A] = cluster_comparison[\"Clone_ID_A\"].apply(add_cluster, args=[cluster, \"Unique Clone Id\",\n",
      "<ipython-input-15-2478c16df10c>:9: SettingWithCopyWarning: \n",
      "A value is trying to be set on a copy of a slice from a DataFrame.\n",
      "Try using .loc[row_indexer,col_indexer] = value instead\n",
      "\n",
      "See the caveats in the documentation: https://pandas.pydata.org/pandas-docs/stable/user_guide/indexing.html#returning-a-view-versus-a-copy\n",
      "  cluster_comparison[column_B] = cluster_comparison[\"Clone_ID_B\"].apply(add_cluster, args=[cluster, \"Unique Clone Id\",\n",
      "<ipython-input-15-2478c16df10c>:11: SettingWithCopyWarning: \n",
      "A value is trying to be set on a copy of a slice from a DataFrame.\n",
      "Try using .loc[row_indexer,col_indexer] = value instead\n",
      "\n",
      "See the caveats in the documentation: https://pandas.pydata.org/pandas-docs/stable/user_guide/indexing.html#returning-a-view-versus-a-copy\n",
      "  cluster_comparison[\"IGX_clustered_\" + str(setting)] = np.where(cluster_comparison[column_A] == cluster_comparison[column_B], True, False)\n",
      "<ipython-input-15-2478c16df10c>:7: SettingWithCopyWarning: \n",
      "A value is trying to be set on a copy of a slice from a DataFrame.\n",
      "Try using .loc[row_indexer,col_indexer] = value instead\n",
      "\n",
      "See the caveats in the documentation: https://pandas.pydata.org/pandas-docs/stable/user_guide/indexing.html#returning-a-view-versus-a-copy\n",
      "  cluster_comparison[column_A] = cluster_comparison[\"Clone_ID_A\"].apply(add_cluster, args=[cluster, \"Unique Clone Id\",\n"
     ]
    },
    {
     "name": "stdout",
     "output_type": "stream",
     "text": [
      "False    189\n",
      "True      24\n",
      "Name: IGX_clustered_V_J_80, dtype: int64\n"
     ]
    },
    {
     "name": "stderr",
     "output_type": "stream",
     "text": [
      "<ipython-input-15-2478c16df10c>:9: SettingWithCopyWarning: \n",
      "A value is trying to be set on a copy of a slice from a DataFrame.\n",
      "Try using .loc[row_indexer,col_indexer] = value instead\n",
      "\n",
      "See the caveats in the documentation: https://pandas.pydata.org/pandas-docs/stable/user_guide/indexing.html#returning-a-view-versus-a-copy\n",
      "  cluster_comparison[column_B] = cluster_comparison[\"Clone_ID_B\"].apply(add_cluster, args=[cluster, \"Unique Clone Id\",\n",
      "<ipython-input-15-2478c16df10c>:11: SettingWithCopyWarning: \n",
      "A value is trying to be set on a copy of a slice from a DataFrame.\n",
      "Try using .loc[row_indexer,col_indexer] = value instead\n",
      "\n",
      "See the caveats in the documentation: https://pandas.pydata.org/pandas-docs/stable/user_guide/indexing.html#returning-a-view-versus-a-copy\n",
      "  cluster_comparison[\"IGX_clustered_\" + str(setting)] = np.where(cluster_comparison[column_A] == cluster_comparison[column_B], True, False)\n"
     ]
    },
    {
     "name": "stdout",
     "output_type": "stream",
     "text": [
      "False    187\n",
      "True      26\n",
      "Name: IGX_clustered_V_80, dtype: int64\n",
      "False    164\n",
      "True      49\n",
      "Name: IGX_clustered_V_J_70, dtype: int64\n",
      "False    144\n",
      "True      69\n",
      "Name: IGX_clustered_V_70, dtype: int64\n"
     ]
    }
   ],
   "source": [
    "for i, setting in enumerate(igx_dict.keys()):\n",
    "    \n",
    "    cluster = igx_dict[setting]\n",
    "    column_A = \"IGX_A_\" + str(setting)\n",
    "    column_B = \"IGX_B_\" + str(setting)\n",
    "            \n",
    "    cluster_comparison[column_A] = cluster_comparison[\"Clone_ID_A\"].apply(add_cluster, args=[cluster, \"Unique Clone Id\", \n",
    "    \"Unique Cluster Id\"])\n",
    "    cluster_comparison[column_B] = cluster_comparison[\"Clone_ID_B\"].apply(add_cluster, args=[cluster, \"Unique Clone Id\", \n",
    "        \"Unique Cluster Id\"])\n",
    "    cluster_comparison[\"IGX_clustered_\" + str(setting)] = np.where(cluster_comparison[column_A] == cluster_comparison[column_B], True, False)\n",
    "    print(cluster_comparison[\"IGX_clustered_\" + str(setting)].value_counts())"
   ]
  },
  {
   "cell_type": "markdown",
   "id": "5b0fc9cd",
   "metadata": {},
   "source": [
    "### SPACE2"
   ]
  },
  {
   "cell_type": "code",
   "execution_count": 16,
   "id": "86e53b5f",
   "metadata": {},
   "outputs": [
    {
     "name": "stdout",
     "output_type": "stream",
     "text": [
      "False    202\n",
      "True      11\n",
      "Name: SPACE2_clustered_1, dtype: int64\n",
      "False    197\n",
      "True      16\n",
      "Name: SPACE2_clustered_1_5, dtype: int64\n",
      "False    195\n",
      "True      18\n",
      "Name: SPACE2_clustered_2, dtype: int64\n",
      "False    193\n",
      "True      20\n",
      "Name: SPACE2_clustered_2_5, dtype: int64\n"
     ]
    }
   ],
   "source": [
    "for i, cutoff in enumerate(space2_dict.keys()):\n",
    "    \n",
    "    cluster = space2_dict[cutoff]\n",
    "    column_A = \"SPACE2_A_\" + str(cutoff)\n",
    "    column_B = \"SPACE2_B_\" + str(cutoff)\n",
    "            \n",
    "    cluster_comparison[column_A] = cluster_comparison[\"Clone_ID_A\"].apply(add_cluster, args=[cluster, \"Clone_ID\", \n",
    "    \"cluster_by_rmsd\"])\n",
    "    cluster_comparison[column_B] = cluster_comparison[\"Clone_ID_B\"].apply(add_cluster, args=[cluster, \"Clone_ID\", \n",
    "        \"cluster_by_rmsd\"])\n",
    "    cluster_comparison[\"SPACE2_clustered_\" + str(cutoff)] = np.where(cluster_comparison[column_A] == cluster_comparison[column_B], True, False)\n",
    "    print(cluster_comparison[\"SPACE2_clustered_\" + str(cutoff)].value_counts())"
   ]
  },
  {
   "cell_type": "markdown",
   "id": "04f1b1e9",
   "metadata": {},
   "source": [
    "### CDR length"
   ]
  },
  {
   "cell_type": "code",
   "execution_count": 17,
   "id": "88a8a5fd",
   "metadata": {},
   "outputs": [
    {
     "name": "stdout",
     "output_type": "stream",
     "text": [
      "False    200\n",
      "True      13\n",
      "Name: 80_CDR_length_clustered, dtype: int64\n",
      "False    193\n",
      "True      20\n",
      "Name: CDR_length_clustered, dtype: int64\n"
     ]
    }
   ],
   "source": [
    "# CDRH3 80% and CDR lengths\n",
    "cluster_comparison[\"80_CDR_length_A\"] = cluster_comparison[\"Clone_ID_A\"].apply(add_cluster, args=[igx_space2, \"Clone_ID\", \n",
    "\"Cluster_ID_combined\"])\n",
    "cluster_comparison[\"80_CDR_length_B\"] = cluster_comparison[\"Clone_ID_B\"].apply(add_cluster, args=[igx_space2, \"Clone_ID\", \n",
    "    \"Cluster_ID_combined\"])\n",
    "cluster_comparison[\"80_CDR_length_clustered\"] = np.where(cluster_comparison[\"80_CDR_length_A\"] == \\\n",
    "    cluster_comparison[\"80_CDR_length_B\"], True, False)\n",
    "print(cluster_comparison[\"80_CDR_length_clustered\"].value_counts())\n",
    "\n",
    "# only CDR lengths\n",
    "cluster_comparison[\"CDR_length_A\"] = cluster_comparison[\"Clone_ID_A\"].apply(add_cluster, args=[space2, \"Clone_ID\", \n",
    "\"cluster_by_length\"])\n",
    "cluster_comparison[\"CDR_length_B\"] = cluster_comparison[\"Clone_ID_B\"].apply(add_cluster, args=[space2, \"Clone_ID\", \n",
    "    \"cluster_by_length\"])\n",
    "cluster_comparison[\"CDR_length_clustered\"] = np.where(cluster_comparison[\"CDR_length_A\"] == cluster_comparison[\"CDR_length_B\"], \n",
    "    True, False)\n",
    "print(cluster_comparison[\"CDR_length_clustered\"].value_counts())"
   ]
  },
  {
   "cell_type": "markdown",
   "id": "a060b735",
   "metadata": {},
   "source": [
    "## Compare random clustering rates"
   ]
  },
  {
   "cell_type": "code",
   "execution_count": 18,
   "id": "e60e4e58",
   "metadata": {},
   "outputs": [
    {
     "data": {
      "text/html": [
       "<svg  width=\"440\" height=\"55\"><rect x=\"0\" y=\"0\" width=\"55\" height=\"55\" style=\"fill:#66c2a5;stroke-width:2;stroke:rgb(255,255,255)\"/><rect x=\"55\" y=\"0\" width=\"55\" height=\"55\" style=\"fill:#fc8d62;stroke-width:2;stroke:rgb(255,255,255)\"/><rect x=\"110\" y=\"0\" width=\"55\" height=\"55\" style=\"fill:#8da0cb;stroke-width:2;stroke:rgb(255,255,255)\"/><rect x=\"165\" y=\"0\" width=\"55\" height=\"55\" style=\"fill:#e78ac3;stroke-width:2;stroke:rgb(255,255,255)\"/><rect x=\"220\" y=\"0\" width=\"55\" height=\"55\" style=\"fill:#a6d854;stroke-width:2;stroke:rgb(255,255,255)\"/><rect x=\"275\" y=\"0\" width=\"55\" height=\"55\" style=\"fill:#ffd92f;stroke-width:2;stroke:rgb(255,255,255)\"/><rect x=\"330\" y=\"0\" width=\"55\" height=\"55\" style=\"fill:#e5c494;stroke-width:2;stroke:rgb(255,255,255)\"/><rect x=\"385\" y=\"0\" width=\"55\" height=\"55\" style=\"fill:#b3b3b3;stroke-width:2;stroke:rgb(255,255,255)\"/></svg>"
      ],
      "text/plain": [
       "[(0.4, 0.7607843137254902, 0.6470588235294118),\n",
       " (0.9882352941176471, 0.5529411764705883, 0.3843137254901961),\n",
       " (0.5529411764705883, 0.6274509803921569, 0.796078431372549),\n",
       " (0.9058823529411765, 0.5411764705882353, 0.7647058823529411),\n",
       " (0.6509803921568628, 0.8470588235294118, 0.32941176470588235),\n",
       " (1.0, 0.8509803921568627, 0.1843137254901961),\n",
       " (0.8980392156862745, 0.7686274509803922, 0.5803921568627451),\n",
       " (0.7019607843137254, 0.7019607843137254, 0.7019607843137254)]"
      ]
     },
     "execution_count": 18,
     "metadata": {},
     "output_type": "execute_result"
    }
   ],
   "source": [
    "pal = sns.color_palette(palette=\"Set2\")\n",
    "pal"
   ]
  },
  {
   "cell_type": "code",
   "execution_count": 19,
   "id": "d7c54e9c",
   "metadata": {},
   "outputs": [],
   "source": [
    "cluster_rate_igx = pd.read_csv(os.path.dirname(os.getcwd()) + \n",
    "    \"/data/Random_clustering_rates/Random_clustering_rates_IGX.csv\")\n",
    "cluster_rate_space2 = pd.read_csv(os.path.dirname(os.getcwd()) + \n",
    "    \"/data/Random_clustering_rates/Random_clustering_rates_SPACE2.csv\")\n",
    "cluster_rate_saabplus = pd.read_csv(os.path.dirname(os.getcwd()) + \n",
    "    \"/data/Random_clustering_rates/Random_clustering_rates_SAABplus.csv\")"
   ]
  },
  {
   "cell_type": "code",
   "execution_count": 20,
   "id": "3d75e5bb",
   "metadata": {},
   "outputs": [],
   "source": [
    "cluster_rate_igx[\"Method\"] = \"IGX-Cluster\"\n",
    "cluster_rate_space2[\"Method\"] = \"SPACE2\"\n",
    "cluster_rate_saabplus[\"Method\"] = \"SAAB+\"\n",
    "\n",
    "cluster_rates = pd.concat([cluster_rate_igx, cluster_rate_saabplus, cluster_rate_space2])"
   ]
  },
  {
   "cell_type": "code",
   "execution_count": 21,
   "id": "10f38316",
   "metadata": {},
   "outputs": [
    {
     "data": {
      "image/png": "[encoded data removed]",
      "text/plain": [
       "<Figure size 1008x360 with 2 Axes>"
      ]
     },
     "metadata": {},
     "output_type": "display_data"
    }
   ],
   "source": [
    "sns.set(style=(\"ticks\"), font_scale=1, palette=\"Set2\")\n",
    "fig, ax = plt.subplots(1, 2, figsize=(14,5))\n",
    "\n",
    "sns.barplot(data=cluster_rates, x=\"Method\", y=\"Clustered_count\", palette=\"Set2\", edgecolor=\"k\", ax=ax[0])\n",
    "ax[0].set(title=\"Random cluster rate\", xlabel=None, ylabel=\"Number of antibody pairs clustered\")\n",
    "sns.barplot(data=cluster_rates, x=\"Method\", y=\"Clustering_rate\", palette=\"Set2\", edgecolor=\"k\", ax=ax[1])\n",
    "ax[1].set(xlabel=None, ylabel=\"Clustering rate\");"
   ]
  },
  {
   "cell_type": "markdown",
   "id": "9f37cd04",
   "metadata": {},
   "source": [
    "### IGX Cluster settings"
   ]
  },
  {
   "cell_type": "code",
   "execution_count": 22,
   "id": "51aeba3d",
   "metadata": {},
   "outputs": [],
   "source": [
    "cluster_rate_V_J_80 = pd.read_csv(os.path.dirname(os.getcwd()) + \n",
    "    \"/data/Random_clustering_rates/Random_clustering_rates_IGX.csv\")\n",
    "cluster_rate_V_80 = pd.read_csv(os.path.dirname(os.getcwd()) + \n",
    "    \"/data/Random_clustering_rates/Random_clustering_rates_IGX_V_80.csv\")\n",
    "cluster_rate_V_J_70 = pd.read_csv(os.path.dirname(os.getcwd()) + \n",
    "    \"/data/Random_clustering_rates/Random_clustering_rates_IGX_V_J_70.csv\")\n",
    "cluster_rate_V_70 = pd.read_csv(os.path.dirname(os.getcwd()) + \n",
    "    \"/data/Random_clustering_rates/Random_clustering_rates_IGX_V_70.csv\")"
   ]
  },
  {
   "cell_type": "code",
   "execution_count": 23,
   "id": "6a405748",
   "metadata": {},
   "outputs": [],
   "source": [
    "cluster_rate_V_J_80[\"Setting\"] = \"V_J_80\"\n",
    "cluster_rate_V_80[\"Setting\"] = \"V_80\"\n",
    "cluster_rate_V_J_70[\"Setting\"] = \"V_J_70\"\n",
    "cluster_rate_V_70[\"Setting\"] = \"V_70\"\n",
    "\n",
    "cluster_rates_igx = pd.concat([cluster_rate_V_J_80, cluster_rate_V_80, cluster_rate_V_J_70, cluster_rate_V_70])"
   ]
  },
  {
   "cell_type": "code",
   "execution_count": 24,
   "id": "c360a60a",
   "metadata": {},
   "outputs": [],
   "source": [
    "clustered_igx = cluster_comparison[[\"IGX_clustered_V_J_80\", \"IGX_clustered_V_80\", \"IGX_clustered_V_J_70\", \n",
    "    \"IGX_clustered_V_70\"]]"
   ]
  },
  {
   "cell_type": "markdown",
   "id": "920aa012",
   "metadata": {},
   "source": [
    "### SPACE2 RMSD thresholds"
   ]
  },
  {
   "cell_type": "code",
   "execution_count": 25,
   "id": "1abf30e5",
   "metadata": {},
   "outputs": [],
   "source": [
    "cluster_rate_1 = pd.read_csv(os.path.dirname(os.getcwd()) + \n",
    "    \"/data/Random_clustering_rates/Random_clustering_rates_SPACE2_1.csv\")\n",
    "cluster_rate_1_5 = pd.read_csv(os.path.dirname(os.getcwd()) + \n",
    "    \"/data/Random_clustering_rates/Random_clustering_rates_SPACE2_1_5.csv\")\n",
    "cluster_rate_2 = pd.read_csv(os.path.dirname(os.getcwd()) + \n",
    "    \"/data/Random_clustering_rates/Random_clustering_rates_SPACE2_2.csv\")\n",
    "cluster_rate_2_5 = pd.read_csv(os.path.dirname(os.getcwd()) + \n",
    "    \"/data/Random_clustering_rates/Random_clustering_rates_SPACE2_2_5.csv\")"
   ]
  },
  {
   "cell_type": "code",
   "execution_count": 26,
   "id": "ceecc5d6",
   "metadata": {},
   "outputs": [],
   "source": [
    "cluster_rate_1[\"Cutoff\"] = \"1\"\n",
    "cluster_rate_1_5[\"Cutoff\"] = \"1.5\"\n",
    "cluster_rate_2[\"Cutoff\"] = \"2\"\n",
    "cluster_rate_2_5[\"Cutoff\"] = \"2.5\"\n",
    "\n",
    "cluster_rates_space2 = pd.concat([cluster_rate_1, cluster_rate_1_5, cluster_rate_2, cluster_rate_2_5])"
   ]
  },
  {
   "cell_type": "code",
   "execution_count": 27,
   "id": "7a761954",
   "metadata": {},
   "outputs": [],
   "source": [
    "clustered_space2= cluster_comparison[[\"SPACE2_clustered_1\", \"SPACE2_clustered_1_5\", \"SPACE2_clustered_2\", \n",
    "    \"SPACE2_clustered_2_5\"]]"
   ]
  },
  {
   "cell_type": "markdown",
   "id": "0922083c",
   "metadata": {},
   "source": [
    "### CDR lengths"
   ]
  },
  {
   "cell_type": "code",
   "execution_count": 28,
   "id": "40322ded",
   "metadata": {},
   "outputs": [],
   "source": [
    "cluster_rate_length = pd.read_csv(os.path.dirname(os.getcwd()) + \n",
    "    \"/data/random_clustering_rates/Random_clustering_rates_SPACE2_length.csv\")\n",
    "cluster_rate_80_length = pd.read_csv(os.path.dirname(os.getcwd()) + \n",
    "    \"/data/random_clustering_rates/Random_clustering_rates_IGX_80_SPACE2_length.csv\")"
   ]
  },
  {
   "cell_type": "code",
   "execution_count": 29,
   "id": "194aa6ad",
   "metadata": {},
   "outputs": [
    {
     "data": {
      "text/html": [
       "<div>\n",
       "<style scoped>\n",
       "    .dataframe tbody tr th:only-of-type {\n",
       "        vertical-align: middle;\n",
       "    }\n",
       "\n",
       "    .dataframe tbody tr th {\n",
       "        vertical-align: top;\n",
       "    }\n",
       "\n",
       "    .dataframe thead th {\n",
       "        text-align: right;\n",
       "    }\n",
       "</style>\n",
       "<table border=\"1\" class=\"dataframe\">\n",
       "  <thead>\n",
       "    <tr style=\"text-align: right;\">\n",
       "      <th></th>\n",
       "      <th>Clustered_count</th>\n",
       "      <th>Clustering_rate</th>\n",
       "      <th>Setting</th>\n",
       "    </tr>\n",
       "  </thead>\n",
       "  <tbody>\n",
       "    <tr>\n",
       "      <th>0</th>\n",
       "      <td>0</td>\n",
       "      <td>0.000000</td>\n",
       "      <td>CDR length +\\nCDRH3 80%</td>\n",
       "    </tr>\n",
       "    <tr>\n",
       "      <th>1</th>\n",
       "      <td>0</td>\n",
       "      <td>0.000000</td>\n",
       "      <td>CDR length +\\nCDRH3 80%</td>\n",
       "    </tr>\n",
       "    <tr>\n",
       "      <th>2</th>\n",
       "      <td>0</td>\n",
       "      <td>0.000000</td>\n",
       "      <td>CDR length +\\nCDRH3 80%</td>\n",
       "    </tr>\n",
       "    <tr>\n",
       "      <th>3</th>\n",
       "      <td>0</td>\n",
       "      <td>0.000000</td>\n",
       "      <td>CDR length +\\nCDRH3 80%</td>\n",
       "    </tr>\n",
       "    <tr>\n",
       "      <th>4</th>\n",
       "      <td>0</td>\n",
       "      <td>0.000000</td>\n",
       "      <td>CDR length +\\nCDRH3 80%</td>\n",
       "    </tr>\n",
       "    <tr>\n",
       "      <th>...</th>\n",
       "      <td>...</td>\n",
       "      <td>...</td>\n",
       "      <td>...</td>\n",
       "    </tr>\n",
       "    <tr>\n",
       "      <th>995</th>\n",
       "      <td>1</td>\n",
       "      <td>0.004695</td>\n",
       "      <td>CDR length</td>\n",
       "    </tr>\n",
       "    <tr>\n",
       "      <th>996</th>\n",
       "      <td>1</td>\n",
       "      <td>0.004695</td>\n",
       "      <td>CDR length</td>\n",
       "    </tr>\n",
       "    <tr>\n",
       "      <th>997</th>\n",
       "      <td>0</td>\n",
       "      <td>0.000000</td>\n",
       "      <td>CDR length</td>\n",
       "    </tr>\n",
       "    <tr>\n",
       "      <th>998</th>\n",
       "      <td>1</td>\n",
       "      <td>0.004695</td>\n",
       "      <td>CDR length</td>\n",
       "    </tr>\n",
       "    <tr>\n",
       "      <th>999</th>\n",
       "      <td>0</td>\n",
       "      <td>0.000000</td>\n",
       "      <td>CDR length</td>\n",
       "    </tr>\n",
       "  </tbody>\n",
       "</table>\n",
       "<p>4000 rows × 3 columns</p>\n",
       "</div>"
      ],
      "text/plain": [
       "     Clustered_count  Clustering_rate                  Setting\n",
       "0                  0         0.000000  CDR length +\\nCDRH3 80%\n",
       "1                  0         0.000000  CDR length +\\nCDRH3 80%\n",
       "2                  0         0.000000  CDR length +\\nCDRH3 80%\n",
       "3                  0         0.000000  CDR length +\\nCDRH3 80%\n",
       "4                  0         0.000000  CDR length +\\nCDRH3 80%\n",
       "..               ...              ...                      ...\n",
       "995                1         0.004695               CDR length\n",
       "996                1         0.004695               CDR length\n",
       "997                0         0.000000               CDR length\n",
       "998                1         0.004695               CDR length\n",
       "999                0         0.000000               CDR length\n",
       "\n",
       "[4000 rows x 3 columns]"
      ]
     },
     "execution_count": 29,
     "metadata": {},
     "output_type": "execute_result"
    }
   ],
   "source": [
    "cluster_rate_80_length[\"Setting\"] = \"CDR length +\\nCDRH3 80%\"\n",
    "cluster_rate_space2[\"Setting\"] = \"CDR length +\\nRMSD 1.25Å\"\n",
    "cluster_rate_2_5[\"Setting\"] = \"CDR length +\\nRMSD 2.5Å\"\n",
    "cluster_rate_length[\"Setting\"] = \"CDR length\"\n",
    "\n",
    "cluster_rates_length = pd.concat([cluster_rate_80_length, cluster_rate_space2, cluster_rate_2_5, \n",
    "    cluster_rate_length])[[\"Clustered_count\", \"Clustering_rate\", \"Setting\"]]\n",
    "cluster_rates_length"
   ]
  },
  {
   "cell_type": "code",
   "execution_count": 30,
   "id": "8ae39238",
   "metadata": {},
   "outputs": [
    {
     "data": {
      "text/html": [
       "<div>\n",
       "<style scoped>\n",
       "    .dataframe tbody tr th:only-of-type {\n",
       "        vertical-align: middle;\n",
       "    }\n",
       "\n",
       "    .dataframe tbody tr th {\n",
       "        vertical-align: top;\n",
       "    }\n",
       "\n",
       "    .dataframe thead th {\n",
       "        text-align: right;\n",
       "    }\n",
       "</style>\n",
       "<table border=\"1\" class=\"dataframe\">\n",
       "  <thead>\n",
       "    <tr style=\"text-align: right;\">\n",
       "      <th></th>\n",
       "      <th>Clustered_count</th>\n",
       "      <th>Clustering_rate</th>\n",
       "      <th>Method</th>\n",
       "      <th>Setting</th>\n",
       "    </tr>\n",
       "  </thead>\n",
       "  <tbody>\n",
       "    <tr>\n",
       "      <th>0</th>\n",
       "      <td>0</td>\n",
       "      <td>0.0</td>\n",
       "      <td>SPACE2</td>\n",
       "      <td>CDR length +\\nRMSD 1.25Å</td>\n",
       "    </tr>\n",
       "    <tr>\n",
       "      <th>1</th>\n",
       "      <td>0</td>\n",
       "      <td>0.0</td>\n",
       "      <td>SPACE2</td>\n",
       "      <td>CDR length +\\nRMSD 1.25Å</td>\n",
       "    </tr>\n",
       "    <tr>\n",
       "      <th>2</th>\n",
       "      <td>0</td>\n",
       "      <td>0.0</td>\n",
       "      <td>SPACE2</td>\n",
       "      <td>CDR length +\\nRMSD 1.25Å</td>\n",
       "    </tr>\n",
       "    <tr>\n",
       "      <th>3</th>\n",
       "      <td>0</td>\n",
       "      <td>0.0</td>\n",
       "      <td>SPACE2</td>\n",
       "      <td>CDR length +\\nRMSD 1.25Å</td>\n",
       "    </tr>\n",
       "    <tr>\n",
       "      <th>4</th>\n",
       "      <td>0</td>\n",
       "      <td>0.0</td>\n",
       "      <td>SPACE2</td>\n",
       "      <td>CDR length +\\nRMSD 1.25Å</td>\n",
       "    </tr>\n",
       "    <tr>\n",
       "      <th>...</th>\n",
       "      <td>...</td>\n",
       "      <td>...</td>\n",
       "      <td>...</td>\n",
       "      <td>...</td>\n",
       "    </tr>\n",
       "    <tr>\n",
       "      <th>995</th>\n",
       "      <td>0</td>\n",
       "      <td>0.0</td>\n",
       "      <td>SPACE2</td>\n",
       "      <td>CDR length +\\nRMSD 1.25Å</td>\n",
       "    </tr>\n",
       "    <tr>\n",
       "      <th>996</th>\n",
       "      <td>0</td>\n",
       "      <td>0.0</td>\n",
       "      <td>SPACE2</td>\n",
       "      <td>CDR length +\\nRMSD 1.25Å</td>\n",
       "    </tr>\n",
       "    <tr>\n",
       "      <th>997</th>\n",
       "      <td>0</td>\n",
       "      <td>0.0</td>\n",
       "      <td>SPACE2</td>\n",
       "      <td>CDR length +\\nRMSD 1.25Å</td>\n",
       "    </tr>\n",
       "    <tr>\n",
       "      <th>998</th>\n",
       "      <td>0</td>\n",
       "      <td>0.0</td>\n",
       "      <td>SPACE2</td>\n",
       "      <td>CDR length +\\nRMSD 1.25Å</td>\n",
       "    </tr>\n",
       "    <tr>\n",
       "      <th>999</th>\n",
       "      <td>0</td>\n",
       "      <td>0.0</td>\n",
       "      <td>SPACE2</td>\n",
       "      <td>CDR length +\\nRMSD 1.25Å</td>\n",
       "    </tr>\n",
       "  </tbody>\n",
       "</table>\n",
       "<p>1000 rows × 4 columns</p>\n",
       "</div>"
      ],
      "text/plain": [
       "     Clustered_count  Clustering_rate  Method                   Setting\n",
       "0                  0              0.0  SPACE2  CDR length +\\nRMSD 1.25Å\n",
       "1                  0              0.0  SPACE2  CDR length +\\nRMSD 1.25Å\n",
       "2                  0              0.0  SPACE2  CDR length +\\nRMSD 1.25Å\n",
       "3                  0              0.0  SPACE2  CDR length +\\nRMSD 1.25Å\n",
       "4                  0              0.0  SPACE2  CDR length +\\nRMSD 1.25Å\n",
       "..               ...              ...     ...                       ...\n",
       "995                0              0.0  SPACE2  CDR length +\\nRMSD 1.25Å\n",
       "996                0              0.0  SPACE2  CDR length +\\nRMSD 1.25Å\n",
       "997                0              0.0  SPACE2  CDR length +\\nRMSD 1.25Å\n",
       "998                0              0.0  SPACE2  CDR length +\\nRMSD 1.25Å\n",
       "999                0              0.0  SPACE2  CDR length +\\nRMSD 1.25Å\n",
       "\n",
       "[1000 rows x 4 columns]"
      ]
     },
     "execution_count": 30,
     "metadata": {},
     "output_type": "execute_result"
    }
   ],
   "source": [
    "cluster_rate_space2"
   ]
  },
  {
   "cell_type": "markdown",
   "id": "af63263f",
   "metadata": {},
   "source": [
    "## Combined"
   ]
  },
  {
   "cell_type": "code",
   "execution_count": 31,
   "id": "22f6a15d",
   "metadata": {},
   "outputs": [],
   "source": [
    "cluster_comparison_default.columns\n",
    "clustered_default = cluster_comparison_default[[\"IGX_clustered\", \"SAABplus_clustered\", \"SPACE2_clustered\"]]"
   ]
  },
  {
   "cell_type": "code",
   "execution_count": 32,
   "id": "f9115c1b",
   "metadata": {},
   "outputs": [
    {
     "data": {
      "image/png": "[encoded data removed]",
      "text/plain": [
       "<Figure size 1440x360 with 3 Axes>"
      ]
     },
     "metadata": {},
     "output_type": "display_data"
    }
   ],
   "source": [
    "sns.set(style=(\"ticks\"), font_scale=1.2, palette=\"Set2\")\n",
    "fig, ax = plt.subplots(1, 3, figsize=(20,5), width_ratios=[3, 4, 4], sharey=True)\n",
    "plt.subplots_adjust(wspace=0.1)\n",
    "\n",
    "sns.barplot(data=cluster_rates, x=\"Method\", y=\"Clustering_rate\", palette=\"Set2\", edgecolor=\"k\", ax=ax[0])\n",
    "ax[0].set(title=\"All methods (default settings)\", xlabel=None, ylabel=\"Random clustering rate\", ylim=(0,0.0039))\n",
    "\n",
    "sns.barplot(data=cluster_rates_igx, x=\"Setting\", y=\"Clustering_rate\", color=pal[0], edgecolor=\"k\", ax=ax[1])\n",
    "ax[1].set(title=\"IGX-Cluster\", xlabel=None, ylabel=None, ylim=(0,0.0039))\n",
    "ax[1].set_xticks(ticks=[0,1,2,3], labels=[\"V/J 80%\", \"V 80%\", \"V/J 70%\", \"V 70%\"])\n",
    "\n",
    "sns.barplot(data=cluster_rates_space2, x=\"Cutoff\", y=\"Clustering_rate\", color=pal[2], edgecolor=\"k\", ax=ax[2])\n",
    "ax[2].set(title=\"SPACE2\", xlabel=None, ylabel=None, ylim=(0,0.0039))\n",
    "\n",
    "plt.savefig(os.path.dirname(os.getcwd()) + \"/figs/Random_clustering_rate.png\", dpi=300, \n",
    "    transparent=True, bbox_inches=\"tight\")"
   ]
  },
  {
   "cell_type": "code",
   "execution_count": 33,
   "id": "6a0c74bc",
   "metadata": {},
   "outputs": [
    {
     "data": {
      "image/png": "[encoded data removed]",
      "text/plain": [
       "<Figure size 1440x360 with 3 Axes>"
      ]
     },
     "metadata": {},
     "output_type": "display_data"
    }
   ],
   "source": [
    "sns.set(style=(\"ticks\"), font_scale=1.2, palette=\"Set2\")\n",
    "fig, ax = plt.subplots(1, 3, figsize=(20,5), width_ratios=[3, 4, 4], sharey=True)\n",
    "plt.subplots_adjust(wspace=0.11)\n",
    "\n",
    "sns.barplot(x=[\"IGX-Cluster\", \"SAAB+\", \"SPACE2\"], y=clustered_default.sum(axis=0).values / len(cluster_comparison_default), \n",
    "    palette=\"Set2\", edgecolor=\"k\", ax=ax[0]) \n",
    "ax[0].set(xlabel=\"Method\", ylabel=\"Sensitivity\", ylim=(0,0.35))\n",
    "\n",
    "sns.barplot(x=[\"V_J_80\", \"V_80\", \"V_J_70\", \"V_70\"], y=clustered_igx.sum(axis=0).values / len(cluster_comparison), \n",
    "    color=pal[0], edgecolor=\"k\", ax=ax[1])\n",
    "ax[1].set(xlabel=\"Clonotyping setting\", ylim=(0,0.35))\n",
    "ax[1].set_xticks(ticks=[0,1,2,3], labels=[\"V/J 80%\", \"V 80%\", \"V/J 70%\", \"V 70%\"])\n",
    "\n",
    "sns.barplot(x=[\"1\", \"1.5\", \"2\", \"2.5\"], y=clustered_space2.sum(axis=0).values / len(cluster_comparison), \n",
    "    color=pal[2], edgecolor=\"k\", ax=ax[2])\n",
    "ax[2].set(xlabel=\"RMSD cutoff (Å)\", ylim=(0,0.35))\n",
    "\n",
    "plt.savefig(os.path.dirname(os.getcwd()) + \"/figs/Sensitivity.png\", dpi=300, \n",
    "    transparent=True, bbox_inches=\"tight\")"
   ]
  },
  {
   "cell_type": "markdown",
   "id": "3853f5b8",
   "metadata": {},
   "source": [
    "## Effect of CDR length matching"
   ]
  },
  {
   "cell_type": "code",
   "execution_count": 34,
   "id": "bb23307b",
   "metadata": {},
   "outputs": [
    {
     "data": {
      "text/plain": [
       "Index(['Epitope_ID_A', 'Epitope_ID_B', 'Clone_ID_A', 'Clone_ID_B',\n",
       "       'IGX_A_V_J_80', 'IGX_B_V_J_80', 'IGX_clustered_V_J_80', 'IGX_A_V_80',\n",
       "       'IGX_B_V_80', 'IGX_clustered_V_80', 'IGX_A_V_J_70', 'IGX_B_V_J_70',\n",
       "       'IGX_clustered_V_J_70', 'IGX_A_V_70', 'IGX_B_V_70',\n",
       "       'IGX_clustered_V_70', 'SPACE2_A_1', 'SPACE2_B_1', 'SPACE2_clustered_1',\n",
       "       'SPACE2_A_1_5', 'SPACE2_B_1_5', 'SPACE2_clustered_1_5', 'SPACE2_A_2',\n",
       "       'SPACE2_B_2', 'SPACE2_clustered_2', 'SPACE2_A_2_5', 'SPACE2_B_2_5',\n",
       "       'SPACE2_clustered_2_5', '80_CDR_length_A', '80_CDR_length_B',\n",
       "       '80_CDR_length_clustered', 'CDR_length_A', 'CDR_length_B',\n",
       "       'CDR_length_clustered'],\n",
       "      dtype='object')"
      ]
     },
     "execution_count": 34,
     "metadata": {},
     "output_type": "execute_result"
    }
   ],
   "source": [
    "cluster_comparison.columns"
   ]
  },
  {
   "cell_type": "code",
   "execution_count": 35,
   "id": "271aa258",
   "metadata": {},
   "outputs": [
    {
     "data": {
      "text/html": [
       "<div>\n",
       "<style scoped>\n",
       "    .dataframe tbody tr th:only-of-type {\n",
       "        vertical-align: middle;\n",
       "    }\n",
       "\n",
       "    .dataframe tbody tr th {\n",
       "        vertical-align: top;\n",
       "    }\n",
       "\n",
       "    .dataframe thead th {\n",
       "        text-align: right;\n",
       "    }\n",
       "</style>\n",
       "<table border=\"1\" class=\"dataframe\">\n",
       "  <thead>\n",
       "    <tr style=\"text-align: right;\">\n",
       "      <th></th>\n",
       "      <th>80_CDR_length_clustered</th>\n",
       "      <th>SPACE2_clustered</th>\n",
       "      <th>SPACE2_clustered_2_5</th>\n",
       "      <th>CDR_length_clustered</th>\n",
       "    </tr>\n",
       "  </thead>\n",
       "  <tbody>\n",
       "    <tr>\n",
       "      <th>0</th>\n",
       "      <td>True</td>\n",
       "      <td>True</td>\n",
       "      <td>True</td>\n",
       "      <td>True</td>\n",
       "    </tr>\n",
       "    <tr>\n",
       "      <th>1</th>\n",
       "      <td>True</td>\n",
       "      <td>True</td>\n",
       "      <td>True</td>\n",
       "      <td>True</td>\n",
       "    </tr>\n",
       "    <tr>\n",
       "      <th>2</th>\n",
       "      <td>True</td>\n",
       "      <td>True</td>\n",
       "      <td>True</td>\n",
       "      <td>True</td>\n",
       "    </tr>\n",
       "    <tr>\n",
       "      <th>3</th>\n",
       "      <td>True</td>\n",
       "      <td>True</td>\n",
       "      <td>True</td>\n",
       "      <td>True</td>\n",
       "    </tr>\n",
       "    <tr>\n",
       "      <th>4</th>\n",
       "      <td>True</td>\n",
       "      <td>True</td>\n",
       "      <td>True</td>\n",
       "      <td>True</td>\n",
       "    </tr>\n",
       "    <tr>\n",
       "      <th>...</th>\n",
       "      <td>...</td>\n",
       "      <td>...</td>\n",
       "      <td>...</td>\n",
       "      <td>...</td>\n",
       "    </tr>\n",
       "    <tr>\n",
       "      <th>208</th>\n",
       "      <td>False</td>\n",
       "      <td>False</td>\n",
       "      <td>False</td>\n",
       "      <td>False</td>\n",
       "    </tr>\n",
       "    <tr>\n",
       "      <th>209</th>\n",
       "      <td>False</td>\n",
       "      <td>False</td>\n",
       "      <td>False</td>\n",
       "      <td>False</td>\n",
       "    </tr>\n",
       "    <tr>\n",
       "      <th>210</th>\n",
       "      <td>False</td>\n",
       "      <td>True</td>\n",
       "      <td>True</td>\n",
       "      <td>True</td>\n",
       "    </tr>\n",
       "    <tr>\n",
       "      <th>211</th>\n",
       "      <td>False</td>\n",
       "      <td>False</td>\n",
       "      <td>False</td>\n",
       "      <td>False</td>\n",
       "    </tr>\n",
       "    <tr>\n",
       "      <th>212</th>\n",
       "      <td>False</td>\n",
       "      <td>False</td>\n",
       "      <td>False</td>\n",
       "      <td>False</td>\n",
       "    </tr>\n",
       "  </tbody>\n",
       "</table>\n",
       "<p>213 rows × 4 columns</p>\n",
       "</div>"
      ],
      "text/plain": [
       "     80_CDR_length_clustered  SPACE2_clustered  SPACE2_clustered_2_5  \\\n",
       "0                       True              True                  True   \n",
       "1                       True              True                  True   \n",
       "2                       True              True                  True   \n",
       "3                       True              True                  True   \n",
       "4                       True              True                  True   \n",
       "..                       ...               ...                   ...   \n",
       "208                    False             False                 False   \n",
       "209                    False             False                 False   \n",
       "210                    False              True                  True   \n",
       "211                    False             False                 False   \n",
       "212                    False             False                 False   \n",
       "\n",
       "     CDR_length_clustered  \n",
       "0                    True  \n",
       "1                    True  \n",
       "2                    True  \n",
       "3                    True  \n",
       "4                    True  \n",
       "..                    ...  \n",
       "208                 False  \n",
       "209                 False  \n",
       "210                  True  \n",
       "211                 False  \n",
       "212                 False  \n",
       "\n",
       "[213 rows x 4 columns]"
      ]
     },
     "execution_count": 35,
     "metadata": {},
     "output_type": "execute_result"
    }
   ],
   "source": [
    "clustered_length = pd.concat([cluster_comparison[\"80_CDR_length_clustered\"], clustered_default[\"SPACE2_clustered\"], \n",
    "    cluster_comparison[\"SPACE2_clustered_2_5\"], cluster_comparison[\"CDR_length_clustered\"]], axis=1)\n",
    "\n",
    "clustered_length"
   ]
  },
  {
   "cell_type": "code",
   "execution_count": 36,
   "id": "77d02741",
   "metadata": {},
   "outputs": [
    {
     "data": {
      "image/png": "[encoded data removed]",
      "text/plain": [
       "<Figure size 936x360 with 2 Axes>"
      ]
     },
     "metadata": {},
     "output_type": "display_data"
    }
   ],
   "source": [
    "sns.set(style=(\"ticks\"), font_scale=1.1, palette=\"Set2\")\n",
    "fig, ax = plt.subplots(1, 2, figsize=(13,5))\n",
    "plt.subplots_adjust(wspace=0.25)\n",
    "\n",
    "sns.barplot(data=cluster_rates_length, x=\"Setting\", y=\"Clustering_rate\", color=pal[2], edgecolor=\"k\", ax=ax[0])\n",
    "ax[0].set(title=None, xlabel=None, ylabel=\"Random clustering rate\", ylim=(0,0.0039))\n",
    "\n",
    "sns.barplot(x=[\"CDR length +\\nCDRH3 80%\", \"CDR length +\\nRMSD 1.25Å\", \"CDR length +\\nRMSD 2.5Å\", \"CDR length\"], \n",
    "    y=clustered_length.sum(axis=0).values / len(clustered_length), color=pal[2], edgecolor=\"k\", ax=ax[1]) \n",
    "ax[1].set(xlabel=None, ylabel=\"Sensitivity\", ylim=(0,0.35))\n",
    "\n",
    "plt.savefig(os.path.dirname(os.getcwd()) + \"/figs/Random_clustering_rate_length.png\", dpi=300, \n",
    "    transparent=True, bbox_inches=\"tight\")"
   ]
  },
  {
   "cell_type": "markdown",
   "id": "2c63284a",
   "metadata": {},
   "source": [
    "# False positives"
   ]
  },
  {
   "cell_type": "code",
   "execution_count": 37,
   "id": "7d63bf8d",
   "metadata": {},
   "outputs": [],
   "source": [
    "cluster_dict = {}\n",
    "# loop over clusters of antibody pair dataset\n",
    "for i in range(12):\n",
    "    antibody_pairs_cluster = antibody_pairs[antibody_pairs[\"Cluster\"] == i]\n",
    "    antibody_cluster_epitope_ids = set(antibody_pairs_cluster[\"Epitope_ID_A\"]).union(set(antibody_pairs_cluster[\"Epitope_ID_B\"]))\n",
    "    cluster_dict[i] = antibody_cluster_epitope_ids"
   ]
  },
  {
   "cell_type": "markdown",
   "id": "f4750d21",
   "metadata": {},
   "source": [
    "## IGX-Cluster"
   ]
  },
  {
   "cell_type": "code",
   "execution_count": 38,
   "id": "87e16010",
   "metadata": {},
   "outputs": [
    {
     "name": "stdout",
     "output_type": "stream",
     "text": [
      "V_J_80\n",
      "Number of multi-clone clusters: 227\n",
      "[]\n",
      "V_80\n",
      "Number of multi-clone clusters: 245\n",
      "[]\n",
      "V_J_70\n",
      "Number of multi-clone clusters: 808\n",
      "[]\n",
      "V_70\n",
      "Number of multi-clone clusters: 819\n",
      "[]\n"
     ]
    }
   ],
   "source": [
    "# check for false positive pairs across different IGX clonotyping settings\n",
    "for i, setting in enumerate(igx_dict.keys()):\n",
    "    \n",
    "    print(setting)\n",
    "    igx = igx_dict[setting]\n",
    "    \n",
    "    clone_count = igx[\"Unique Cluster Id\"].value_counts()\n",
    "    multi_clone_clusters = clone_count[clone_count > 1].index\n",
    "\n",
    "    multi_clone_igx = igx[igx[\"Unique Cluster Id\"].isin(multi_clone_clusters)]\n",
    "    print(\"Number of multi-clone clusters:\", len(multi_clone_igx[\"Unique Cluster Id\"].unique()))\n",
    "    \n",
    "    all_pairs = []\n",
    "    \n",
    "    for cluster in multi_clone_clusters:\n",
    "\n",
    "        current_cluster = multi_clone_igx[multi_clone_igx[\"Unique Cluster Id\"] == cluster][\"Unique Clone Id\"].values\n",
    "        false_positive_pairs = check_for_wrong_pairs_in_clusters(current_cluster, epitope_clone_mapping, cluster_dict)\n",
    "        if false_positive_pairs != []:\n",
    "            all_pairs.extend(false_positive_pairs)\n",
    "            \n",
    "    print(all_pairs)"
   ]
  },
  {
   "cell_type": "markdown",
   "id": "037d6450",
   "metadata": {},
   "source": [
    "## SPACE2"
   ]
  },
  {
   "cell_type": "code",
   "execution_count": 39,
   "id": "7987cd7a",
   "metadata": {},
   "outputs": [
    {
     "name": "stdout",
     "output_type": "stream",
     "text": [
      "1\n",
      "Number of multi-clone clusters: 753\n",
      "[]\n",
      "1_5\n",
      "Number of multi-clone clusters: 1930\n",
      "[]\n",
      "2\n",
      "Number of multi-clone clusters: 1917\n",
      "[]\n",
      "2_5\n",
      "Number of multi-clone clusters: 1562\n",
      "[]\n"
     ]
    }
   ],
   "source": [
    "# check for false positive pairs across different SPACE2 cutoffs\n",
    "for i, cutoff in enumerate(space2_dict.keys()):\n",
    "    \n",
    "    print(cutoff)\n",
    "    space2 = space2_dict[cutoff]\n",
    "    \n",
    "    clone_count = space2[\"cluster_by_rmsd\"].value_counts()\n",
    "    multi_clone_clusters = clone_count[clone_count > 1].index\n",
    "\n",
    "    multi_clone_space2 = space2[space2[\"cluster_by_rmsd\"].isin(multi_clone_clusters)]\n",
    "    print(\"Number of multi-clone clusters:\", len(multi_clone_space2[\"cluster_by_rmsd\"].unique()))\n",
    "    \n",
    "    all_pairs = []\n",
    "    \n",
    "    for cluster in multi_clone_clusters:\n",
    "\n",
    "        current_cluster = multi_clone_space2[multi_clone_space2[\"cluster_by_rmsd\"] == cluster][\"Clone_ID\"].values\n",
    "        false_positive_pairs = check_for_wrong_pairs_in_clusters(current_cluster, epitope_clone_mapping, cluster_dict)\n",
    "        if false_positive_pairs != []:\n",
    "            all_pairs.extend(false_positive_pairs)\n",
    "            \n",
    "    print(all_pairs)"
   ]
  },
  {
   "cell_type": "markdown",
   "id": "3744ed2b",
   "metadata": {},
   "source": [
    "## CDR length"
   ]
  },
  {
   "cell_type": "code",
   "execution_count": 40,
   "id": "27dfbe04",
   "metadata": {},
   "outputs": [
    {
     "name": "stdout",
     "output_type": "stream",
     "text": [
      "CDRH3 80% & CDR length\n",
      "Number of multi-clone clusters: 28\n",
      "[]\n"
     ]
    }
   ],
   "source": [
    "# check for false positive pairs using CDRH3 sequnce identity & CDR length matching \n",
    "print(\"CDRH3 80% & CDR length\")\n",
    "\n",
    "clone_count = igx_space2[\"Cluster_ID_combined\"].value_counts()\n",
    "multi_clone_clusters = clone_count[clone_count > 1].index\n",
    "\n",
    "multi_clone_combined = igx_space2[igx_space2[\"Cluster_ID_combined\"].isin(multi_clone_clusters)]\n",
    "print(\"Number of multi-clone clusters:\", len(multi_clone_combined[\"Cluster_ID_combined\"].unique()))\n",
    "\n",
    "multi_clone_combined\n",
    "\n",
    "all_pairs = []\n",
    "\n",
    "for cluster in multi_clone_clusters:\n",
    "\n",
    "    current_cluster = multi_clone_combined[multi_clone_combined[\"Cluster_ID_combined\"] == cluster][\"Clone_ID\"].values\n",
    "    false_positive_pairs = check_for_wrong_pairs_in_clusters(current_cluster, epitope_clone_mapping, cluster_dict)\n",
    "    if false_positive_pairs != []:\n",
    "        all_pairs.extend(false_positive_pairs)\n",
    "\n",
    "print(all_pairs)"
   ]
  },
  {
   "cell_type": "code",
   "execution_count": 41,
   "id": "247df118",
   "metadata": {},
   "outputs": [
    {
     "name": "stdout",
     "output_type": "stream",
     "text": [
      "CDR length\n",
      "Number of multi-clone clusters: 1083\n",
      "[]\n"
     ]
    }
   ],
   "source": [
    "# check for false positive pairs using CDR length matching only\n",
    "print(\"CDR length\")\n",
    "\n",
    "clone_count = space2[\"cluster_by_length\"].value_counts()\n",
    "multi_clone_clusters = clone_count[clone_count > 1].index\n",
    "\n",
    "multi_clone_length = space2[space2[\"cluster_by_length\"].isin(multi_clone_clusters)]\n",
    "print(\"Number of multi-clone clusters:\", len(multi_clone_length[\"cluster_by_length\"].unique()))\n",
    "\n",
    "all_pairs = []\n",
    "\n",
    "for cluster in multi_clone_clusters:\n",
    "\n",
    "    current_cluster = multi_clone_length[multi_clone_length[\"cluster_by_length\"] == cluster][\"Clone_ID\"].values\n",
    "    false_positive_pairs = check_for_wrong_pairs_in_clusters(current_cluster, epitope_clone_mapping, cluster_dict)\n",
    "    if false_positive_pairs != []:\n",
    "        all_pairs.extend(false_positive_pairs)\n",
    "\n",
    "print(all_pairs)"
   ]
  }
 ],
 "metadata": {
  "kernelspec": {
   "display_name": "Python 3",
   "language": "python",
   "name": "python3"
  },
  "language_info": {
   "codemirror_mode": {
    "name": "ipython",
    "version": 3
   },
   "file_extension": ".py",
   "mimetype": "text/x-python",
   "name": "python",
   "nbconvert_exporter": "python",
   "pygments_lexer": "ipython3",
   "version": "3.8.5"
  }
 },
 "nbformat": 4,
 "nbformat_minor": 5
}
